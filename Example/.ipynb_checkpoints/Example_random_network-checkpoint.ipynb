{
 "cells": [
  {
   "cell_type": "code",
   "execution_count": 1,
   "metadata": {},
   "outputs": [
    {
     "name": "stdout",
     "output_type": "stream",
     "text": [
      "\n",
      "Welcome to PyPhi!\n",
      "\n",
      "If you use PyPhi in your research, please cite the paper:\n",
      "\n",
      "  Mayner WGP, Marshall W, Albantakis L, Findlay G, Marchman R, Tononi G.\n",
      "  (2018). PyPhi: A toolbox for integrated information theory.\n",
      "  PLOS Computational Biology 14(7): e1006343.\n",
      "  https://doi.org/10.1371/journal.pcbi.1006343\n",
      "\n",
      "Documentation is available online (or with the built-in `help()` function):\n",
      "  https://pyphi.readthedocs.io\n",
      "\n",
      "To report issues, please use the issue tracker on the GitHub repository:\n",
      "  https://github.com/wmayner/pyphi\n",
      "\n",
      "For general discussion, you are welcome to join the pyphi-users group:\n",
      "  https://groups.google.com/forum/#!forum/pyphi-users\n",
      "\n",
      "To suppress this message, either:\n",
      "  - Set `WELCOME_OFF: true` in your `pyphi_config.yml` file, or\n",
      "  - Set the environment variable PYPHI_WELCOME_OFF to any value in your shell:\n",
      "        export PYPHI_WELCOME_OFF='yes'\n",
      "\n"
     ]
    },
    {
     "ename": "ModuleNotFoundError",
     "evalue": "No module named 'pyanimats'",
     "output_type": "error",
     "traceback": [
      "\u001b[0;31m---------------------------------------------------------------------------\u001b[0m",
      "\u001b[0;31mModuleNotFoundError\u001b[0m                       Traceback (most recent call last)",
      "\u001b[0;32m<ipython-input-1-5fb111496821>\u001b[0m in \u001b[0;36m<module>\u001b[0;34m\u001b[0m\n\u001b[1;32m      8\u001b[0m \u001b[0;32mimport\u001b[0m \u001b[0mmath\u001b[0m\u001b[0;34m\u001b[0m\u001b[0;34m\u001b[0m\u001b[0m\n\u001b[1;32m      9\u001b[0m \u001b[0;34m\u001b[0m\u001b[0m\n\u001b[0;32m---> 10\u001b[0;31m \u001b[0;32mfrom\u001b[0m \u001b[0mpyanimats\u001b[0m \u001b[0;32mimport\u001b[0m \u001b[0;34m*\u001b[0m\u001b[0;34m\u001b[0m\u001b[0;34m\u001b[0m\u001b[0m\n\u001b[0m\u001b[1;32m     11\u001b[0m \u001b[0;32mfrom\u001b[0m \u001b[0mactual_agency\u001b[0m \u001b[0;32mimport\u001b[0m \u001b[0;34m*\u001b[0m\u001b[0;34m\u001b[0m\u001b[0;34m\u001b[0m\u001b[0m\n\u001b[1;32m     12\u001b[0m \u001b[0;32mimport\u001b[0m \u001b[0mpyphi\u001b[0m\u001b[0;34m\u001b[0m\u001b[0;34m\u001b[0m\u001b[0m\n",
      "\u001b[0;31mModuleNotFoundError\u001b[0m: No module named 'pyanimats'"
     ]
    }
   ],
   "source": [
    "# Analysing initial outputs from Maggie's game\n",
    "import pickle\n",
    "import numpy as np\n",
    "import matplotlib.pyplot as plt\n",
    "from scipy.stats import entropy as ent\n",
    "import pyphi\n",
    "import time\n",
    "import math\n",
    "\n",
    "import sys\n",
    "sys.path.insert(0, 'path/to/your/py_file')\n",
    "from pyanimats import *\n",
    "from actual_agency import *\n",
    "import pyphi\n",
    "\n",
    "pyphi.config.VALIDATE_SUBSYSTEM_STATES = False\n",
    "pyphi.config.PARTITION_TYPE = 'TRI'\n",
    "\n",
    "%load_ext autoreload\n",
    "%autoreload 2"
   ]
  },
  {
   "cell_type": "code",
   "execution_count": 2,
   "metadata": {},
   "outputs": [],
   "source": [
    "# some functions for generating TPM and activity pattern for toy systems\n",
    "def gen_cm(n_nodes,n_sensors):\n",
    "    \n",
    "\n",
    "    # first, indicate the node types (excitatory (+1) or inhibitory (-1))\n",
    "    node_types = 2*np.random.randint(0,2,size=(n_nodes))-1\n",
    "    \n",
    "    # next, produce binary CM to indicate wether or not there is a connection\n",
    "    connection = np.random.randint(2,size=(n_nodes,n_nodes))\n",
    "    \n",
    "    # then, set synaptic weights for individual connections\n",
    "    w = np.random.rand(n_nodes,n_nodes)\n",
    "    \n",
    "    # finally, produce CM\n",
    "    cm = np.array([[w[i,j]*node_types[j]*connection[i,j] for i in range(n_nodes)] for j in range(n_nodes)])\n",
    "    cm[:,:2] = 0\n",
    "    \n",
    "    cm = np.around(cm,decimals=2)\n",
    "    \n",
    "    return cm\n",
    "\n",
    "def get_states(n_nodes):\n",
    "    return np.array(([list(('{:0'+str(n_nodes)+'d}').format(int(bin(x)[2:]))) for x in range(2**n_nodes)])).astype(int)\n",
    "\n",
    "def next_state(cm,activation,state):\n",
    "    \n",
    "    node_input = np.matmul(state,cm)\n",
    "    \n",
    "    if activation == 'sigmoid':\n",
    "        p_activation = [sigmoid(i) for i in node_input]\n",
    "        \n",
    "    elif activation == 'deterministic':\n",
    "        p_activation = [1 if i>0 else 0 for i in node_input]\n",
    "        \n",
    "    return p_activation\n",
    "\n",
    "\n",
    "def sample_tpm(cm,activation):\n",
    "    \n",
    "    nodes = cm.shape[0]\n",
    "    next_states = np.zeros((2**nodes,nodes))\n",
    "    states = get_states(nodes)\n",
    "    \n",
    "    for state,row in zip(states,range(2**nodes)):\n",
    "        next_states[row,:] = next_state(cm,activation,state)\n",
    "            \n",
    "    return next_states\n",
    "\n",
    "\n",
    "def gen_tpm(n_sensors, n_nodes,activation = 'sigmoid'):\n",
    "    \n",
    "    total_nodes = n_sensors + n_nodes\n",
    "    \n",
    "    # generate a CM\n",
    "    cm = gen_cm(total_nodes,n_sensors)\n",
    "    \n",
    "    # Generates TPM for the agent.\n",
    "    \n",
    "    tpm = sample_tpm(cm,'sigmoid')\n",
    "    \n",
    "    tpm = pyphi.convert.to_multidimensional(tpm)\n",
    "\n",
    "    return tpm,cm\n",
    "\n",
    "\n",
    "def sigmoid(x,slope=1,center=0):\n",
    "    return 1 / (1 + math.exp(-slope*(x-center)))\n",
    "\n",
    "def gen_BrainActivity(animat,trials,times,initial_state = None):\n",
    "    tpm = animat.brain.tpm\n",
    "    \n",
    "    if initial_state == None:\n",
    "        initial_state = np.random.randint(0,2,(trials,animat.n_nodes))\n",
    "    elif len(initial_state)==animat.n_nodes:\n",
    "        initial_state = np.matlib.repmat(initial_state,trials,1)\n",
    "    elif not len(initial_state) == trials:\n",
    "        print(\"randomizing intiial states as one was not defined for each trial\")\n",
    "        initial_state = np.random.randint(0,2,(trials,animat.n_nodes))\n",
    "        \n",
    "    threshold = np.random.rand(trials,times,animat.n_nodes)\n",
    "    brain_activity = np.zeros((trials,times,animat.n_nodes))\n",
    "    \n",
    "    for trial in range(trials):\n",
    "        brain_activity[trial,0,:] = initial_state[trial,:]\n",
    "        for time in range(1,times):\n",
    "            p_activation = tpm[tuple(brain_activity[trial,time-1,:].astype(int))]\n",
    "            next_state = [1 if p>t else 0 for p,t in zip(p_activation,threshold[trial,time,:])]\n",
    "            brain_activity[trial,time,:] = next_state\n",
    "            \n",
    "    return brain_activity.astype(int)\n",
    "    \n",
    "\n",
    "def save_phi_from_MCs(animat):\n",
    "    '''\n",
    "\n",
    "        Inputs:\n",
    "\n",
    "        Outputs:\n",
    "    '''\n",
    "\n",
    "    phis = []\n",
    "    for s in animat.unique_states:\n",
    "\n",
    "        if animat.MCs[state2num(s)] == None:\n",
    "            phis.append(0)\n",
    "        else:\n",
    "            phis.append(animat.MCs[state2num(s)].phi)\n",
    "    animat.phis = phis\n",
    "\n",
    "\n",
    "\n"
   ]
  },
  {
   "cell_type": "code",
   "execution_count": 3,
   "metadata": {
    "scrolled": true
   },
   "outputs": [
    {
     "ename": "NameError",
     "evalue": "name 'Animat' is not defined",
     "output_type": "error",
     "traceback": [
      "\u001b[0;31m---------------------------------------------------------------------------\u001b[0m",
      "\u001b[0;31mNameError\u001b[0m                                 Traceback (most recent call last)",
      "\u001b[0;32m<ipython-input-3-16af9a0dc293>\u001b[0m in \u001b[0;36m<module>\u001b[0;34m\u001b[0m\n\u001b[1;32m      1\u001b[0m \u001b[0;31m# creating an animat\u001b[0m\u001b[0;34m\u001b[0m\u001b[0;34m\u001b[0m\u001b[0;34m\u001b[0m\u001b[0m\n\u001b[0;32m----> 2\u001b[0;31m \u001b[0manimat\u001b[0m \u001b[0;34m=\u001b[0m \u001b[0mAnimat\u001b[0m\u001b[0;34m(\u001b[0m\u001b[0;34m{\u001b[0m\u001b[0;34m'hiddenNodes'\u001b[0m \u001b[0;34m:\u001b[0m \u001b[0;36m2\u001b[0m\u001b[0;34m}\u001b[0m\u001b[0;34m)\u001b[0m\u001b[0;34m\u001b[0m\u001b[0;34m\u001b[0m\u001b[0m\n\u001b[0m\u001b[1;32m      3\u001b[0m \u001b[0mtpm\u001b[0m\u001b[0;34m,\u001b[0m\u001b[0mcm\u001b[0m \u001b[0;34m=\u001b[0m \u001b[0mgen_tpm\u001b[0m\u001b[0;34m(\u001b[0m\u001b[0;36m4\u001b[0m\u001b[0;34m,\u001b[0m\u001b[0;36m2\u001b[0m\u001b[0;34m)\u001b[0m\u001b[0;34m\u001b[0m\u001b[0;34m\u001b[0m\u001b[0m\n\u001b[1;32m      4\u001b[0m \u001b[0manimat\u001b[0m\u001b[0;34m.\u001b[0m\u001b[0msaveBrain\u001b[0m\u001b[0;34m(\u001b[0m\u001b[0mtpm\u001b[0m\u001b[0;34m,\u001b[0m\u001b[0mnp\u001b[0m\u001b[0;34m.\u001b[0m\u001b[0mceil\u001b[0m\u001b[0;34m(\u001b[0m\u001b[0mnp\u001b[0m\u001b[0;34m.\u001b[0m\u001b[0mabs\u001b[0m\u001b[0;34m(\u001b[0m\u001b[0mcm\u001b[0m\u001b[0;34m)\u001b[0m\u001b[0;34m)\u001b[0m\u001b[0;34m)\u001b[0m\u001b[0;34m\u001b[0m\u001b[0;34m\u001b[0m\u001b[0m\n",
      "\u001b[0;31mNameError\u001b[0m: name 'Animat' is not defined"
     ]
    }
   ],
   "source": [
    "# creating an animat\n",
    "animat = Animat({'hiddenNodes' : 2})\n",
    "tpm,cm = gen_tpm(4,2)\n",
    "animat.saveBrain(tpm,np.ceil(np.abs(cm)))"
   ]
  },
  {
   "cell_type": "code",
   "execution_count": 12,
   "metadata": {},
   "outputs": [],
   "source": [
    "# creating brain activity from TPM\n",
    "animat.saveBrainActivity(gen_BrainActivity(animat,1,20))\n"
   ]
  },
  {
   "cell_type": "code",
   "execution_count": 13,
   "metadata": {},
   "outputs": [],
   "source": [
    "# finding and saving unique states and transitions\n",
    "animat.saveUniqueTransitions()\n",
    "animat.saveUniqueStates()"
   ]
  },
  {
   "cell_type": "code",
   "execution_count": 14,
   "metadata": {},
   "outputs": [
    {
     "name": "stdout",
     "output_type": "stream",
     "text": [
      "Finding MC for state number 0 out of 17 unique states\n",
      "Finding MC for state number 1 out of 17 unique states\n",
      "Finding MC for state number 2 out of 17 unique states\n",
      "Finding MC for state number 3 out of 17 unique states\n",
      "Finding MC for state number 4 out of 17 unique states\n",
      "Finding MC for state number 5 out of 17 unique states\n",
      "Finding MC for state number 6 out of 17 unique states\n",
      "Finding MC for state number 7 out of 17 unique states\n",
      "Finding MC for state number 8 out of 17 unique states\n",
      "Finding MC for state number 9 out of 17 unique states\n",
      "Finding MC for state number 10 out of 17 unique states\n",
      "Finding MC for state number 11 out of 17 unique states\n",
      "Finding MC for state number 12 out of 17 unique states\n",
      "Finding MC for state number 13 out of 17 unique states\n",
      "Finding MC for state number 14 out of 17 unique states\n",
      "Finding MC for state number 15 out of 17 unique states\n",
      "Finding MC for state number 16 out of 17 unique states\n"
     ]
    }
   ],
   "source": [
    "# calculating IIT parameters for all unique states \n",
    "pyphi.config.PROGRESS_BARS=False\n",
    "animat.save_major_complex()"
   ]
  },
  {
   "cell_type": "code",
   "execution_count": 15,
   "metadata": {},
   "outputs": [
    {
     "name": "stdout",
     "output_type": "stream",
     "text": [
      "Finding causes for transition number 0 out of 19 unique transitions\n",
      "Finding causes for transition number 1 out of 19 unique transitions\n",
      "Finding causes for transition number 2 out of 19 unique transitions\n",
      "Finding causes for transition number 3 out of 19 unique transitions\n",
      "Finding causes for transition number 4 out of 19 unique transitions\n",
      "Finding causes for transition number 5 out of 19 unique transitions\n",
      "Finding causes for transition number 6 out of 19 unique transitions\n",
      "Finding causes for transition number 7 out of 19 unique transitions\n",
      "Finding causes for transition number 8 out of 19 unique transitions\n",
      "Finding causes for transition number 9 out of 19 unique transitions\n",
      "Finding causes for transition number 10 out of 19 unique transitions\n",
      "Finding causes for transition number 11 out of 19 unique transitions\n",
      "Finding causes for transition number 12 out of 19 unique transitions\n",
      "Finding causes for transition number 13 out of 19 unique transitions\n",
      "Finding causes for transition number 14 out of 19 unique transitions\n",
      "Finding causes for transition number 15 out of 19 unique transitions\n",
      "Finding causes for transition number 16 out of 19 unique transitions\n",
      "Finding causes for transition number 17 out of 19 unique transitions\n",
      "Finding causes for transition number 18 out of 19 unique transitions\n"
     ]
    }
   ],
   "source": [
    "# calculating AC parameters for unique transitions\n",
    "animat.save_unique_causal_links()"
   ]
  },
  {
   "cell_type": "code",
   "execution_count": 16,
   "metadata": {},
   "outputs": [],
   "source": [
    "save_phi_from_MCs(animat)"
   ]
  },
  {
   "cell_type": "code",
   "execution_count": 17,
   "metadata": {},
   "outputs": [],
   "source": [
    "history = history_of_complexes(animat,only_state_changes=False)"
   ]
  },
  {
   "cell_type": "code",
   "execution_count": 18,
   "metadata": {},
   "outputs": [
    {
     "ename": "IndexError",
     "evalue": "list index out of range",
     "output_type": "error",
     "traceback": [
      "\u001b[0;31m---------------------------------------------------------------------------\u001b[0m",
      "\u001b[0;31mIndexError\u001b[0m                                Traceback (most recent call last)",
      "\u001b[0;32m<ipython-input-18-200d51d623d2>\u001b[0m in \u001b[0;36m<module>\u001b[0;34m\u001b[0m\n\u001b[0;32m----> 1\u001b[0;31m \u001b[0mMC_cause\u001b[0m \u001b[0;34m=\u001b[0m \u001b[0mget_causal_history\u001b[0m\u001b[0;34m(\u001b[0m\u001b[0manimat\u001b[0m\u001b[0;34m,\u001b[0m \u001b[0;36m0\u001b[0m\u001b[0;34m,\u001b[0m\u001b[0mMC\u001b[0m\u001b[0;34m=\u001b[0m\u001b[0;32mTrue\u001b[0m\u001b[0;34m)\u001b[0m\u001b[0;34m\u001b[0m\u001b[0;34m\u001b[0m\u001b[0m\n\u001b[0m",
      "\u001b[0;32m~/projects/AA_analysis/actual_agency.py\u001b[0m in \u001b[0;36mget_causal_history\u001b[0;34m(animat, trial, occurence_ixs, MC)\u001b[0m\n\u001b[1;32m    323\u001b[0m \u001b[0;34m\u001b[0m\u001b[0m\n\u001b[1;32m    324\u001b[0m         \u001b[0;32mfor\u001b[0m \u001b[0mt\u001b[0m \u001b[0;32min\u001b[0m \u001b[0mrange\u001b[0m\u001b[0;34m(\u001b[0m\u001b[0mstart_step\u001b[0m\u001b[0;34m,\u001b[0m\u001b[0mstart_step\u001b[0m \u001b[0;34m+\u001b[0m \u001b[0mn_times\u001b[0m\u001b[0;34m)\u001b[0m\u001b[0;34m:\u001b[0m\u001b[0;34m\u001b[0m\u001b[0;34m\u001b[0m\u001b[0m\n\u001b[0;32m--> 325\u001b[0;31m             \u001b[0mstate\u001b[0m \u001b[0;34m=\u001b[0m \u001b[0manimat\u001b[0m\u001b[0;34m.\u001b[0m\u001b[0munique_transitions\u001b[0m\u001b[0;34m[\u001b[0m\u001b[0mt\u001b[0m\u001b[0;34m]\u001b[0m\u001b[0;34m[\u001b[0m\u001b[0;36m1\u001b[0m\u001b[0;34m]\u001b[0m\u001b[0;34m\u001b[0m\u001b[0;34m\u001b[0m\u001b[0m\n\u001b[0m\u001b[1;32m    326\u001b[0m             \u001b[0mMC\u001b[0m \u001b[0;34m=\u001b[0m \u001b[0manimat\u001b[0m\u001b[0;34m.\u001b[0m\u001b[0mMCs\u001b[0m\u001b[0;34m[\u001b[0m\u001b[0mstate2num\u001b[0m\u001b[0;34m(\u001b[0m\u001b[0mstate\u001b[0m\u001b[0;34m)\u001b[0m\u001b[0;34m]\u001b[0m\u001b[0;34m\u001b[0m\u001b[0;34m\u001b[0m\u001b[0m\n\u001b[1;32m    327\u001b[0m             \u001b[0;32mif\u001b[0m \u001b[0;32mnot\u001b[0m \u001b[0mMC\u001b[0m \u001b[0;34m==\u001b[0m \u001b[0;32mNone\u001b[0m\u001b[0;34m:\u001b[0m\u001b[0;34m\u001b[0m\u001b[0;34m\u001b[0m\u001b[0m\n",
      "\u001b[0;31mIndexError\u001b[0m: list index out of range"
     ]
    }
   ],
   "source": [
    "MC_cause = get_causal_history(animat, 0,MC=True)"
   ]
  },
  {
   "cell_type": "code",
   "execution_count": 21,
   "metadata": {},
   "outputs": [
    {
     "data": {
      "text/plain": [
       "[3763,\n",
       " 3322,\n",
       " 3755,\n",
       " 2760,\n",
       " 566,\n",
       " 3458,\n",
       " 175,\n",
       " 3011,\n",
       " 226,\n",
       " 2230,\n",
       " 3467,\n",
       " 715,\n",
       " 726,\n",
       " 1457,\n",
       " 3160,\n",
       " 1546,\n",
       " 695,\n",
       " 3520,\n",
       " 60]"
      ]
     },
     "execution_count": 21,
     "metadata": {},
     "output_type": "execute_result"
    }
   ],
   "source": [
    "animat.enumerated_transitions"
   ]
  },
  {
   "cell_type": "code",
   "execution_count": null,
   "metadata": {},
   "outputs": [],
   "source": [
    "MC_cause\n",
    "complex_cause_history = [[1 if i in cause else 0 for i in range(animat.n_nodes)] for cause in MC_cause]\n"
   ]
  },
  {
   "cell_type": "code",
   "execution_count": null,
   "metadata": {},
   "outputs": [],
   "source": [
    "transition = animat.unique_transitions[0][0]+animat.unique_transitions[0][1]\n",
    "animat.causal_links[state2num(transition)].causal_links"
   ]
  },
  {
   "cell_type": "code",
   "execution_count": null,
   "metadata": {},
   "outputs": [],
   "source": [
    "history"
   ]
  },
  {
   "cell_type": "code",
   "execution_count": null,
   "metadata": {},
   "outputs": [],
   "source": [
    "animat.brain_activity"
   ]
  },
  {
   "cell_type": "code",
   "execution_count": null,
   "metadata": {},
   "outputs": [],
   "source": [
    "get_union_of_causes(animat,transition,ocurrence_ixs)"
   ]
  },
  {
   "cell_type": "code",
   "execution_count": null,
   "metadata": {},
   "outputs": [],
   "source": [
    "occ = (2,3)\n",
    "overlaps = [get_complex_purview_overlap2(animat,trans,occ) for trans in range(len(animat.unique_transitions))]"
   ]
  },
  {
   "cell_type": "code",
   "execution_count": null,
   "metadata": {},
   "outputs": [],
   "source": [
    "get_union_of_causes(animat,animat.unique_transitions[0],(2,3))"
   ]
  },
  {
   "cell_type": "code",
   "execution_count": null,
   "metadata": {},
   "outputs": [],
   "source": [
    "ba = np.vstack((animat.brain_activity,animat.brain_activity))"
   ]
  },
  {
   "cell_type": "code",
   "execution_count": null,
   "metadata": {},
   "outputs": [],
   "source": [
    "t = animat.unique_transitions[0]"
   ]
  },
  {
   "cell_type": "code",
   "execution_count": null,
   "metadata": {},
   "outputs": [],
   "source": [
    "animat.unique_transitions.index(t)"
   ]
  },
  {
   "cell_type": "code",
   "execution_count": null,
   "metadata": {},
   "outputs": [],
   "source": [
    "\n",
    "with open('animat.pkl', 'wb') as f:\n",
    "    pickle.dump(animat, f, pickle.HIGHEST_PROTOCOL)"
   ]
  },
  {
   "cell_type": "code",
   "execution_count": null,
   "metadata": {},
   "outputs": [],
   "source": [
    "\n",
    "with open('animat.pkl', 'rb') as f:\n",
    "    animat = pickle.load(f)"
   ]
  },
  {
   "cell_type": "code",
   "execution_count": null,
   "metadata": {},
   "outputs": [],
   "source": []
  }
 ],
 "metadata": {
  "kernelspec": {
   "display_name": "Python 3",
   "language": "python",
   "name": "python3"
  },
  "language_info": {
   "codemirror_mode": {
    "name": "ipython",
    "version": 3
   },
   "file_extension": ".py",
   "mimetype": "text/x-python",
   "name": "python",
   "nbconvert_exporter": "python",
   "pygments_lexer": "ipython3",
   "version": "3.7.4"
  }
 },
 "nbformat": 4,
 "nbformat_minor": 2
}
