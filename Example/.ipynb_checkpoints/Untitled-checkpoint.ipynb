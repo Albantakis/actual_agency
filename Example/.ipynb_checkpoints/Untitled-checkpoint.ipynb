{
 "cells": [
  {
   "cell_type": "code",
   "execution_count": 1,
   "metadata": {},
   "outputs": [
    {
     "name": "stdout",
     "output_type": "stream",
     "text": [
      "\n",
      "Welcome to PyPhi!\n",
      "\n",
      "If you use PyPhi in your research, please cite the paper:\n",
      "\n",
      "  Mayner WGP, Marshall W, Albantakis L, Findlay G, Marchman R, Tononi G.\n",
      "  (2018). PyPhi: A toolbox for integrated information theory.\n",
      "  PLOS Computational Biology 14(7): e1006343.\n",
      "  https://doi.org/10.1371/journal.pcbi.1006343\n",
      "\n",
      "Documentation is available online (or with the built-in `help()` function):\n",
      "  https://pyphi.readthedocs.io\n",
      "\n",
      "To report issues, please use the issue tracker on the GitHub repository:\n",
      "  https://github.com/wmayner/pyphi\n",
      "\n",
      "For general discussion, you are welcome to join the pyphi-users group:\n",
      "  https://groups.google.com/forum/#!forum/pyphi-users\n",
      "\n",
      "To suppress this message, either:\n",
      "  - Set `WELCOME_OFF: true` in your `pyphi_config.yml` file, or\n",
      "  - Set the environment variable PYPHI_WELCOME_OFF to any value in your shell:\n",
      "        export PYPHI_WELCOME_OFF='yes'\n",
      "\n"
     ]
    }
   ],
   "source": [
    "import matplotlib.pyplot as plt\n",
    "import matplotlib.colors as colors\n",
    "import numpy as np\n",
    "import pandas as pd\n",
    "import os\n",
    "import networkx as nx\n",
    "import pickle\n",
    "import sys\n",
    "\n",
    "import pyphi\n",
    "from pyphi import actual, config, Direction\n",
    "pyphi.config.VALIDATE_SUBSYSTEM_STATES = False\n",
    "pyphi.config.PARTITION_TYPE = 'TRI'\n",
    "\n",
    "# Change directory to where packages are stored\n",
    "os.chdir(\"..\")\n",
    "\n",
    "from pyanimats import *\n",
    "from pyTPM import *\n",
    "import actual_agency as agency\n",
    "os.chdir(\"Example\")\n",
    "\n",
    "\n",
    "#%matplotlib inline\n",
    "#%load_ext autoreload\n",
    "#%autoreload 2\n",
    "#%aimport pyTPM, pyanimats, actual_agency"
   ]
  },
  {
   "cell_type": "code",
   "execution_count": 2,
   "metadata": {},
   "outputs": [],
   "source": [
    "path='/Users/bjornjuel/projects/mabe_update/mabe/Experiments'\n",
    "experiment_list=['deterministic_1-7','deterministic_1-3-15-7','combined_1-7','combined_1-3-15-7']\n",
    "file_names=['genome.pkl','activity.pkl','LOD_data.pkl']\n",
    "gate_types=[['deterministic'],['deterministic'],['deterministic','decomposable'],['deterministic','decomposable']]"
   ]
  },
  {
   "cell_type": "code",
   "execution_count": null,
   "metadata": {
    "scrolled": true
   },
   "outputs": [],
   "source": [
    "dats = agency.load_data(path,experiment_list,gate_types=gate_types)"
   ]
  },
  {
   "cell_type": "code",
   "execution_count": null,
   "metadata": {
    "scrolled": false
   },
   "outputs": [],
   "source": [
    "# parse and pickle data\n",
    "with open('/Users/bjornjuel/projects/mabe_update/mabe/Experiments/loaded_data.pkl', 'wb') as f:\n",
    "        pickle.dump(dats, f)"
   ]
  },
  {
   "cell_type": "code",
   "execution_count": 3,
   "metadata": {},
   "outputs": [],
   "source": [
    "# Load already pickled data\n",
    "with open('/Users/bjornjuel/projects/mabe_update/mabe/Experiments/loaded_data.pkl', 'rb') as f:\n",
    "    dats = pickle.load(f)"
   ]
  },
  {
   "cell_type": "code",
   "execution_count": 4,
   "metadata": {},
   "outputs": [],
   "source": [
    "e = 0\n",
    "r = 0\n",
    "a = 0\n",
    "\n",
    "\n",
    "dats.loc[(dats['Experiment']=='deterministic_1-7') & (dats['Run']==r) & (dats['agent']==a)]['animat'][0]\n",
    "ani = dats.loc[(dats['Experiment']=='deterministic_1-7') & (dats['Run']==r) & (dats['agent']==a)]['animat'][0]"
   ]
  },
  {
   "cell_type": "code",
   "execution_count": null,
   "metadata": {},
   "outputs": [],
   "source": [
    "x,y = agency.get_occurrences(ani.brain_activity,2,4,2)"
   ]
  },
  {
   "cell_type": "code",
   "execution_count": null,
   "metadata": {},
   "outputs": [],
   "source": [
    "x.shape"
   ]
  },
  {
   "cell_type": "code",
   "execution_count": null,
   "metadata": {
    "scrolled": true
   },
   "outputs": [],
   "source": [
    "u,nn = agency.get_all_unique_transitions(ani.brain_activity)"
   ]
  },
  {
   "cell_type": "code",
   "execution_count": null,
   "metadata": {},
   "outputs": [],
   "source": [
    "ani.saveUniqueTransitions()"
   ]
  },
  {
   "cell_type": "code",
   "execution_count": null,
   "metadata": {},
   "outputs": [],
   "source": [
    "dats"
   ]
  },
  {
   "cell_type": "code",
   "execution_count": null,
   "metadata": {},
   "outputs": [],
   "source": [
    "u"
   ]
  },
  {
   "cell_type": "code",
   "execution_count": null,
   "metadata": {},
   "outputs": [],
   "source": [
    "ani.UniqueStates"
   ]
  },
  {
   "cell_type": "code",
   "execution_count": 5,
   "metadata": {},
   "outputs": [],
   "source": [
    "# for analysis, lets pick a single animat (can be looped over)\n",
    "Experiment = 'combined_1-7'\n",
    "Run = 10\n",
    "Agent = 60\n",
    "\n",
    "ani = dats.loc[(dats['Experiment']==Experiment) & (dats['agent']==Agent) & (dats['Run']==Run)]['animat'][0]\n"
   ]
  },
  {
   "cell_type": "code",
   "execution_count": null,
   "metadata": {
    "scrolled": true
   },
   "outputs": [],
   "source": [
    "# calculate phi and complex for every unique state\n",
    "\n",
    "# first get all unique states\n",
    "ani.UniqueStates,ani.UniqueStataeNums = agency.get_unique_states(ani.brain_activity)\n",
    "\n",
    "# looping through all unique states\n",
    "IIT_vals = []\n",
    "allphis = []\n",
    "allconcepts = []\n",
    "allsize = []\n",
    "alllabels = []\n",
    "for s in ani.UniqueStates:\n",
    "    sia = pyphi.compute.complexes(ani.brain,s)\n",
    "    \n",
    "    state_vals = []\n",
    "    if len(sia)>0:\n",
    "        for c in sia:\n",
    "            allphis.append(c.phi)\n",
    "            allconcepts.append(len(c.ces.mechanisms))\n",
    "            allsize.append(len(c.subsystem.node_indices))\n",
    "            alllabels.append(c.subsystem.node_indices)\n",
    "            \n",
    "            IIT_vals.append({'State' : s,\n",
    "                         'Phi' : c.phi, \n",
    "                         'NumConcepts' : len(c.ces.mechanisms), \n",
    "                         'SizeComplex' : len(c.subsystem.node_indices), \n",
    "                         'ComplexLabels' : c.subsystem.node_indices})\n",
    "    else:\n",
    "        IIT_vals.append({'State' : s,\n",
    "                     'Phi' : 0, \n",
    "                     'NumConcepts' : 0, \n",
    "                     'SizeComplex' : 0, \n",
    "                     'ComplexLabels' : None})\n",
    "\n",
    "    \n"
   ]
  },
  {
   "cell_type": "code",
   "execution_count": 10,
   "metadata": {},
   "outputs": [],
   "source": [
    "def get_unique_complexes(ani):\n",
    "    IIT_vals = []\n",
    "    allphis = []\n",
    "    allconcepts = []\n",
    "    allsize = []\n",
    "    alllabels = []\n",
    "    for s in ani.UniqueStates:\n",
    "        sia = pyphi.compute.complexes(ani.brain,s)\n",
    "\n",
    "        state_vals = []\n",
    "        if len(sia)>0:\n",
    "            for c in sia:\n",
    "                allphis.append(c.phi)\n",
    "                allconcepts.append(len(c.ces.mechanisms))\n",
    "                allsize.append(len(c.subsystem.node_indices))\n",
    "                alllabels.append(c.subsystem.node_indices)\n",
    "\n",
    "                IIT_vals.append({'State' : s,\n",
    "                             'Phi' : c.phi, \n",
    "                             'NumConcepts' : len(c.ces.mechanisms), \n",
    "                             'SizeComplex' : len(c.subsystem.node_indices), \n",
    "                             'ComplexLabels' : c.subsystem.node_indices,\n",
    "                             'NumComplexes' : len(sia)})\n",
    "        else:\n",
    "            IIT_vals.append({'State' : s,\n",
    "                         'Phi' : 0, \n",
    "                         'NumConcepts' : 0, \n",
    "                         'SizeComplex' : 0, \n",
    "                         'ComplexLabels' : None,\n",
    "                         'NumComplexes' : 0})\n",
    "    \n",
    "    ani.IIT_values = IIT_vals\n",
    "    ani.all_phis = allphis\n",
    "    ani.all_concepts = allconcepts\n",
    "    ani.all_labels = alllabels\n",
    "    return ani\n",
    "    "
   ]
  },
  {
   "cell_type": "code",
   "execution_count": 11,
   "metadata": {},
   "outputs": [
    {
     "ename": "AttributeError",
     "evalue": "'Animat' object has no attribute 'UniqueStates'",
     "output_type": "error",
     "traceback": [
      "\u001b[0;31m---------------------------------------------------------------------------\u001b[0m",
      "\u001b[0;31mAttributeError\u001b[0m                            Traceback (most recent call last)",
      "\u001b[0;32m<ipython-input-11-e8ecaba1c2e2>\u001b[0m in \u001b[0;36m<module>\u001b[0;34m\u001b[0m\n\u001b[0;32m----> 1\u001b[0;31m \u001b[0mani\u001b[0m \u001b[0;34m=\u001b[0m \u001b[0mget_unique_complexes\u001b[0m\u001b[0;34m(\u001b[0m\u001b[0mani\u001b[0m\u001b[0;34m)\u001b[0m\u001b[0;34m\u001b[0m\u001b[0;34m\u001b[0m\u001b[0m\n\u001b[0m",
      "\u001b[0;32m<ipython-input-10-ac76841f1cb5>\u001b[0m in \u001b[0;36mget_unique_complexes\u001b[0;34m(ani)\u001b[0m\n\u001b[1;32m      5\u001b[0m     \u001b[0mallsize\u001b[0m \u001b[0;34m=\u001b[0m \u001b[0;34m[\u001b[0m\u001b[0;34m]\u001b[0m\u001b[0;34m\u001b[0m\u001b[0;34m\u001b[0m\u001b[0m\n\u001b[1;32m      6\u001b[0m     \u001b[0malllabels\u001b[0m \u001b[0;34m=\u001b[0m \u001b[0;34m[\u001b[0m\u001b[0;34m]\u001b[0m\u001b[0;34m\u001b[0m\u001b[0;34m\u001b[0m\u001b[0m\n\u001b[0;32m----> 7\u001b[0;31m     \u001b[0;32mfor\u001b[0m \u001b[0ms\u001b[0m \u001b[0;32min\u001b[0m \u001b[0mani\u001b[0m\u001b[0;34m.\u001b[0m\u001b[0mUniqueStates\u001b[0m\u001b[0;34m:\u001b[0m\u001b[0;34m\u001b[0m\u001b[0;34m\u001b[0m\u001b[0m\n\u001b[0m\u001b[1;32m      8\u001b[0m         \u001b[0msia\u001b[0m \u001b[0;34m=\u001b[0m \u001b[0mpyphi\u001b[0m\u001b[0;34m.\u001b[0m\u001b[0mcompute\u001b[0m\u001b[0;34m.\u001b[0m\u001b[0mcomplexes\u001b[0m\u001b[0;34m(\u001b[0m\u001b[0mani\u001b[0m\u001b[0;34m.\u001b[0m\u001b[0mbrain\u001b[0m\u001b[0;34m,\u001b[0m\u001b[0ms\u001b[0m\u001b[0;34m)\u001b[0m\u001b[0;34m\u001b[0m\u001b[0;34m\u001b[0m\u001b[0m\n\u001b[1;32m      9\u001b[0m \u001b[0;34m\u001b[0m\u001b[0m\n",
      "\u001b[0;31mAttributeError\u001b[0m: 'Animat' object has no attribute 'UniqueStates'"
     ]
    }
   ],
   "source": [
    "ani = get_unique_complexes(ani)"
   ]
  },
  {
   "cell_type": "code",
   "execution_count": 8,
   "metadata": {},
   "outputs": [
    {
     "ename": "NameError",
     "evalue": "name 'IIT_vals' is not defined",
     "output_type": "error",
     "traceback": [
      "\u001b[0;31m---------------------------------------------------------------------------\u001b[0m",
      "\u001b[0;31mNameError\u001b[0m                                 Traceback (most recent call last)",
      "\u001b[0;32m<ipython-input-8-3c2e5e82dbe0>\u001b[0m in \u001b[0;36m<module>\u001b[0;34m\u001b[0m\n\u001b[0;32m----> 1\u001b[0;31m \u001b[0mprint\u001b[0m\u001b[0;34m(\u001b[0m\u001b[0;34m[\u001b[0m\u001b[0mIIT_vals\u001b[0m\u001b[0;34m[\u001b[0m\u001b[0mi\u001b[0m\u001b[0;34m]\u001b[0m\u001b[0;34m[\u001b[0m\u001b[0;34m'NumComplexes'\u001b[0m\u001b[0;34m]\u001b[0m \u001b[0;32mfor\u001b[0m \u001b[0mi\u001b[0m \u001b[0;32min\u001b[0m \u001b[0mrange\u001b[0m\u001b[0;34m(\u001b[0m\u001b[0mlen\u001b[0m\u001b[0;34m(\u001b[0m\u001b[0mIIT_vals\u001b[0m\u001b[0;34m)\u001b[0m\u001b[0;34m)\u001b[0m\u001b[0;34m]\u001b[0m\u001b[0;34m)\u001b[0m\u001b[0;34m\u001b[0m\u001b[0;34m\u001b[0m\u001b[0m\n\u001b[0m",
      "\u001b[0;31mNameError\u001b[0m: name 'IIT_vals' is not defined"
     ]
    }
   ],
   "source": [
    "print([IIT_vals[i]['NumComplexes'] for i in range(len(IIT_vals))])"
   ]
  },
  {
   "cell_type": "code",
   "execution_count": 6,
   "metadata": {},
   "outputs": [
    {
     "name": "stderr",
     "output_type": "stream",
     "text": [
      "/Users/bjornjuel/.virtualenvs/actualagency/lib/python3.7/site-packages/networkx/drawing/nx_pylab.py:579: MatplotlibDeprecationWarning: \n",
      "The iterable function was deprecated in Matplotlib 3.1 and will be removed in 3.3. Use np.iterable instead.\n",
      "  if not cb.iterable(width):\n",
      "/Users/bjornjuel/.virtualenvs/actualagency/lib/python3.7/site-packages/networkx/drawing/nx_pylab.py:676: MatplotlibDeprecationWarning: \n",
      "The iterable function was deprecated in Matplotlib 3.1 and will be removed in 3.3. Use np.iterable instead.\n",
      "  if cb.iterable(node_size):  # many node sizes\n"
     ]
    },
    {
     "data": {
      "image/png": "[encoded data removed]",
      "text/plain": [
       "<Figure size 432x288 with 1 Axes>"
      ]
     },
     "metadata": {},
     "output_type": "display_data"
    }
   ],
   "source": [
    "ani.plot_brain()"
   ]
  },
  {
   "cell_type": "code",
   "execution_count": null,
   "metadata": {},
   "outputs": [],
   "source": [
    "# give the animat object a complex and a value of phi associated to every state in its activity\n",
    "\n",
    "\n"
   ]
  },
  {
   "cell_type": "code",
   "execution_count": null,
   "metadata": {},
   "outputs": [],
   "source": [
    "# calculate direct cause for motor activity for every unique transition \n",
    "\n",
    "\n"
   ]
  },
  {
   "cell_type": "code",
   "execution_count": null,
   "metadata": {},
   "outputs": [],
   "source": [
    "# Backtrack the causes of action for every motor state and add result to the animat structure\n",
    "\n",
    "\n"
   ]
  },
  {
   "cell_type": "code",
   "execution_count": null,
   "metadata": {},
   "outputs": [],
   "source": [
    "s = ani.UniqueStates[0]\n",
    "s\n"
   ]
  },
  {
   "cell_type": "code",
   "execution_count": null,
   "metadata": {},
   "outputs": [],
   "source": [
    "out"
   ]
  },
  {
   "cell_type": "code",
   "execution_count": null,
   "metadata": {},
   "outputs": [],
   "source": [
    "dats.loc[(dats['Experiment']==Experiment) & (dats['agent']==Agent) & (dats['Run']==Run)]['mean Phi'][0]"
   ]
  },
  {
   "cell_type": "code",
   "execution_count": null,
   "metadata": {},
   "outputs": [],
   "source": [
    "ani.brain"
   ]
  },
  {
   "cell_type": "code",
   "execution_count": null,
   "metadata": {},
   "outputs": [],
   "source": []
  }
 ],
 "metadata": {
  "kernelspec": {
   "display_name": "Python 3",
   "language": "python",
   "name": "python3"
  },
  "language_info": {
   "codemirror_mode": {
    "name": "ipython",
    "version": 3
   },
   "file_extension": ".py",
   "mimetype": "text/x-python",
   "name": "python",
   "nbconvert_exporter": "python",
   "pygments_lexer": "ipython3",
   "version": "3.7.4"
  }
 },
 "nbformat": 4,
 "nbformat_minor": 2
}
