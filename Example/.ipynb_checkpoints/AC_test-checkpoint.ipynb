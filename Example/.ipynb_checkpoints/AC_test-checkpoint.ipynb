{
 "cells": [
  {
   "cell_type": "code",
   "execution_count": 1,
   "metadata": {
    "scrolled": true
   },
   "outputs": [
    {
     "name": "stdout",
     "output_type": "stream",
     "text": [
      "\n",
      "Welcome to PyPhi!\n",
      "\n",
      "If you use PyPhi in your research, please cite the paper:\n",
      "\n",
      "  Mayner WGP, Marshall W, Albantakis L, Findlay G, Marchman R, Tononi G.\n",
      "  (2018). PyPhi: A toolbox for integrated information theory.\n",
      "  PLOS Computational Biology 14(7): e1006343.\n",
      "  https://doi.org/10.1371/journal.pcbi.1006343\n",
      "\n",
      "Documentation is available online (or with the built-in `help()` function):\n",
      "  https://pyphi.readthedocs.io\n",
      "\n",
      "To report issues, please use the issue tracker on the GitHub repository:\n",
      "  https://github.com/wmayner/pyphi\n",
      "\n",
      "For general discussion, you are welcome to join the pyphi-users group:\n",
      "  https://groups.google.com/forum/#!forum/pyphi-users\n",
      "\n",
      "To suppress this message, either:\n",
      "  - Set `WELCOME_OFF: true` in your `pyphi_config.yml` file, or\n",
      "  - Set the environment variable PYPHI_WELCOME_OFF to any value in your shell:\n",
      "        export PYPHI_WELCOME_OFF='yes'\n",
      "\n"
     ]
    }
   ],
   "source": [
    "import matplotlib.pyplot as plt\n",
    "import matplotlib.colors as colors\n",
    "import numpy as np\n",
    "import pandas as pd\n",
    "import os\n",
    "import networkx as nx\n",
    "import pickle\n",
    "import sys\n",
    "\n",
    "import pyphi\n",
    "from pyphi import actual, config, Direction\n",
    "pyphi.config.VALIDATE_SUBSYSTEM_STATES = False\n",
    "pyphi.config.PARTITION_TYPE = 'TRI'\n",
    "\n",
    "# Change directory to where packages are stored\n",
    "os.chdir(\"..\")\n",
    "\n",
    "from pyanimats import *\n",
    "from pyTPM import *\n",
    "import actual_agency as agency\n",
    "os.chdir(\"Example\")\n",
    "\n",
    "\n",
    "#%matplotlib inline\n",
    "#%load_ext autoreload\n",
    "#%autoreload 2\n",
    "#%aimport pyTPM, pyanimats, actual_agency"
   ]
  },
  {
   "cell_type": "code",
   "execution_count": 2,
   "metadata": {},
   "outputs": [],
   "source": [
    "# Load already pickled data\n",
    "with open('/Users/bjornjuel/projects/mabe_update/mabe/Experiments/loaded_data.pkl', 'rb') as f:\n",
    "    dats = pickle.load(f)"
   ]
  },
  {
   "cell_type": "code",
   "execution_count": 3,
   "metadata": {},
   "outputs": [],
   "source": [
    "# Pick out a specific animat from the data for further analysis\n",
    "experiment = 'combined_1-3-15-7'\n",
    "run = 0\n",
    "agent = 0\n",
    "\n",
    "ani = dats.loc[(dats['Experiment']==experiment) & (dats['Run']==run) & (dats['agent']==agent)]['animat'][0]"
   ]
  },
  {
   "cell_type": "code",
   "execution_count": 4,
   "metadata": {},
   "outputs": [],
   "source": [
    "# find and save the unique transitions and states to the animat object (if not already there)\n",
    "ani.saveUniqueTransitions()\n",
    "ani.saveUniqueStates()"
   ]
  },
  {
   "cell_type": "code",
   "execution_count": null,
   "metadata": {
    "scrolled": false
   },
   "outputs": [],
   "source": [
    "\n"
   ]
  },
  {
   "cell_type": "code",
   "execution_count": null,
   "metadata": {},
   "outputs": [],
   "source": [
    "ani.sias"
   ]
  },
  {
   "cell_type": "code",
   "execution_count": 5,
   "metadata": {
    "scrolled": true
   },
   "outputs": [
    {
     "name": "stderr",
     "output_type": "stream",
     "text": [
      "                                                        \r"
     ]
    }
   ],
   "source": [
    "# Calculate IIT properties for all unique states\n",
    "ani.save_system_irreducibility_analysis()\n"
   ]
  },
  {
   "cell_type": "code",
   "execution_count": 6,
   "metadata": {},
   "outputs": [
    {
     "ename": "KeyError",
     "evalue": "0",
     "output_type": "error",
     "traceback": [
      "\u001b[0;31m---------------------------------------------------------------------------\u001b[0m",
      "\u001b[0;31mKeyError\u001b[0m                                  Traceback (most recent call last)",
      "\u001b[0;32m<ipython-input-6-d39204adf4d5>\u001b[0m in \u001b[0;36m<module>\u001b[0;34m\u001b[0m\n\u001b[1;32m      7\u001b[0m \u001b[0meffect_ixs\u001b[0m \u001b[0;34m=\u001b[0m \u001b[0mani\u001b[0m\u001b[0;34m.\u001b[0m\u001b[0mhidden_ixs\u001b[0m\u001b[0;34m+\u001b[0m\u001b[0mani\u001b[0m\u001b[0;34m.\u001b[0m\u001b[0mmotor_ixs\u001b[0m\u001b[0;34m\u001b[0m\u001b[0;34m\u001b[0m\u001b[0m\n\u001b[1;32m      8\u001b[0m \u001b[0mTransition\u001b[0m \u001b[0;34m=\u001b[0m \u001b[0mpyphi\u001b[0m\u001b[0;34m.\u001b[0m\u001b[0mactual\u001b[0m\u001b[0;34m.\u001b[0m\u001b[0mTransition\u001b[0m\u001b[0;34m(\u001b[0m\u001b[0mani\u001b[0m\u001b[0;34m.\u001b[0m\u001b[0mbrain\u001b[0m\u001b[0;34m,\u001b[0m \u001b[0mt\u001b[0m\u001b[0;34m[\u001b[0m\u001b[0;36m0\u001b[0m\u001b[0;34m]\u001b[0m\u001b[0;34m,\u001b[0m \u001b[0mt\u001b[0m\u001b[0;34m[\u001b[0m\u001b[0;36m1\u001b[0m\u001b[0;34m]\u001b[0m\u001b[0;34m,\u001b[0m \u001b[0mcause_ixs\u001b[0m\u001b[0;34m,\u001b[0m \u001b[0meffect_ixs\u001b[0m\u001b[0;34m)\u001b[0m\u001b[0;34m\u001b[0m\u001b[0;34m\u001b[0m\u001b[0m\n\u001b[0;32m----> 9\u001b[0;31m \u001b[0mCL\u001b[0m \u001b[0;34m=\u001b[0m \u001b[0mpyphi\u001b[0m\u001b[0;34m.\u001b[0m\u001b[0mactual\u001b[0m\u001b[0;34m.\u001b[0m\u001b[0mdirected_account\u001b[0m\u001b[0;34m(\u001b[0m\u001b[0mTransition\u001b[0m\u001b[0;34m,\u001b[0m \u001b[0mdirection\u001b[0m\u001b[0;34m=\u001b[0m\u001b[0;36m0\u001b[0m\u001b[0;34m)\u001b[0m\u001b[0;34m\u001b[0m\u001b[0;34m\u001b[0m\u001b[0m\n\u001b[0m\u001b[1;32m     10\u001b[0m \u001b[0;32mif\u001b[0m \u001b[0mlen\u001b[0m\u001b[0;34m(\u001b[0m\u001b[0msia\u001b[0m\u001b[0;34m)\u001b[0m\u001b[0;34m==\u001b[0m\u001b[0;36m0\u001b[0m\u001b[0;34m:\u001b[0m\u001b[0;34m\u001b[0m\u001b[0;34m\u001b[0m\u001b[0m\n\u001b[1;32m     11\u001b[0m     \u001b[0mdirect_causes\u001b[0m\u001b[0;34m.\u001b[0m\u001b[0mupdate\u001b[0m\u001b[0;34m(\u001b[0m\u001b[0;34m{\u001b[0m\u001b[0mstate2num\u001b[0m\u001b[0;34m(\u001b[0m\u001b[0ms\u001b[0m\u001b[0;34m)\u001b[0m \u001b[0;34m:\u001b[0m \u001b[0;32mNone\u001b[0m\u001b[0;34m}\u001b[0m\u001b[0;34m)\u001b[0m\u001b[0;34m\u001b[0m\u001b[0;34m\u001b[0m\u001b[0m\n",
      "\u001b[0;32m~/.virtualenvs/actualagency/lib/python3.7/site-packages/pyphi/actual.py\u001b[0m in \u001b[0;36mdirected_account\u001b[0;34m(transition, direction, mechanisms, purviews, allow_neg)\u001b[0m\n\u001b[1;32m    457\u001b[0m     \u001b[0;34m\"\"\"Return the set of all |CausalLinks| of the specified direction.\"\"\"\u001b[0m\u001b[0;34m\u001b[0m\u001b[0;34m\u001b[0m\u001b[0m\n\u001b[1;32m    458\u001b[0m     \u001b[0;32mif\u001b[0m \u001b[0mmechanisms\u001b[0m \u001b[0;32mis\u001b[0m \u001b[0;32mFalse\u001b[0m\u001b[0;34m:\u001b[0m\u001b[0;34m\u001b[0m\u001b[0;34m\u001b[0m\u001b[0m\n\u001b[0;32m--> 459\u001b[0;31m         mechanisms = utils.powerset(transition.mechanism_indices(direction),\n\u001b[0m\u001b[1;32m    460\u001b[0m                                     nonempty=True)\n\u001b[1;32m    461\u001b[0m     links = [\n",
      "\u001b[0;32m~/.virtualenvs/actualagency/lib/python3.7/site-packages/pyphi/actual.py\u001b[0m in \u001b[0;36mmechanism_indices\u001b[0;34m(self, direction)\u001b[0m\n\u001b[1;32m    283\u001b[0m             \u001b[0mDirection\u001b[0m\u001b[0;34m.\u001b[0m\u001b[0mCAUSE\u001b[0m\u001b[0;34m:\u001b[0m \u001b[0mself\u001b[0m\u001b[0;34m.\u001b[0m\u001b[0meffect_indices\u001b[0m\u001b[0;34m,\u001b[0m\u001b[0;34m\u001b[0m\u001b[0;34m\u001b[0m\u001b[0m\n\u001b[1;32m    284\u001b[0m             \u001b[0mDirection\u001b[0m\u001b[0;34m.\u001b[0m\u001b[0mEFFECT\u001b[0m\u001b[0;34m:\u001b[0m \u001b[0mself\u001b[0m\u001b[0;34m.\u001b[0m\u001b[0mcause_indices\u001b[0m\u001b[0;34m\u001b[0m\u001b[0;34m\u001b[0m\u001b[0m\n\u001b[0;32m--> 285\u001b[0;31m         }[direction]\n\u001b[0m\u001b[1;32m    286\u001b[0m \u001b[0;34m\u001b[0m\u001b[0m\n\u001b[1;32m    287\u001b[0m     \u001b[0;32mdef\u001b[0m \u001b[0mpurview_indices\u001b[0m\u001b[0;34m(\u001b[0m\u001b[0mself\u001b[0m\u001b[0;34m,\u001b[0m \u001b[0mdirection\u001b[0m\u001b[0;34m)\u001b[0m\u001b[0;34m:\u001b[0m\u001b[0;34m\u001b[0m\u001b[0;34m\u001b[0m\u001b[0m\n",
      "\u001b[0;31mKeyError\u001b[0m: 0"
     ]
    }
   ],
   "source": [
    "# calulate causal account for all unique transitions\n",
    "t = ani.unique_transitions[0]\n",
    "#direct_causes = {}\n",
    "#for t in self.unique_transitions:\n",
    "transition_number = state2num(list(t[0]+t[1]))\n",
    "cause_ixs = ani.sensor_ixs+ani.hidden_ixs\n",
    "effect_ixs = ani.hidden_ixs+ani.motor_ixs\n",
    "Transition = pyphi.actual.Transition(ani.brain, t[0], t[1], cause_ixs, effect_ixs)\n",
    "CL = pyphi.actual.directed_account(Transition, direction.CAUSE)\n",
    "if len(sia)==0:\n",
    "    direct_causes.update({state2num(s) : None})\n",
    "else:\n",
    "    direct_causes.update({state2num(s) : sia})\n",
    "#ani.causal_links = CL"
   ]
  },
  {
   "cell_type": "code",
   "execution_count": null,
   "metadata": {},
   "outputs": [],
   "source": [
    "t = ((np.array([0, 0, 1, 1, 0, 1, 0, 0]),), (np.array([0, 0, 0, 1, 1, 1, 1, 0]),))\n",
    "allt = [((np.array([1, 0, 0, 0, 0, 0, 0, 0]),), (np.array([0, 0, 1, 1, 0, 1, 0, 0]),))]\n",
    "\n",
    "list(t) in allt"
   ]
  },
  {
   "cell_type": "code",
   "execution_count": null,
   "metadata": {},
   "outputs": [],
   "source": [
    "pyphi"
   ]
  },
  {
   "cell_type": "code",
   "execution_count": null,
   "metadata": {},
   "outputs": [],
   "source": [
    "lt = []\n",
    "lt.append(ani.get_transition(0, 1))\n",
    "lt.append(ani.get_transition(0, 2))\n",
    "lt\n",
    "\n",
    "t = ((1, 0, 0, 0, 0, 0, 0, 0), (0, 0, 1, 1, 0, 1, 0, 0))\n",
    "\n",
    "t in lt"
   ]
  },
  {
   "cell_type": "code",
   "execution_count": null,
   "metadata": {
    "scrolled": true
   },
   "outputs": [],
   "source": [
    "# setting required variables and output lists\n",
    "n_trials = ani.brain_activity.shape[0]\n",
    "n_times = ani.brain_activity.shape[1]\n",
    "unique_transitions = []\n",
    "unique_transitions_compressed = []\n",
    "unique_idxs = []\n",
    "\n",
    "# defining the trials that will be searched\n",
    "trials = range(n_trials)\n",
    "\n",
    "# looping through trials and time points\n",
    "for trial in trials:\n",
    "    for t in range(1,n_times):\n",
    "        # getting current transition and checking if it is new\n",
    "        transition = ani.get_transition(trial, t, trim=True)\n",
    "        print(transition)\n",
    "        print(unique_transitions)\n",
    "        if transition not in unique_transitions:\n",
    "            unique_transitions.append(transition)\n",
    "            unique_idxs.append((trial, t))"
   ]
  },
  {
   "cell_type": "code",
   "execution_count": null,
   "metadata": {},
   "outputs": [],
   "source": [
    "t"
   ]
  },
  {
   "cell_type": "code",
   "execution_count": null,
   "metadata": {},
   "outputs": [],
   "source": [
    "# for analysis, lets pick a single animat (can be looped over)\n",
    "Experiment = 'combined_1-7'\n",
    "Run = 10\n",
    "Agent = 60\n",
    "\n",
    "ani = dats.loc[(dats['Experiment']==Experiment) & (dats['agent']==Agent) & (dats['Run']==Run)]['animat'][0]\n"
   ]
  },
  {
   "cell_type": "code",
   "execution_count": null,
   "metadata": {
    "scrolled": true
   },
   "outputs": [],
   "source": [
    "# calculate phi and complex for every unique state\n",
    "\n",
    "# first get all unique states\n",
    "ani.UniqueStates,ani.UniqueStataeNums = agency.get_unique_states(ani.brain_activity)\n",
    "\n",
    "# looping through all unique states\n",
    "IIT_vals = []\n",
    "allphis = []\n",
    "allconcepts = []\n",
    "allsize = []\n",
    "alllabels = []\n",
    "for s in ani.UniqueStates:\n",
    "    sia = pyphi.compute.complexes(ani.brain,s)\n",
    "    \n",
    "    state_vals = []\n",
    "    if len(sia)>0:\n",
    "        for c in sia:\n",
    "            allphis.append(c.phi)\n",
    "            allconcepts.append(len(c.ces.mechanisms))\n",
    "            allsize.append(len(c.subsystem.node_indices))\n",
    "            alllabels.append(c.subsystem.node_indices)\n",
    "            \n",
    "            IIT_vals.append({'State' : s,\n",
    "                         'Phi' : c.phi, \n",
    "                         'NumConcepts' : len(c.ces.mechanisms), \n",
    "                         'SizeComplex' : len(c.subsystem.node_indices), \n",
    "                         'ComplexLabels' : c.subsystem.node_indices})\n",
    "    else:\n",
    "        IIT_vals.append({'State' : s,\n",
    "                     'Phi' : 0, \n",
    "                     'NumConcepts' : 0, \n",
    "                     'SizeComplex' : 0, \n",
    "                     'ComplexLabels' : None})\n",
    "\n",
    "    \n"
   ]
  },
  {
   "cell_type": "code",
   "execution_count": null,
   "metadata": {},
   "outputs": [],
   "source": [
    "def get_unique_complexes(ani):\n",
    "    IIT_vals = []\n",
    "    allphis = []\n",
    "    allconcepts = []\n",
    "    allsize = []\n",
    "    alllabels = []\n",
    "    for s in ani.UniqueStates:\n",
    "        sia = pyphi.compute.complexes(ani.brain,s)\n",
    "\n",
    "        state_vals = []\n",
    "        if len(sia)>0:\n",
    "            for c in sia:\n",
    "                allphis.append(c.phi)\n",
    "                allconcepts.append(len(c.ces.mechanisms))\n",
    "                allsize.append(len(c.subsystem.node_indices))\n",
    "                alllabels.append(c.subsystem.node_indices)\n",
    "\n",
    "                IIT_vals.append({'State' : s,\n",
    "                             'Phi' : c.phi, \n",
    "                             'NumConcepts' : len(c.ces.mechanisms), \n",
    "                             'SizeComplex' : len(c.subsystem.node_indices), \n",
    "                             'ComplexLabels' : c.subsystem.node_indices,\n",
    "                             'NumComplexes' : len(sia)})\n",
    "        else:\n",
    "            IIT_vals.append({'State' : s,\n",
    "                         'Phi' : 0, \n",
    "                         'NumConcepts' : 0, \n",
    "                         'SizeComplex' : 0, \n",
    "                         'ComplexLabels' : None,\n",
    "                         'NumComplexes' : 0})\n",
    "    \n",
    "    ani.IIT_values = IIT_vals\n",
    "    ani.all_phis = allphis\n",
    "    ani.all_concepts = allconcepts\n",
    "    ani.all_labels = alllabels\n",
    "    return ani\n",
    "    "
   ]
  },
  {
   "cell_type": "code",
   "execution_count": null,
   "metadata": {},
   "outputs": [],
   "source": [
    "\n",
    "\n",
    "# first get all unique states\n",
    "ani.UniqueStates,ani.UniqueStataeNums = agency.get_unique_states(ani.brain_activity)\n"
   ]
  },
  {
   "cell_type": "code",
   "execution_count": null,
   "metadata": {
    "scrolled": true
   },
   "outputs": [],
   "source": [
    "ani = get_unique_complexes(ani)"
   ]
  },
  {
   "cell_type": "code",
   "execution_count": null,
   "metadata": {
    "scrolled": true
   },
   "outputs": [],
   "source": [
    "\n",
    "IIT_vals = []\n",
    "allphis = []\n",
    "allconcepts = []\n",
    "allsize = []\n",
    "alllabels = []\n",
    "for s in ani.UniqueStates:\n",
    "    sia = pyphi.compute.complexes(ani.brain,s)\n",
    "\n",
    "    state_vals = []\n",
    "    if len(sia)>0:\n",
    "        for c in sia:\n",
    "            allphis.append(c.phi)\n",
    "            allconcepts.append(len(c.ces.mechanisms))\n",
    "            allsize.append(len(c.subsystem.node_indices))\n",
    "            alllabels.append(c.subsystem.node_indices)\n",
    "\n",
    "            IIT_vals.append({'State' : s,\n",
    "                         'Phi' : c.phi, \n",
    "                         'NumConcepts' : len(c.ces.mechanisms), \n",
    "                         'SizeComplex' : len(c.subsystem.node_indices), \n",
    "                         'ComplexLabels' : c.subsystem.node_indices,\n",
    "                         'NumComplexes' : len(sia)})\n",
    "    else:\n",
    "        IIT_vals.append({'State' : s,\n",
    "                     'Phi' : 0, \n",
    "                     'NumConcepts' : 0, \n",
    "                     'SizeComplex' : 0, \n",
    "                     'ComplexLabels' : None,\n",
    "                     'NumComplexes' : 0})\n",
    "\n",
    "ani.IIT_values = IIT_vals\n",
    "ani.all_phis = allphis\n",
    "ani.all_concepts = allconcepts\n",
    "ani.all_labels = alllabels"
   ]
  },
  {
   "cell_type": "code",
   "execution_count": null,
   "metadata": {},
   "outputs": [],
   "source": [
    "print([ani.IIT_values[i]['NumComplexes'] for i in range(len(ani.IIT_values))])"
   ]
  },
  {
   "cell_type": "code",
   "execution_count": null,
   "metadata": {},
   "outputs": [],
   "source": [
    "# give the animat object a complex and a value of phi associated to every state in its activity\n",
    "\n",
    "\n"
   ]
  },
  {
   "cell_type": "code",
   "execution_count": null,
   "metadata": {},
   "outputs": [],
   "source": [
    "# calculate direct cause for motor activity for every unique transition \n",
    "\n",
    "\n"
   ]
  },
  {
   "cell_type": "code",
   "execution_count": null,
   "metadata": {},
   "outputs": [],
   "source": [
    "# Backtrack the causes of action for every motor state and add result to the animat structure\n",
    "\n",
    "\n"
   ]
  },
  {
   "cell_type": "code",
   "execution_count": null,
   "metadata": {},
   "outputs": [],
   "source": [
    "s = ani.UniqueStates[0]\n",
    "s\n"
   ]
  },
  {
   "cell_type": "code",
   "execution_count": null,
   "metadata": {},
   "outputs": [],
   "source": [
    "out"
   ]
  },
  {
   "cell_type": "code",
   "execution_count": null,
   "metadata": {},
   "outputs": [],
   "source": [
    "dats.loc[(dats['Experiment']==Experiment) & (dats['agent']==Agent) & (dats['Run']==Run)]['mean Phi'][0]"
   ]
  },
  {
   "cell_type": "code",
   "execution_count": null,
   "metadata": {},
   "outputs": [],
   "source": [
    "ani.brain"
   ]
  },
  {
   "cell_type": "code",
   "execution_count": null,
   "metadata": {},
   "outputs": [],
   "source": []
  }
 ],
 "metadata": {
  "kernelspec": {
   "display_name": "Python 3",
   "language": "python",
   "name": "python3"
  },
  "language_info": {
   "codemirror_mode": {
    "name": "ipython",
    "version": 3
   },
   "file_extension": ".py",
   "mimetype": "text/x-python",
   "name": "python",
   "nbconvert_exporter": "python",
   "pygments_lexer": "ipython3",
   "version": "3.7.4"
  }
 },
 "nbformat": 4,
 "nbformat_minor": 2
}
