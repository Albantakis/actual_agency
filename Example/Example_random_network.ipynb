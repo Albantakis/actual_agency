{
 "cells": [
  {
   "cell_type": "code",
   "execution_count": 1,
   "metadata": {},
   "outputs": [
    {
     "name": "stdout",
     "output_type": "stream",
     "text": [
      "\n",
      "Welcome to PyPhi!\n",
      "\n",
      "If you use PyPhi in your research, please cite the paper:\n",
      "\n",
      "  Mayner WGP, Marshall W, Albantakis L, Findlay G, Marchman R, Tononi G.\n",
      "  (2018). PyPhi: A toolbox for integrated information theory.\n",
      "  PLOS Computational Biology 14(7): e1006343.\n",
      "  https://doi.org/10.1371/journal.pcbi.1006343\n",
      "\n",
      "Documentation is available online (or with the built-in `help()` function):\n",
      "  https://pyphi.readthedocs.io\n",
      "\n",
      "To report issues, please use the issue tracker on the GitHub repository:\n",
      "  https://github.com/wmayner/pyphi\n",
      "\n",
      "For general discussion, you are welcome to join the pyphi-users group:\n",
      "  https://groups.google.com/forum/#!forum/pyphi-users\n",
      "\n",
      "To suppress this message, either:\n",
      "  - Set `WELCOME_OFF: true` in your `pyphi_config.yml` file, or\n",
      "  - Set the environment variable PYPHI_WELCOME_OFF to any value in your shell:\n",
      "        export PYPHI_WELCOME_OFF='yes'\n",
      "\n"
     ]
    }
   ],
   "source": [
    "# Analysing initial outputs from Maggie's game\n",
    "import pickle\n",
    "import numpy as np\n",
    "import matplotlib.pyplot as plt\n",
    "from scipy.stats import entropy as ent\n",
    "import pyphi\n",
    "import time\n",
    "import math\n",
    "\n",
    "import sys\n",
    "sys.path.insert(0, '/Users/bjornjuel/projects/actual_agency_fork/')\n",
    "\n",
    "from pyanimats import *\n",
    "from actual_agency import *\n",
    "import pyphi\n",
    "\n",
    "pyphi.config.VALIDATE_SUBSYSTEM_STATES = False\n",
    "pyphi.config.PARTITION_TYPE = 'TRI'\n",
    "\n",
    "%load_ext autoreload\n",
    "%autoreload 2"
   ]
  },
  {
   "cell_type": "code",
   "execution_count": 2,
   "metadata": {},
   "outputs": [],
   "source": [
    "# some functions for generating TPM and activity pattern for toy systems\n",
    "def gen_cm(n_nodes,n_sensors):\n",
    "    \n",
    "\n",
    "    # first, indicate the node types (excitatory (+1) or inhibitory (-1))\n",
    "    node_types = 2*np.random.randint(0,2,size=(n_nodes))-1\n",
    "    \n",
    "    # next, produce binary CM to indicate wether or not there is a connection\n",
    "    connection = np.random.randint(2,size=(n_nodes,n_nodes))\n",
    "    \n",
    "    # then, set synaptic weights for individual connections\n",
    "    w = np.random.rand(n_nodes,n_nodes)\n",
    "    \n",
    "    # finally, produce CM\n",
    "    cm = np.array([[w[i,j]*node_types[j]*connection[i,j] for i in range(n_nodes)] for j in range(n_nodes)])\n",
    "    cm[:,:2] = 0\n",
    "    \n",
    "    cm = np.around(cm,decimals=2)\n",
    "    \n",
    "    return cm\n",
    "\n",
    "def get_states(n_nodes):\n",
    "    return np.array(([list(('{:0'+str(n_nodes)+'d}').format(int(bin(x)[2:]))) for x in range(2**n_nodes)])).astype(int)\n",
    "\n",
    "def next_state(cm,activation,state):\n",
    "    \n",
    "    node_input = np.matmul(state,cm)\n",
    "    \n",
    "    if activation == 'sigmoid':\n",
    "        p_activation = [sigmoid(i) for i in node_input]\n",
    "        \n",
    "    elif activation == 'deterministic':\n",
    "        p_activation = [1 if i>0 else 0 for i in node_input]\n",
    "        \n",
    "    return p_activation\n",
    "\n",
    "\n",
    "def sample_tpm(cm,activation):\n",
    "    \n",
    "    nodes = cm.shape[0]\n",
    "    next_states = np.zeros((2**nodes,nodes))\n",
    "    states = get_states(nodes)\n",
    "    \n",
    "    for state,row in zip(states,range(2**nodes)):\n",
    "        next_states[row,:] = next_state(cm,activation,state)\n",
    "            \n",
    "    return next_states\n",
    "\n",
    "\n",
    "def gen_tpm(n_sensors, n_nodes,activation = 'sigmoid'):\n",
    "    \n",
    "    total_nodes = n_sensors + n_nodes\n",
    "    \n",
    "    # generate a CM\n",
    "    cm = gen_cm(total_nodes,n_sensors)\n",
    "    \n",
    "    # Generates TPM for the agent.\n",
    "    \n",
    "    tpm = sample_tpm(cm,'sigmoid')\n",
    "    \n",
    "    tpm = pyphi.convert.to_multidimensional(tpm)\n",
    "\n",
    "    return tpm,cm\n",
    "\n",
    "\n",
    "def sigmoid(x,slope=1,center=0):\n",
    "    return 1 / (1 + math.exp(-slope*(x-center)))\n",
    "\n",
    "def gen_BrainActivity(animat,trials,times,initial_state = None):\n",
    "    tpm = animat.brain.tpm\n",
    "    \n",
    "    if initial_state == None:\n",
    "        initial_state = np.random.randint(0,2,(trials,animat.n_nodes))\n",
    "    elif len(initial_state)==animat.n_nodes:\n",
    "        initial_state = np.matlib.repmat(initial_state,trials,1)\n",
    "    elif not len(initial_state) == trials:\n",
    "        print(\"randomizing intiial states as one was not defined for each trial\")\n",
    "        initial_state = np.random.randint(0,2,(trials,animat.n_nodes))\n",
    "        \n",
    "    threshold = np.random.rand(trials,times,animat.n_nodes)\n",
    "    brain_activity = np.zeros((trials,times,animat.n_nodes))\n",
    "    \n",
    "    for trial in range(trials):\n",
    "        brain_activity[trial,0,:] = initial_state[trial,:]\n",
    "        for time in range(1,times):\n",
    "            p_activation = tpm[tuple(brain_activity[trial,time-1,:].astype(int))]\n",
    "            next_state = [1 if p>t else 0 for p,t in zip(p_activation,threshold[trial,time,:])]\n",
    "            brain_activity[trial,time,:] = next_state\n",
    "            \n",
    "    return brain_activity.astype(int)\n",
    "    \n",
    "\n",
    "def save_phi_from_MCs(animat):\n",
    "    '''\n",
    "\n",
    "        Inputs:\n",
    "\n",
    "        Outputs:\n",
    "    '''\n",
    "\n",
    "    phis = []\n",
    "    for s in animat.unique_states:\n",
    "\n",
    "        if animat.MCs[state2num(s)] == None:\n",
    "            phis.append(0)\n",
    "        else:\n",
    "            phis.append(animat.MCs[state2num(s)].phi)\n",
    "    animat.phis = phis\n",
    "\n",
    "\n",
    "\n"
   ]
  },
  {
   "cell_type": "code",
   "execution_count": 31,
   "metadata": {
    "scrolled": true
   },
   "outputs": [],
   "source": [
    "# creating an animat\n",
    "animat = Animat({'hiddenNodes' : 2})\n",
    "tpm,cm = gen_tpm(4,2)\n",
    "animat.saveBrain(tpm,np.ceil(np.abs(cm)))"
   ]
  },
  {
   "cell_type": "code",
   "execution_count": 32,
   "metadata": {},
   "outputs": [],
   "source": [
    "# creating brain activity from TPM\n",
    "animat.saveBrainActivity(gen_BrainActivity(animat,1,20))\n"
   ]
  },
  {
   "cell_type": "code",
   "execution_count": 65,
   "metadata": {},
   "outputs": [],
   "source": [
    "# finding and saving unique states and transitions\n",
    "animat.saveUniqueTransitions()\n",
    "animat.saveUniqueStates()"
   ]
  },
  {
   "cell_type": "code",
   "execution_count": 66,
   "metadata": {},
   "outputs": [
    {
     "name": "stdout",
     "output_type": "stream",
     "text": [
      "Finding MC for state number 0 out of 19 unique states\n",
      "Finding MC for state number 1 out of 19 unique states\n",
      "Finding MC for state number 2 out of 19 unique states\n",
      "Finding MC for state number 3 out of 19 unique states\n",
      "Finding MC for state number 4 out of 19 unique states\n",
      "Finding MC for state number 5 out of 19 unique states\n",
      "Finding MC for state number 6 out of 19 unique states\n",
      "Finding MC for state number 7 out of 19 unique states\n",
      "Finding MC for state number 8 out of 19 unique states\n",
      "Finding MC for state number 9 out of 19 unique states\n",
      "Finding MC for state number 10 out of 19 unique states\n",
      "Finding MC for state number 11 out of 19 unique states\n",
      "Finding MC for state number 12 out of 19 unique states\n",
      "Finding MC for state number 13 out of 19 unique states\n",
      "Finding MC for state number 14 out of 19 unique states\n",
      "Finding MC for state number 15 out of 19 unique states\n",
      "Finding MC for state number 16 out of 19 unique states\n",
      "Finding MC for state number 17 out of 19 unique states\n",
      "Finding MC for state number 18 out of 19 unique states\n"
     ]
    }
   ],
   "source": [
    "# calculating IIT parameters for all unique states \n",
    "pyphi.config.PROGRESS_BARS=False\n",
    "animat.save_major_complex()"
   ]
  },
  {
   "cell_type": "code",
   "execution_count": 67,
   "metadata": {},
   "outputs": [
    {
     "name": "stdout",
     "output_type": "stream",
     "text": [
      "Finding causes for transition number 0 out of 19 unique transitions\n",
      "Finding causes for transition number 1 out of 19 unique transitions\n",
      "Finding causes for transition number 2 out of 19 unique transitions\n",
      "Finding causes for transition number 3 out of 19 unique transitions\n",
      "Finding causes for transition number 4 out of 19 unique transitions\n",
      "Finding causes for transition number 5 out of 19 unique transitions\n",
      "Finding causes for transition number 6 out of 19 unique transitions\n",
      "Finding causes for transition number 7 out of 19 unique transitions\n",
      "Finding causes for transition number 8 out of 19 unique transitions\n",
      "Finding causes for transition number 9 out of 19 unique transitions\n",
      "Finding causes for transition number 10 out of 19 unique transitions\n",
      "Finding causes for transition number 11 out of 19 unique transitions\n",
      "Finding causes for transition number 12 out of 19 unique transitions\n",
      "Finding causes for transition number 13 out of 19 unique transitions\n",
      "Finding causes for transition number 14 out of 19 unique transitions\n",
      "Finding causes for transition number 15 out of 19 unique transitions\n",
      "Finding causes for transition number 16 out of 19 unique transitions\n",
      "Finding causes for transition number 17 out of 19 unique transitions\n",
      "Finding causes for transition number 18 out of 19 unique transitions\n"
     ]
    }
   ],
   "source": [
    "# calculating AC parameters for unique transitions\n",
    "animat.save_unique_causal_links()"
   ]
  },
  {
   "cell_type": "code",
   "execution_count": 68,
   "metadata": {},
   "outputs": [],
   "source": [
    "save_phi_from_MCs(animat)"
   ]
  },
  {
   "cell_type": "code",
   "execution_count": 69,
   "metadata": {},
   "outputs": [],
   "source": [
    "history = history_of_complexes(animat,only_state_changes=False)"
   ]
  },
  {
   "cell_type": "code",
   "execution_count": 70,
   "metadata": {},
   "outputs": [],
   "source": [
    "MC_cause = get_causal_history(animat, 0,MC=True)"
   ]
  },
  {
   "cell_type": "code",
   "execution_count": 71,
   "metadata": {},
   "outputs": [
    {
     "data": {
      "text/plain": [
       "[(0, 2, 3, 4),\n",
       " (0, 2, 3, 4),\n",
       " (0, 1, 2, 3),\n",
       " (0, 2, 3),\n",
       " (0, 1, 3, 4),\n",
       " (0, 3, 4),\n",
       " (0, 1, 2, 3),\n",
       " (0, 1, 3, 4),\n",
       " (0, 1, 3, 4),\n",
       " (0, 1, 2, 3, 4),\n",
       " (0, 1, 2, 3),\n",
       " (0, 1, 2, 3),\n",
       " (0, 1, 3, 4),\n",
       " (0, 2, 3, 4),\n",
       " (0, 1, 3),\n",
       " (0, 1, 3, 4),\n",
       " (0, 1, 2, 3, 4),\n",
       " (0, 2, 3, 4),\n",
       " (0, 2)]"
      ]
     },
     "execution_count": 71,
     "metadata": {},
     "output_type": "execute_result"
    }
   ],
   "source": [
    "MC_cause"
   ]
  },
  {
   "cell_type": "code",
   "execution_count": 72,
   "metadata": {
    "scrolled": true
   },
   "outputs": [
    {
     "data": {
      "text/plain": [
       "<matplotlib.image.AxesImage at 0x122f45310>"
      ]
     },
     "execution_count": 72,
     "metadata": {},
     "output_type": "execute_result"
    },
    {
     "data": {
      "image/png": "[encoded data removed]",
      "text/plain": [
       "<Figure size 432x288 with 1 Axes>"
      ]
     },
     "metadata": {
      "needs_background": "light"
     },
     "output_type": "display_data"
    }
   ],
   "source": [
    "\n",
    "complex_cause_history = [[1 if i in cause else 0 for i in range(animat.n_nodes)] for cause in MC_cause]\n",
    "plt.imshow(complex_cause_history)"
   ]
  },
  {
   "cell_type": "code",
   "execution_count": 74,
   "metadata": {},
   "outputs": [
    {
     "data": {
      "text/plain": [
       "[[[0, 0, 0, 1, 1, 0],\n",
       "  [0, 0, 0, 1, 1, 0],\n",
       "  [0, 0, 0, 1, 1, 0],\n",
       "  [0, 0, 0, 1, 1, 0],\n",
       "  [0, 0, 0, 1, 1, 0],\n",
       "  [0, 0, 0, 1, 1, 0],\n",
       "  [0, 0, 0, 1, 1, 0],\n",
       "  [0, 0, 0, 1, 1, 0],\n",
       "  [0, 0, 0, 1, 1, 0],\n",
       "  [0, 0, 0, 1, 1, 0],\n",
       "  [0, 0, 0, 1, 1, 0],\n",
       "  [0, 0, 0, 1, 1, 0],\n",
       "  [0, 0, 0, 1, 1, 0],\n",
       "  [0, 0, 0, 1, 1, 0],\n",
       "  [0, 0, 0, 1, 1, 0],\n",
       "  [0, 0, 0, 1, 1, 0],\n",
       "  [0, 0, 0, 1, 1, 0],\n",
       "  [0, 0, 0, 1, 1, 0],\n",
       "  [0, 0, 0, 1, 1, 0],\n",
       "  [0, 0, 0, 1, 1, 0]]]"
      ]
     },
     "execution_count": 74,
     "metadata": {},
     "output_type": "execute_result"
    }
   ],
   "source": [
    "history"
   ]
  },
  {
   "cell_type": "code",
   "execution_count": 58,
   "metadata": {},
   "outputs": [],
   "source": [
    "occ = (2,3)\n",
    "overlaps = [get_complex_purview_overlap(animat,trans,occ) for trans in animat.unique_transitions]"
   ]
  },
  {
   "cell_type": "code",
   "execution_count": 59,
   "metadata": {},
   "outputs": [
    {
     "data": {
      "text/plain": [
       "[0.6666666666666666,\n",
       " 0.6666666666666666,\n",
       " 0.25,\n",
       " 0,\n",
       " 0.5,\n",
       " 0.6666666666666666,\n",
       " 0.25,\n",
       " 0.5,\n",
       " 0.5,\n",
       " 0.5,\n",
       " 0.25,\n",
       " 0.25,\n",
       " 0.5,\n",
       " 0.6666666666666666,\n",
       " 0.25,\n",
       " 0.5,\n",
       " 0.5,\n",
       " 0.6666666666666666,\n",
       " 0]"
      ]
     },
     "execution_count": 59,
     "metadata": {},
     "output_type": "execute_result"
    }
   ],
   "source": [
    "overlaps"
   ]
  },
  {
   "cell_type": "code",
   "execution_count": null,
   "metadata": {},
   "outputs": [],
   "source": [
    "get_union_of_causes(animat,animat.unique_transitions[0],(2,3))"
   ]
  },
  {
   "cell_type": "code",
   "execution_count": null,
   "metadata": {},
   "outputs": [],
   "source": [
    "ba = np.vstack((animat.brain_activity,animat.brain_activity))"
   ]
  },
  {
   "cell_type": "code",
   "execution_count": null,
   "metadata": {},
   "outputs": [],
   "source": [
    "t = animat.unique_transitions[0]"
   ]
  },
  {
   "cell_type": "code",
   "execution_count": null,
   "metadata": {},
   "outputs": [],
   "source": [
    "animat.unique_transitions.index(t)"
   ]
  },
  {
   "cell_type": "code",
   "execution_count": null,
   "metadata": {},
   "outputs": [],
   "source": [
    "\n",
    "with open('animat.pkl', 'wb') as f:\n",
    "    pickle.dump(animat, f, pickle.HIGHEST_PROTOCOL)"
   ]
  },
  {
   "cell_type": "code",
   "execution_count": null,
   "metadata": {},
   "outputs": [],
   "source": [
    "\n",
    "with open('animat.pkl', 'rb') as f:\n",
    "    animat = pickle.load(f)"
   ]
  },
  {
   "cell_type": "code",
   "execution_count": 75,
   "metadata": {},
   "outputs": [],
   "source": [
    "overlaps = [get_complex_purview_overlap(animat,trans,'MC') for trans in animat.unique_transitions] "
   ]
  },
  {
   "cell_type": "code",
   "execution_count": 76,
   "metadata": {},
   "outputs": [
    {
     "data": {
      "text/plain": [
       "[0.5,\n",
       " 0.5,\n",
       " 0.2,\n",
       " 0.25,\n",
       " 0.5,\n",
       " 0.6666666666666666,\n",
       " 0.2,\n",
       " 0.5,\n",
       " 0.5,\n",
       " 0.4,\n",
       " 0.2,\n",
       " 0.2,\n",
       " 0.5,\n",
       " 0.5,\n",
       " 0.25,\n",
       " 0.5,\n",
       " 0.4,\n",
       " 0.5,\n",
       " 0.0]"
      ]
     },
     "execution_count": 76,
     "metadata": {},
     "output_type": "execute_result"
    }
   ],
   "source": [
    "overlaps"
   ]
  },
  {
   "cell_type": "code",
   "execution_count": null,
   "metadata": {},
   "outputs": [],
   "source": [
    "\n",
    "    EEG(i) = pop_cleanline(EEG(i),'SignalType','Channels')\n",
    "    EEG(i) = pop_eegfiltnew(EEG(i),0,100)\n",
    "    EEG(i) = pop_select(EEG(i),'timerange',[1200 1800]);\n",
    "    \n",
    "    EEG_FRG(i) = pop_select(EEG(i),'channel',[1:20]);\n",
    "    EEG_FRG(i) = pop_reref(EEG_FRG(i),length(EEG_FRG),'keepref','on');\n",
    "    \n",
    "    EEG_PRG(i) = pop_select(EEG(i),'channel',[21:36]);\n",
    "    EEG_PRG(i) = pop_reref(EEG_PRG(i),length(EEG_PRG),'keepref','on');\n",
    "    \n",
    "    EEG_INFTEMP(i) = pop_select(EEG(i),'channel',[37:42]);\n",
    "    EEG_INFTEMP(i) = pop_reref(EEG_INFTEMP(i),length(EEG_INFTEMP),'keepref','on');\n",
    "    \n",
    "    EEG_SUBTEMP(i) = pop_select(EEG(i),'channel',[43:48]);\n",
    "    EEG_SUBTEMP(i) = pop_reref(EEG_SUBTEMP(i),length(EEG_SUBTEMP),'keepref','on');\n",
    "    \n",
    "    EEG_AMY(i) = pop_select(EEG(i),'channel',[49:56]);\n",
    "    EEG_AMY(i) = pop_reref(EEG_AMY(i),length(EEG_AMY),'keepref','on');\n",
    "    \n",
    "    EEG_HIP(i) = pop_select(EEG(i),'channel',[57:64]);\n",
    "    EEG_HIP(i) = pop_reref(EEG_HIP(i),length(EEG_HIP),'keepref','on');\n",
    "    "
   ]
  },
  {
   "cell_type": "code",
   "execution_count": 62,
   "metadata": {},
   "outputs": [],
   "source": [
    "def num2state2(num,n_nodes):\n",
    "    '''\n",
    "    Function description\n",
    "        Inputs:\n",
    "            inputs:\n",
    "        Outputs:\n",
    "            outputs:\n",
    "    '''\n",
    "\n",
    "    number = '{0:0' + str(n_nodes) + 'b}'\n",
    "    state = number.format(num)\n",
    "    state = [int(i) for i in state]\n",
    "\n",
    "    # returns the state\n",
    "    return state"
   ]
  },
  {
   "cell_type": "code",
   "execution_count": 104,
   "metadata": {},
   "outputs": [
    {
     "data": {
      "text/plain": [
       "[1, 0, 0, 1, 0, 0, 0, 0]"
      ]
     },
     "execution_count": 104,
     "metadata": {},
     "output_type": "execute_result"
    }
   ],
   "source": [
    "num2state(9,8)"
   ]
  },
  {
   "cell_type": "code",
   "execution_count": 106,
   "metadata": {},
   "outputs": [
    {
     "data": {
      "text/plain": [
       "9"
      ]
     },
     "execution_count": 106,
     "metadata": {},
     "output_type": "execute_result"
    }
   ],
   "source": [
    "state2num(tuple([1, 0, 0, 1, 0, 0, 0, 0]))"
   ]
  },
  {
   "cell_type": "code",
   "execution_count": 98,
   "metadata": {},
   "outputs": [
    {
     "name": "stdout",
     "output_type": "stream",
     "text": [
      "[1, 0, 0, 0, 0, 0, 0, 0]\n"
     ]
    }
   ],
   "source": [
    "a.reverse()\n",
    "print(a)"
   ]
  },
  {
   "cell_type": "code",
   "execution_count": 97,
   "metadata": {},
   "outputs": [
    {
     "name": "stdout",
     "output_type": "stream",
     "text": [
      "Original List: ['Windows', 'macOS', 'Linux']\n",
      "Updated List: ['Linux', 'macOS', 'Windows']\n"
     ]
    }
   ],
   "source": [
    "# Operating System List\n",
    "os = ['Windows', 'macOS', 'Linux']\n",
    "print('Original List:', os)\n",
    "\n",
    "# List Reverse\n",
    "os.reverse()\n",
    "\n",
    "# updated list\n",
    "print('Updated List:', os)"
   ]
  },
  {
   "cell_type": "code",
   "execution_count": null,
   "metadata": {},
   "outputs": [],
   "source": []
  }
 ],
 "metadata": {
  "kernelspec": {
   "display_name": "Python 3",
   "language": "python",
   "name": "python3"
  },
  "language_info": {
   "codemirror_mode": {
    "name": "ipython",
    "version": 3
   },
   "file_extension": ".py",
   "mimetype": "text/x-python",
   "name": "python",
   "nbconvert_exporter": "python",
   "pygments_lexer": "ipython3",
   "version": "3.7.4"
  }
 },
 "nbformat": 4,
 "nbformat_minor": 2
}
