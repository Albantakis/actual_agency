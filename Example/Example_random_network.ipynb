{
 "cells": [
  {
   "cell_type": "code",
   "execution_count": 1,
   "metadata": {},
   "outputs": [
    {
     "name": "stdout",
     "output_type": "stream",
     "text": [
      "\n",
      "Welcome to PyPhi!\n",
      "\n",
      "If you use PyPhi in your research, please cite the paper:\n",
      "\n",
      "  Mayner WGP, Marshall W, Albantakis L, Findlay G, Marchman R, Tononi G.\n",
      "  (2018). PyPhi: A toolbox for integrated information theory.\n",
      "  PLOS Computational Biology 14(7): e1006343.\n",
      "  https://doi.org/10.1371/journal.pcbi.1006343\n",
      "\n",
      "Documentation is available online (or with the built-in `help()` function):\n",
      "  https://pyphi.readthedocs.io\n",
      "\n",
      "To report issues, please use the issue tracker on the GitHub repository:\n",
      "  https://github.com/wmayner/pyphi\n",
      "\n",
      "For general discussion, you are welcome to join the pyphi-users group:\n",
      "  https://groups.google.com/forum/#!forum/pyphi-users\n",
      "\n",
      "To suppress this message, either:\n",
      "  - Set `WELCOME_OFF: true` in your `pyphi_config.yml` file, or\n",
      "  - Set the environment variable PYPHI_WELCOME_OFF to any value in your shell:\n",
      "        export PYPHI_WELCOME_OFF='yes'\n",
      "\n"
     ]
    }
   ],
   "source": [
    "# Analysing initial outputs from Maggie's game\n",
    "import pickle\n",
    "import numpy as np\n",
    "import matplotlib.pyplot as plt\n",
    "from scipy.stats import entropy as ent\n",
    "import pyphi\n",
    "import time\n",
    "import math\n",
    "\n",
    "import sys\n",
    "sys.path.insert(0, '/Users/bjornjuel/projects/actual_agency_fork/')\n",
    "\n",
    "from pyanimats import *\n",
    "from actual_agency import *\n",
    "import pyphi\n",
    "\n",
    "pyphi.config.VALIDATE_SUBSYSTEM_STATES = False\n",
    "pyphi.config.PARTITION_TYPE = 'TRI'\n",
    "\n",
    "%load_ext autoreload\n",
    "%autoreload 2"
   ]
  },
  {
   "cell_type": "code",
   "execution_count": 210,
   "metadata": {},
   "outputs": [],
   "source": [
    "# some functions for generating TPM and activity pattern for toy systems\n",
    "def gen_cm(n_nodes,n_sensors):\n",
    "    \n",
    "\n",
    "    # first, indicate the node types (excitatory (+1) or inhibitory (-1))\n",
    "    node_types = 2*np.random.randint(0,2,size=(n_nodes))-1\n",
    "    \n",
    "    # next, produce binary CM to indicate wether or not there is a connection\n",
    "    connection = np.random.randint(2,size=(n_nodes,n_nodes))\n",
    "    \n",
    "    # then, set synaptic weights for individual connections\n",
    "    w = np.random.rand(n_nodes,n_nodes)\n",
    "    \n",
    "    # finally, produce CM\n",
    "    cm = np.array([[w[i,j]*node_types[j]*connection[i,j] for i in range(n_nodes)] for j in range(n_nodes)])\n",
    "    cm[:,:2] = 0\n",
    "    cm[2:4,:] = 0\n",
    "    \n",
    "    cm = np.around(cm,decimals=2)\n",
    "    \n",
    "    return cm\n",
    "\n",
    "def get_states(n_nodes):\n",
    "    return np.array(([list(('{:0'+str(n_nodes)+'d}').format(int(bin(x)[2:]))) for x in range(2**n_nodes)])).astype(int)\n",
    "\n",
    "def next_state(cm,activation,state):\n",
    "    \n",
    "    node_input = np.matmul(state,cm)\n",
    "    \n",
    "    if activation == 'sigmoid':\n",
    "        p_activation = [sigmoid(i) for i in node_input]\n",
    "        \n",
    "    elif activation == 'deterministic':\n",
    "        p_activation = [1 if i>0 else 0 for i in node_input]\n",
    "        \n",
    "    return p_activation\n",
    "\n",
    "\n",
    "def sample_tpm(cm,activation):\n",
    "    \n",
    "    nodes = cm.shape[0]\n",
    "    next_states = np.zeros((2**nodes,nodes))\n",
    "    states = get_states(nodes)\n",
    "    \n",
    "    for state,row in zip(states,range(2**nodes)):\n",
    "        next_states[row,:] = next_state(cm,activation,state)\n",
    "            \n",
    "    return next_states\n",
    "\n",
    "\n",
    "def gen_tpm(n_sensors, n_nodes,activation = 'sigmoid'):\n",
    "    \n",
    "    total_nodes = n_sensors + n_nodes\n",
    "    \n",
    "    # generate a CM\n",
    "    cm = gen_cm(total_nodes,n_sensors)\n",
    "    \n",
    "    # Generates TPM for the agent.\n",
    "    \n",
    "    tpm = sample_tpm(cm,'sigmoid')\n",
    "    \n",
    "    tpm = pyphi.convert.to_multidimensional(tpm)\n",
    "\n",
    "    return tpm,cm\n",
    "\n",
    "\n",
    "def sigmoid(x,slope=1,center=0):\n",
    "    return 1 / (1 + math.exp(-slope*(x-center)))\n",
    "\n",
    "def gen_BrainActivity(animat,trials,times,initial_state = None):\n",
    "    tpm = animat.brain.tpm\n",
    "    \n",
    "    if initial_state == None:\n",
    "        initial_state = np.random.randint(0,2,(trials,animat.n_nodes))\n",
    "    elif len(initial_state)==animat.n_nodes:\n",
    "        initial_state = np.matlib.repmat(initial_state,trials,1)\n",
    "    elif not len(initial_state) == trials:\n",
    "        print(\"randomizing intiial states as one was not defined for each trial\")\n",
    "        initial_state = np.random.randint(0,2,(trials,animat.n_nodes))\n",
    "        \n",
    "    threshold = np.random.rand(trials,times,animat.n_nodes)\n",
    "    brain_activity = np.zeros((trials,times,animat.n_nodes))\n",
    "    \n",
    "    for trial in range(trials):\n",
    "        brain_activity[trial,0,:] = initial_state[trial,:]\n",
    "        for time in range(1,times):\n",
    "            p_activation = tpm[tuple(brain_activity[trial,time-1,:].astype(int))]\n",
    "            next_state = [1 if p>t else 0 for p,t in zip(p_activation,threshold[trial,time,:])]\n",
    "            brain_activity[trial,time,:] = next_state\n",
    "            \n",
    "    return brain_activity.astype(int)\n",
    "    \n",
    "\n",
    "def save_phi_from_MCs(animat):\n",
    "    '''\n",
    "\n",
    "        Inputs:\n",
    "\n",
    "        Outputs:\n",
    "    '''\n",
    "\n",
    "    phis = []\n",
    "    for s in animat.unique_states:\n",
    "\n",
    "        if animat.MCs[state2num(s)] == None:\n",
    "            phis.append(0)\n",
    "        else:\n",
    "            phis.append(animat.MCs[state2num(s)].phi)\n",
    "    animat.phis = phis\n",
    "\n",
    "\n",
    "\n"
   ]
  },
  {
   "cell_type": "code",
   "execution_count": 233,
   "metadata": {
    "scrolled": true
   },
   "outputs": [],
   "source": [
    "# creating an animat\n",
    "n_sensors = 2\n",
    "n_hidden = 4\n",
    "n_motors = 2\n",
    "animat = Animat({'hiddenNodes' : n_hidden})\n",
    "tpm,cm = gen_tpm(n_sensors,n_hidden+n_motors)\n",
    "animat.saveBrain(tpm,np.ceil(np.abs(cm)))"
   ]
  },
  {
   "cell_type": "code",
   "execution_count": 234,
   "metadata": {},
   "outputs": [],
   "source": [
    "# creating brain activity from TPM\n",
    "animat.saveBrainActivity(gen_BrainActivity(animat,1,20))\n"
   ]
  },
  {
   "cell_type": "code",
   "execution_count": 235,
   "metadata": {},
   "outputs": [],
   "source": [
    "# finding and saving unique states and transitions\n",
    "animat.saveUniqueTransitions()\n",
    "animat.saveUniqueStates()"
   ]
  },
  {
   "cell_type": "code",
   "execution_count": 236,
   "metadata": {},
   "outputs": [
    {
     "name": "stdout",
     "output_type": "stream",
     "text": [
      "Finding MC for state number 0 out of 19 unique states\n",
      "Finding MC for state number 1 out of 19 unique states\n",
      "Finding MC for state number 2 out of 19 unique states\n",
      "Finding MC for state number 3 out of 19 unique states\n",
      "Finding MC for state number 4 out of 19 unique states\n",
      "Finding MC for state number 5 out of 19 unique states\n",
      "Finding MC for state number 6 out of 19 unique states\n",
      "Finding MC for state number 7 out of 19 unique states\n",
      "Finding MC for state number 8 out of 19 unique states\n",
      "Finding MC for state number 9 out of 19 unique states\n",
      "Finding MC for state number 10 out of 19 unique states\n",
      "Finding MC for state number 11 out of 19 unique states\n",
      "Finding MC for state number 12 out of 19 unique states\n",
      "Finding MC for state number 13 out of 19 unique states\n",
      "Finding MC for state number 14 out of 19 unique states\n",
      "Finding MC for state number 15 out of 19 unique states\n",
      "Finding MC for state number 16 out of 19 unique states\n",
      "Finding MC for state number 17 out of 19 unique states\n",
      "Finding MC for state number 18 out of 19 unique states\n"
     ]
    }
   ],
   "source": [
    "# calculating IIT parameters for all unique states \n",
    "pyphi.config.PROGRESS_BARS=False\n",
    "animat.save_major_complex()"
   ]
  },
  {
   "cell_type": "code",
   "execution_count": 239,
   "metadata": {},
   "outputs": [
    {
     "name": "stdout",
     "output_type": "stream",
     "text": [
      "Finding causes for transition number 0 out of 19 unique transitions\n",
      "Finding causes for transition number 1 out of 19 unique transitions\n",
      "Finding causes for transition number 2 out of 19 unique transitions\n",
      "Finding causes for transition number 3 out of 19 unique transitions\n",
      "Finding causes for transition number 4 out of 19 unique transitions\n",
      "Finding causes for transition number 5 out of 19 unique transitions\n",
      "Finding causes for transition number 6 out of 19 unique transitions\n",
      "Finding causes for transition number 7 out of 19 unique transitions\n",
      "Finding causes for transition number 8 out of 19 unique transitions\n",
      "Finding causes for transition number 9 out of 19 unique transitions\n",
      "Finding causes for transition number 10 out of 19 unique transitions\n",
      "Finding causes for transition number 11 out of 19 unique transitions\n",
      "Finding causes for transition number 12 out of 19 unique transitions\n",
      "Finding causes for transition number 13 out of 19 unique transitions\n",
      "Finding causes for transition number 14 out of 19 unique transitions\n",
      "Finding causes for transition number 15 out of 19 unique transitions\n",
      "Finding causes for transition number 16 out of 19 unique transitions\n",
      "Finding causes for transition number 17 out of 19 unique transitions\n",
      "Finding causes for transition number 18 out of 19 unique transitions\n"
     ]
    }
   ],
   "source": [
    "# calculating AC parameters for unique transitions\n",
    "animat.save_unique_causal_links()"
   ]
  },
  {
   "cell_type": "code",
   "execution_count": 240,
   "metadata": {},
   "outputs": [],
   "source": [
    "save_phi_from_MCs(animat)"
   ]
  },
  {
   "cell_type": "code",
   "execution_count": 241,
   "metadata": {},
   "outputs": [],
   "source": [
    "history = history_of_complexes(animat,only_state_changes=False)"
   ]
  },
  {
   "cell_type": "code",
   "execution_count": 242,
   "metadata": {},
   "outputs": [],
   "source": [
    "MC_cause = get_causal_history(animat, 0,MC=True)"
   ]
  },
  {
   "cell_type": "code",
   "execution_count": 243,
   "metadata": {},
   "outputs": [
    {
     "data": {
      "text/plain": [
       "[(), (), (), (), (), (), (), (), (), (), (), (), (), (), (), (), (), (), ()]"
      ]
     },
     "execution_count": 243,
     "metadata": {},
     "output_type": "execute_result"
    }
   ],
   "source": [
    "MC_cause"
   ]
  },
  {
   "cell_type": "code",
   "execution_count": 204,
   "metadata": {
    "scrolled": true
   },
   "outputs": [
    {
     "data": {
      "text/plain": [
       "<matplotlib.colorbar.Colorbar at 0x126212050>"
      ]
     },
     "execution_count": 204,
     "metadata": {},
     "output_type": "execute_result"
    },
    {
     "data": {
      "image/png": "[encoded data removed]",
      "text/plain": [
       "<Figure size 432x288 with 2 Axes>"
      ]
     },
     "metadata": {
      "needs_background": "light"
     },
     "output_type": "display_data"
    }
   ],
   "source": [
    "\n",
    "complex_cause_history = [[1 if i in cause else 0 for i in range(animat.n_nodes)] for cause in MC_cause]\n",
    "plt.imshow(complex_cause_history)\n",
    "plt.colorbar()"
   ]
  },
  {
   "cell_type": "code",
   "execution_count": 198,
   "metadata": {},
   "outputs": [
    {
     "data": {
      "text/plain": [
       "[[[0, 0, 1, 1, 1, 1, 0],\n",
       "  [0, 0, 1, 1, 1, 1, 0],\n",
       "  [0, 0, 1, 1, 1, 1, 0],\n",
       "  [0, 0, 1, 1, 1, 1, 0],\n",
       "  [0, 0, 1, 1, 1, 1, 0],\n",
       "  [0, 0, 1, 1, 1, 1, 0],\n",
       "  [0, 0, 1, 1, 1, 1, 0],\n",
       "  [0, 0, 1, 1, 1, 1, 0],\n",
       "  [0, 0, 1, 1, 1, 1, 0],\n",
       "  [0, 0, 0, 1, 1, 1, 0],\n",
       "  [0, 0, 1, 1, 1, 1, 0],\n",
       "  [0, 0, 1, 1, 1, 1, 0],\n",
       "  [0, 0, 1, 1, 1, 1, 0],\n",
       "  [0, 0, 1, 1, 1, 1, 0],\n",
       "  [0, 0, 1, 1, 1, 1, 0],\n",
       "  [0, 0, 1, 1, 1, 1, 0],\n",
       "  [0, 0, 1, 1, 1, 1, 0],\n",
       "  [0, 0, 1, 1, 1, 1, 0],\n",
       "  [0, 0, 1, 1, 1, 1, 0],\n",
       "  [0, 0, 1, 1, 1, 1, 0]]]"
      ]
     },
     "execution_count": 198,
     "metadata": {},
     "output_type": "execute_result"
    }
   ],
   "source": [
    "history"
   ]
  },
  {
   "cell_type": "code",
   "execution_count": 206,
   "metadata": {},
   "outputs": [],
   "source": [
    "occ = (2,3)\n",
    "overlaps = [get_complex_purview_overlap(animat,trans,occ) for trans in animat.unique_transitions]"
   ]
  },
  {
   "cell_type": "code",
   "execution_count": 207,
   "metadata": {},
   "outputs": [
    {
     "data": {
      "text/plain": [
       "[0.4,\n",
       " 0.5,\n",
       " 0.4,\n",
       " 0.5,\n",
       " 0.6,\n",
       " 0.3333333333333333,\n",
       " 0.6,\n",
       " 0,\n",
       " 0.4,\n",
       " 0.6,\n",
       " 0.3333333333333333,\n",
       " 0.6,\n",
       " 0.4,\n",
       " 0.5,\n",
       " 0.4,\n",
       " 0.6,\n",
       " 0.6,\n",
       " 0.3333333333333333,\n",
       " 0.3333333333333333]"
      ]
     },
     "execution_count": 207,
     "metadata": {},
     "output_type": "execute_result"
    }
   ],
   "source": [
    "overlaps"
   ]
  },
  {
   "cell_type": "code",
   "execution_count": 124,
   "metadata": {},
   "outputs": [
    {
     "data": {
      "text/plain": [
       "(3,)"
      ]
     },
     "execution_count": 124,
     "metadata": {},
     "output_type": "execute_result"
    }
   ],
   "source": [
    "get_union_of_causes(animat,animat.unique_transitions[0],(2,3))"
   ]
  },
  {
   "cell_type": "code",
   "execution_count": 125,
   "metadata": {},
   "outputs": [],
   "source": [
    "ba = np.vstack((animat.brain_activity,animat.brain_activity))"
   ]
  },
  {
   "cell_type": "code",
   "execution_count": 126,
   "metadata": {},
   "outputs": [],
   "source": [
    "t = animat.unique_transitions[0]"
   ]
  },
  {
   "cell_type": "code",
   "execution_count": 127,
   "metadata": {},
   "outputs": [
    {
     "data": {
      "text/plain": [
       "0"
      ]
     },
     "execution_count": 127,
     "metadata": {},
     "output_type": "execute_result"
    }
   ],
   "source": [
    "animat.unique_transitions.index(t)"
   ]
  },
  {
   "cell_type": "code",
   "execution_count": 246,
   "metadata": {},
   "outputs": [
    {
     "data": {
      "text/plain": [
       "array([[ 0.  ,  0.  , -0.  , -0.  , -0.  , -0.  , -0.37, -0.  ],\n",
       "       [ 0.  ,  0.  ,  0.78,  0.  ,  0.29,  0.4 ,  0.  ,  0.  ],\n",
       "       [ 0.  ,  0.  ,  0.  ,  0.  ,  0.  ,  0.  ,  0.  ,  0.  ],\n",
       "       [ 0.  ,  0.  ,  0.  ,  0.  ,  0.  ,  0.  ,  0.  ,  0.  ],\n",
       "       [ 0.  ,  0.  ,  0.  ,  0.  ,  0.79,  0.16,  0.  ,  0.  ],\n",
       "       [ 0.  ,  0.  ,  0.34,  0.  ,  0.  ,  0.  ,  0.37,  0.  ],\n",
       "       [ 0.  ,  0.  , -0.55, -0.  , -0.  , -0.79, -0.37, -0.37],\n",
       "       [ 0.  ,  0.  , -0.74, -0.25, -0.  , -0.69, -0.8 , -0.  ]])"
      ]
     },
     "execution_count": 246,
     "metadata": {},
     "output_type": "execute_result"
    }
   ],
   "source": [
    "cm"
   ]
  },
  {
   "cell_type": "code",
   "execution_count": 128,
   "metadata": {},
   "outputs": [],
   "source": [
    "\n",
    "with open('animat.pkl', 'wb') as f:\n",
    "    pickle.dump(animat, f, pickle.HIGHEST_PROTOCOL)"
   ]
  },
  {
   "cell_type": "code",
   "execution_count": 129,
   "metadata": {},
   "outputs": [],
   "source": [
    "\n",
    "with open('animat.pkl', 'rb') as f:\n",
    "    animat = pickle.load(f)"
   ]
  },
  {
   "cell_type": "code",
   "execution_count": 208,
   "metadata": {},
   "outputs": [],
   "source": [
    "overlaps = [get_complex_purview_overlap(animat,trans,'MC') for trans in animat.unique_transitions] "
   ]
  },
  {
   "cell_type": "code",
   "execution_count": 209,
   "metadata": {},
   "outputs": [
    {
     "data": {
      "text/plain": [
       "[0.42857142857142855,\n",
       " 0.42857142857142855,\n",
       " 0.5714285714285714,\n",
       " 0.6666666666666666,\n",
       " 0.5,\n",
       " 0.3333333333333333,\n",
       " 0.6666666666666666,\n",
       " 0.5,\n",
       " 0.5714285714285714,\n",
       " 0.42857142857142855,\n",
       " 0.42857142857142855,\n",
       " 0.5714285714285714,\n",
       " 0.4,\n",
       " 0.5714285714285714,\n",
       " 0.6666666666666666,\n",
       " 0.5714285714285714,\n",
       " 0.8,\n",
       " 0.5714285714285714,\n",
       " 0.5714285714285714]"
      ]
     },
     "execution_count": 209,
     "metadata": {},
     "output_type": "execute_result"
    }
   ],
   "source": [
    "overlaps"
   ]
  },
  {
   "cell_type": "code",
   "execution_count": null,
   "metadata": {},
   "outputs": [],
   "source": [
    "\n",
    "    EEG(i) = pop_cleanline(EEG(i),'SignalType','Channels')\n",
    "    EEG(i) = pop_eegfiltnew(EEG(i),0,100)\n",
    "    EEG(i) = pop_select(EEG(i),'timerange',[1200 1800]);\n",
    "    \n",
    "    EEG_FRG(i) = pop_select(EEG(i),'channel',[1:20,65]);\n",
    "    EEG_FRG(i) = pop_reref(EEG_FRG(i),[],'keepref','on');\n",
    "    EEG_FRG(i) = eeg_regepochs(EEG_FRG(i),'recurrence',epochlength,'rmbase',epochlength,'eventtype','std','limits',[0 5]); \n",
    "\n",
    "    EEG_PRG(i) = pop_select(EEG(i),'channel',[21:36,65]);\n",
    "    EEG_PRG(i) = pop_reref(EEG_PRG(i),[],'keepref','on');\n",
    "    EEG_PRG(i) = eeg_regepochs(EEG_PRG(i),'recurrence',epochlength,'rmbase',epochlength,'eventtype','std','limits',[0 5]); \n",
    "    \n",
    "    EEG_INFTEMP(i) = pop_select(EEG(i),'channel',[37:42,65]);\n",
    "    EEG_INFTEMP(i) = pop_reref(EEG_INFTEMP(i),[],'keepref','on');\n",
    "    EEG_INFTEMP(i) = eeg_regepochs(EEG_INFTEMP(i),'recurrence',1epochlength'rmbase',1epochlength'eventtype','std','limits',[0 5]); \n",
    "    \n",
    "    EEG_SUBTEMP(i) = pop_select(EEG(i),'channel',[43:48,65]);\n",
    "    EEG_SUBTEMP(i) = pop_reref(EEG_SUBTEMP(i),[],'keepref','on');\n",
    "    EEG_SUBTEMP(i) = eeg_regepochs(EEG_SUBTEMP(i),'recurrence',epochlength,'rmbase',epochlength,'eventtype','std','limits',[0 5]); \n",
    "    \n",
    "    EEG_AMY(i) = pop_select(EEG(i),'channel',[49:56,65]);\n",
    "    EEG_AMY(i) = pop_reref(EEG_AMY(i),[],'keepref','on');\n",
    "    EEG_AMY(i) = eeg_regepochs(EEG_AMY(i),'recurrence',epochlength,'rmbase',epochlength,'eventtype','std','limits',[0 5]); \n",
    "    \n",
    "    EEG_HIP(i) = pop_select(EEG(i),'channel',[57:64,65]);\n",
    "    EEG_HIP(i) = pop_reref(EEG_HIP(i),[],'keepref','on');\n",
    "    EEG_HIP(i) = eeg_regepochs(EEG_HIP(i),'recurrence',epochlength,'rmbase',epochlength,'eventtype','std','limits',[0 5]); \n",
    "    "
   ]
  },
  {
   "cell_type": "code",
   "execution_count": null,
   "metadata": {},
   "outputs": [],
   "source": [
    "psd = [];\n",
    "delta = [];\n",
    "theta = [];\n",
    "alpha = [];\n",
    "beta = [];\n",
    "lowgamma = [];\n",
    "highgamma = [];\n",
    "psd_FRG = [];\n",
    "delta_FRG = [];\n",
    "theta_FRG = [];\n",
    "alpha_FRG = [];\n",
    "beta_FRG = [];\n",
    "lowgamma_FRG = [];\n",
    "highgamma_FRG = [];\n",
    "psd_PRG = [];\n",
    "delta_PRG = [];\n",
    "theta_PRG = [];\n",
    "alpha_PRG = [];\n",
    "beta_PRG = [];\n",
    "lowgamma_PRG = [];\n",
    "highgamma_PRG = [];\n",
    "delta_INFTEMP = [];\n",
    "theta_INFTEMP = [];\n",
    "alpha_INFTEMP = [];\n",
    "beta_INFTEMP = [];\n",
    "lowgamma_INFTEMP = [];\n",
    "highgamma_INFTEMP = [];\n",
    "psd_SUBTEMP = [];\n",
    "delta_SUBTEMP = [];\n",
    "theta_SUBTEMP = [];\n",
    "alpha_SUBTEMP = [];\n",
    "beta_SUBTEMP = [];\n",
    "lowgamma_SUBTEMP = [];\n",
    "highgamma_SUBTEMP = [];\n",
    "psd_AMY = [];\n",
    "delta_AMY = [];\n",
    "theta_AMY = [];\n",
    "alpha_AMY = [];\n",
    "beta_AMY = [];\n",
    "lowgamma_AMY = [];\n",
    "highgamma_AMY = [];\n",
    "psd_HIP = [];\n",
    "delta_HIP = [];\n",
    "theta_HIP = [];\n",
    "alpha_HIP = [];\n",
    "beta_HIP = [];\n",
    "lowgamma_HIP = [];\n",
    "highgamma_HIP = [];\n",
    "\n",
    "    for t =1:size(data,3)\n",
    "        delta(:,i,t) = bandpower(squeeze(data(:,:,t))',fs,d);\n",
    "        theta(:,i,t) = bandpower(squeeze(data(:,:,t))',fs,th);\n",
    "        alpha(:,i,t) = bandpower(squeeze(data(:,:,t))',fs,b);\n",
    "        beta(:,i,t) = bandpower(squeeze(data(:,:,t))',fs,a);\n",
    "        lowgamma(:,i,t) = bandpower(squeeze(data(:,:,t))',fs,g1);\n",
    "        highgamma(:,i,t) = bandpower(squeeze(data(:,:,t))',fs,g2);\n",
    "    end\n",
    "                                     \n",
    "    data = EEG_FRG(i).data;\n",
    "    for t =1:size(data,3)    \n",
    "        delta_FRG(:,i,t) = bandpower(squeeze(data(:,:,t))',fs,d);\n",
    "        theta_FRG(:,i,t) = bandpower(squeeze(data(:,:,t))',fs,th);\n",
    "        alpha_FRG(:,i,t) = bandpower(squeeze(data(:,:,t))',fs,b);\n",
    "        beta_FRG(:,i,t) = bandpower(squeeze(data(:,:,t))',fs,a);\n",
    "        lowgamma_FRG(:,i,t) = bandpower(squeeze(data(:,:,t))',fs,g1);\n",
    "        highgamma_FRG(:,i,t) = bandpower(squeeze(data(:,:,t))',fs,g2);\n",
    "    end\n",
    "                  \n",
    "    data = EEG_PRG(i).data;\n",
    "    for t =1:size(data,3)    \n",
    "        delta_PRG(:,i,t) = bandpower(squeeze(data(:,:,t))',fs,d);\n",
    "        theta_PRG(:,i,t) = bandpower(squeeze(data(:,:,t))',fs,th);\n",
    "        alpha_PRG(:,i,t) = bandpower(squeeze(data(:,:,t))',fs,b);\n",
    "        beta_PRG(:,i,t) = bandpower(squeeze(data(:,:,t))',fs,a);\n",
    "        lowgamma_PRG(:,i,t) = bandpower(squeeze(data(:,:,t))',fs,g1);\n",
    "        highgamma_PRG(:,i,t) = bandpower(squeeze(data(:,:,t))',fs,g2);\n",
    "    end\n",
    "                                     \n",
    "    data = EEG_INFTEMP(i).data;                                 \n",
    "    for t =1:size(data,3)                   \n",
    "        delta_INFTEMP(:,i,t) = bandpower(squeeze(data(:,:,t))',fs,d);\n",
    "        theta_INFTEMP(:,i,t) = bandpower(squeeze(data(:,:,t))',fs,th);\n",
    "        alpha_INFTEMP(:,i,t) = bandpower(squeeze(data(:,:,t))',fs,b);\n",
    "        beta_INFTEMP(:,i,t) = bandpower(squeeze(data(:,:,t))',fs,a);\n",
    "        lowgamma_INFTEMP(:,i,t) = bandpower(squeeze(data(:,:,t))',fs,g1);\n",
    "        highgamma_INFTEMP(:,i,t) = bandpower(squeeze(data(:,:,t))',fs,g2);\n",
    "    end\n",
    "                                     \n",
    "    data = EEG_SUBTEMP(i).data;                                 \n",
    "    for t =1:size(data,3)                   \n",
    "        delta_SUBTEMP(:,i,t) = bandpower(squeeze(data(:,:,t))',fs,d);\n",
    "        theta_SUBTEMP(:,i,t) = bandpower(squeeze(data(:,:,t))',fs,th);\n",
    "        alpha_SUBTEMP(:,i,t) = bandpower(squeeze(data(:,:,t))',fs,b);\n",
    "        beta_SUBTEMP(:,i,t) = bandpower(squeeze(data(:,:,t))',fs,a);\n",
    "        lowgamma_SUBTEMP(:,i,t) = bandpower(squeeze(data(:,:,t))',fs,g1);\n",
    "        highgamma_SUBTEMP(:,i,t) = bandpower(squeeze(data(:,:,t))',fs,g2);\n",
    "    end\n",
    "                                     \n",
    "    data = EEG_AMY(i).data;                                 \n",
    "    for t =1:size(data,3)                \n",
    "        delta_AMY(:,i,t) = bandpower(squeeze(data(:,:,t))',fs,d);\n",
    "        theta_AMY(:,i,t) = bandpower(squeeze(data(:,:,t))',fs,th);\n",
    "        alpha_AMY(:,i,t) = bandpower(squeeze(data(:,:,t))',fs,b);\n",
    "        beta_AMY(:,i,t) = bandpower(squeeze(data(:,:,t))',fs,a);\n",
    "        lowgamma_AMY(:,i,t) = bandpower(squeeze(data(:,:,t))',fs,g1);\n",
    "        highgamma_AMY(:,i,t) = bandpower(squeeze(data(:,:,t))',fs,g2);\n",
    "    end\n",
    "                                       \n",
    "    data = EEG_HIP(i).data;                                   \n",
    "    for t =1:size(data,3) \n",
    "        totpsd = 1;%sum(exp(psd_HIP),2);\n",
    "        delta_HIP(:,i,t) = bandpower(squeeze(data(:,:,t))',fs,d);\n",
    "        theta_HIP(:,i,t) = bandpower(squeeze(data(:,:,t))',fs,th);\n",
    "        alpha_HIP(:,i,t) = bandpower(squeeze(data(:,:,t))',fs,b);\n",
    "        beta_HIP(:,i,t) = bandpower(squeeze(data(:,:,t))',fs,a);\n",
    "        lowgamma_HIP(:,i,t) = bandpower(squeeze(data(:,:,t))',fs,g1);\n",
    "        highgamma_HIP(:,i,t) = bandpower(squeeze(data(:,:,t))',fs,g2);\n",
    "    end\n",
    "               \n",
    "\n",
    "figure;\n"
   ]
  },
  {
   "cell_type": "code",
   "execution_count": null,
   "metadata": {},
   "outputs": [],
   "source": [
    "\n",
    "figure;\n",
    "subplot(6,7,1);boxplot(delta,'Symbol','')\n",
    "subplot(6,7,2);boxplot(delta_AMY,'Symbol','')\n",
    "subplot(6,7,3);boxplot(delta_HIP,'Symbol','')\n",
    "subplot(6,7,4);boxplot(delta_INFTEMP,'Symbol','')\n",
    "subplot(6,7,5);boxplot(delta_SUBTEMP,'Symbol','')\n",
    "subplot(6,7,6);boxplot(delta_FRG,'Symbol','')\n",
    "subplot(6,7,7);boxplot(delta_PRG,'Symbol','')\n",
    "subplot(6,7,8);boxplot(theta,'Symbol','')\n",
    "subplot(6,7,9);boxplot(theta_AMY,'Symbol','')\n",
    "subplot(6,7,10);boxplot(theta_HIP,'Symbol','')\n",
    "subplot(6,7,11);boxplot(theta_INFTEMP,'Symbol','')\n",
    "subplot(6,7,12);boxplot(theta_SUBTEMP,'Symbol','')\n",
    "subplot(6,7,13);boxplot(theta_FRG,'Symbol','')\n",
    "subplot(6,7,14);boxplot(theta_PRG,'Symbol','')\n",
    "subplot(6,7,15);boxplot(alpha,'Symbol','')\n",
    "subplot(6,7,16);boxplot(alpha_AMY,'Symbol','')\n",
    "subplot(6,7,17);boxplot(alpha_HIP,'Symbol','')\n",
    "subplot(6,7,18);boxplot(alpha_INFTEMP,'Symbol','')\n",
    "subplot(6,7,19);boxplot(alpha_SUBTEMP,'Symbol','')\n",
    "subplot(6,7,20);boxplot(alpha_FRG,'Symbol','')\n",
    "subplot(6,7,21);boxplot(alpha_PRG,'Symbol','')\n",
    "subplot(6,7,22);boxplot(beta,'Symbol','')\n",
    "subplot(6,7,23);boxplot(beta_AMY,'Symbol','')\n",
    "subplot(6,7,24);boxplot(beta_HIP,'Symbol','')\n",
    "subplot(6,7,25);boxplot(beta_INFTEMP,'Symbol','')\n",
    "subplot(6,7,26);boxplot(beta_SUBTEMP,'Symbol','')\n",
    "subplot(6,7,27);boxplot(beta_FRG,'Symbol','')\n",
    "subplot(6,7,28);boxplot(beta_PRG,'Symbol','')\n",
    "subplot(6,7,29);boxplot(lowgamma,'Symbol','')\n",
    "subplot(6,7,30);boxplot(lowgamma_AMY,'Symbol','')\n",
    "subplot(6,7,31);boxplot(lowgamma_HIP,'Symbol','')\n",
    "subplot(6,7,32);boxplot(lowgamma_INFTEMP,'Symbol','')\n",
    "subplot(6,7,33);boxplot(lowgamma_SUBTEMP,'Symbol','')\n",
    "subplot(6,7,34);boxplot(lowgamma_FRG,'Symbol','')\n",
    "subplot(6,7,35);boxplot(lowgamma_PRG,'Symbol','')\n",
    "subplot(6,7,36);boxplot(highgamma,'Symbol','')\n",
    "subplot(6,7,37);boxplot(highgamma_AMY,'Symbol','')\n",
    "subplot(6,7,38);boxplot(highgamma_HIP,'Symbol','')\n",
    "subplot(6,7,39);boxplot(highgamma_INFTEMP,'Symbol','')\n",
    "subplot(6,7,40);boxplot(highgamma_SUBTEMP,'Symbol','')\n",
    "subplot(6,7,41);boxplot(highgamma_FRG,'Symbol','')\n",
    "subplot(6,7,42);boxplot(highgamma_PRG,'Symbol','')"
   ]
  },
  {
   "cell_type": "code",
   "execution_count": null,
   "metadata": {},
   "outputs": [],
   "source": [
    "\n",
    "figure\n",
    "subplot(6,7,1);boxplot(squeeze(median(delta,1))','Symbol','');title('All electrodes'); ylabel('delta')\n",
    "subplot(6,7,2);boxplot(squeeze(median(delta_AMY,1))','Symbol','');title('Amygdala')\n",
    "subplot(6,7,3);boxplot(squeeze(median(delta_HIP,1))','Symbol','');title('Hippocampus')\n",
    "subplot(6,7,4);boxplot(squeeze(median(delta_INFTEMP,1))','Symbol','');title('Inferior temporal')\n",
    "subplot(6,7,5);boxplot(squeeze(median(delta_SUBTEMP,1))','Symbol','');title('sub (?) temporal')\n",
    "subplot(6,7,6);boxplot(squeeze(median(delta_FRG,1))','Symbol','');title('Frontal Grid')\n",
    "subplot(6,7,7);boxplot(squeeze(median(delta_PRG,1))','Symbol','');title('Parietal grid')\n",
    "subplot(6,7,8);boxplot(squeeze(median(theta,1))','Symbol',''); ylabel('theta')\n",
    "subplot(6,7,9);boxplot(squeeze(median(theta_AMY,1))','Symbol','')\n",
    "subplot(6,7,10);boxplot(squeeze(median(theta_HIP,1))','Symbol','')\n",
    "subplot(6,7,11);boxplot(squeeze(median(theta_INFTEMP,1))','Symbol','')\n",
    "subplot(6,7,12);boxplot(squeeze(median(theta_SUBTEMP,1))','Symbol','')\n",
    "subplot(6,7,13);boxplot(squeeze(median(theta_FRG,1))','Symbol','')\n",
    "subplot(6,7,14);boxplot(squeeze(median(theta_PRG,1))','Symbol','')\n",
    "subplot(6,7,15);boxplot(squeeze(median(alpha,1))','Symbol',''); ylabel('alpha')\n",
    "subplot(6,7,16);boxplot(squeeze(median(alpha_AMY,1))','Symbol','')\n",
    "subplot(6,7,17);boxplot(squeeze(median(alpha_HIP,1))','Symbol','')\n",
    "subplot(6,7,18);boxplot(squeeze(median(alpha_INFTEMP,1))','Symbol','')\n",
    "subplot(6,7,19);boxplot(squeeze(median(alpha_SUBTEMP,1))','Symbol','')\n",
    "subplot(6,7,20);boxplot(squeeze(median(alpha_FRG,1))','Symbol','')\n",
    "subplot(6,7,21);boxplot(squeeze(median(alpha_PRG,1))','Symbol','')\n",
    "subplot(6,7,22);boxplot(squeeze(median(beta,1))','Symbol',''); ylabel('beta')\n",
    "subplot(6,7,23);boxplot(squeeze(median(beta_AMY,1))','Symbol','')\n",
    "subplot(6,7,24);boxplot(squeeze(median(beta_HIP,1))','Symbol','')\n",
    "subplot(6,7,25);boxplot(squeeze(median(beta_INFTEMP,1))','Symbol','')\n",
    "subplot(6,7,26);boxplot(squeeze(median(beta_SUBTEMP,1))','Symbol','')\n",
    "subplot(6,7,27);boxplot(squeeze(median(beta_FRG,1))','Symbol','')\n",
    "subplot(6,7,28);boxplot(squeeze(median(beta_PRG,1))','Symbol','')\n",
    "subplot(6,7,29);boxplot(squeeze(median(lowgamma,1))','Symbol',''); ylabel('low gamma')\n",
    "subplot(6,7,30);boxplot(squeeze(median(lowgamma_AMY,1))','Symbol','')\n",
    "subplot(6,7,31);boxplot(squeeze(median(lowgamma_HIP,1))','Symbol','')\n",
    "subplot(6,7,32);boxplot(squeeze(median(lowgamma_INFTEMP,1))','Symbol','')\n",
    "subplot(6,7,33);boxplot(squeeze(median(lowgamma_SUBTEMP,1))','Symbol','')\n",
    "subplot(6,7,34);boxplot(squeeze(median(lowgamma_FRG,1))','Symbol','')\n",
    "subplot(6,7,35);boxplot(squeeze(median(lowgamma_PRG,1))','Symbol','')\n",
    "subplot(6,7,36);boxplot(squeeze(median(highgamma,1))','Symbol',''); ylabel('high gamma')\n",
    "subplot(6,7,37);boxplot(squeeze(median(highgamma_AMY,1))','Symbol','')\n",
    "subplot(6,7,38);boxplot(squeeze(median(highgamma_HIP,1))','Symbol','')\n",
    "subplot(6,7,39);boxplot(squeeze(median(highgamma_INFTEMP,1))','Symbol','')\n",
    "subplot(6,7,40);boxplot(squeeze(median(highgamma_SUBTEMP,1))','Symbol','')\n",
    "subplot(6,7,41);boxplot(squeeze(median(highgamma_FRG,1))','Symbol','')\n",
    "subplot(6,7,42);boxplot(squeeze(median(highgamma_PRG,1))','Symbol','')"
   ]
  },
  {
   "cell_type": "code",
   "execution_count": null,
   "metadata": {},
   "outputs": [],
   "source": [
    "Diff_delta(1,:) = 1./(mean(squeeze(median(delta(:,1:2,:),3)),2)./mean(squeeze(median(delta(:,3:5,:),3)),2))';\n",
    "Diff_delta_AMY(1,:) = 1./(mean(squeeze(median(delta_AMY(:,1:2,:),3)),2)./mean(squeeze(median(delta_AMY(:,3:5,:),3)),2))';\n",
    "Diff_delta_HIP(1,:) = 1./(mean(squeeze(median(delta_HIP(:,1:2,:),3)),2)./mean(squeeze(median(delta_HIP(:,3:5,:),3)),2))';\n",
    "Diff_delta_INFTEMP(1,:) = 1./(mean(squeeze(median(delta_INFTEMP(:,1:2,:),3)),2)./mean(squeeze(median(delta_INFTEMP(:,3:5,:),3)),2))';\n",
    "Diff_delta_SUBTEMP(1,:) = 1./(mean(squeeze(median(delta_SUBTEMP(:,1:2,:),3)),2)./mean(squeeze(median(delta_SUBTEMP(:,3:5,:),3)),2))';\n",
    "Diff_delta_FRG(1,:) = 1./(mean(squeeze(median(delta_FRG(:,1:2,:),3)),2)./mean(squeeze(median(delta_FRG(:,3:5,:),3)),2))';\n",
    "Diff_delta_PRG(1,:) = 1./(mean(squeeze(median(delta_PRG(:,1:2,:),3)),2)./mean(squeeze(median(delta_PRG(:,3:5,:),3)),2))';\n",
    "Diff_theta(1,:) = 1./(mean(squeeze(median(theta(:,1:2,:),3)),2)./mean(squeeze(median(theta(:,3:5,:),3)),2))';\n",
    "Diff_theta_AMY(1,:) = 1./(mean(squeeze(median(theta_AMY(:,1:2,:),3)),2)./mean(squeeze(median(theta_AMY(:,3:5,:),3)),2))';\n",
    "Diff_theta_HIP(1,:) = 1./(mean(squeeze(median(theta_HIP(:,1:2,:),3)),2)./mean(squeeze(median(theta_HIP(:,3:5,:),3)),2))';\n",
    "Diff_theta_INFTEMP(1,:) = 1./(mean(squeeze(median(theta_INFTEMP(:,1:2,:),3)),2)./mean(squeeze(median(theta_INFTEMP(:,3:5,:),3)),2))';\n",
    "Diff_theta_SUBTEMP(1,:) = 1./(mean(squeeze(median(theta_SUBTEMP(:,1:2,:),3)),2)./mean(squeeze(median(theta_SUBTEMP(:,3:5,:),3)),2))';\n",
    "Diff_theta_FRG(1,:) = 1./(mean(squeeze(median(theta_FRG(:,1:2,:),3)),2)./mean(squeeze(median(theta_FRG(:,3:5,:),3)),2))';\n",
    "Diff_theta_PRG(1,:) = 1./(mean(squeeze(median(theta_PRG(:,1:2,:),3)),2)./mean(squeeze(median(theta_PRG(:,3:5,:),3)),2))';\n",
    "Diff_alpha(1,:) = 1./(mean(squeeze(median(alpha(:,1:2,:),3)),2)./mean(squeeze(median(alpha(:,3:5,:),3)),2))';\n",
    "Diff_alpha_AMY(1,:) = 1./(mean(squeeze(median(alpha_AMY(:,1:2,:),3)),2)./mean(squeeze(median(alpha_AMY(:,3:5,:),3)),2))';\n",
    "Diff_alpha_HIP(1,:) = 1./(mean(squeeze(median(alpha_HIP(:,1:2,:),3)),2)./mean(squeeze(median(alpha_HIP(:,3:5,:),3)),2))';\n",
    "Diff_alpha_INFTEMP(1,:) = 1./(mean(squeeze(median(alpha_INFTEMP(:,1:2,:),3)),2)./mean(squeeze(median(alpha_INFTEMP(:,3:5,:),3)),2))';\n",
    "Diff_alpha_SUBTEMP(1,:) = 1./(mean(squeeze(median(alpha_SUBTEMP(:,1:2,:),3)),2)./mean(squeeze(median(alpha_SUBTEMP(:,3:5,:),3)),2))';\n",
    "Diff_alpha_FRG(1,:) = 1./(mean(squeeze(median(alpha_FRG(:,1:2,:),3)),2)./mean(squeeze(median(alpha_FRG(:,3:5,:),3)),2))';\n",
    "Diff_alpha_PRG(1,:) = 1./(mean(squeeze(median(alpha_PRG(:,1:2,:),3)),2)./mean(squeeze(median(alpha_PRG(:,3:5,:),3)),2))';\n",
    "Diff_beta(1,:) = 1./(mean(squeeze(median(beta(:,1:2,:),3)),2)./mean(squeeze(median(beta(:,3:5,:),3)),2))';\n",
    "Diff_beta_AMY(1,:) = 1./(mean(squeeze(median(beta_AMY(:,1:2,:),3)),2)./mean(squeeze(median(beta_AMY(:,3:5,:),3)),2))';\n",
    "Diff_beta_HIP(1,:) = 1./(mean(squeeze(median(beta_HIP(:,1:2,:),3)),2)./mean(squeeze(median(beta_HIP(:,3:5,:),3)),2))';\n",
    "Diff_beta_INFTEMP(1,:) = 1./(mean(squeeze(median(beta_INFTEMP(:,1:2,:),3)),2)./mean(squeeze(median(beta_INFTEMP(:,3:5,:),3)),2))';\n",
    "Diff_beta_SUBTEMP(1,:) = 1./(mean(squeeze(median(beta_SUBTEMP(:,1:2,:),3)),2)./mean(squeeze(median(beta_SUBTEMP(:,3:5,:),3)),2))';\n",
    "Diff_beta_FRG(1,:) = 1./(mean(squeeze(median(beta_FRG(:,1:2,:),3)),2)./mean(squeeze(median(beta_FRG(:,3:5,:),3)),2))';\n",
    "Diff_beta_PRG(1,:) = 1./(mean(squeeze(median(beta_PRG(:,1:2,:),3)),2)./mean(squeeze(median(beta_PRG(:,3:5,:),3)),2))';\n",
    "Diff_lowgamma(1,:) = 1./(mean(squeeze(median(lowgamma(:,1:2,:),3)),2)./mean(squeeze(median(lowgamma(:,3:5,:),3)),2))';\n",
    "Diff_lowgamma_AMY(1,:) = 1./(mean(squeeze(median(lowgamma_AMY(:,1:2,:),3)),2)./mean(squeeze(median(lowgamma_AMY(:,3:5,:),3)),2))';\n",
    "Diff_lowgamma_HIP(1,:) = 1./(mean(squeeze(median(lowgamma_HIP(:,1:2,:),3)),2)./mean(squeeze(median(lowgamma_HIP(:,3:5,:),3)),2))';\n",
    "Diff_lowgamma_INFTEMP(1,:) = 1./(mean(squeeze(median(lowgamma_INFTEMP(:,1:2,:),3)),2)./mean(squeeze(median(lowgamma_INFTEMP(:,3:5,:),3)),2))';\n",
    "Diff_lowgamma_SUBTEMP(1,:) = 1./(mean(squeeze(median(lowgamma_SUBTEMP(:,1:2,:),3)),2)./mean(squeeze(median(lowgamma_SUBTEMP(:,3:5,:),3)),2))';\n",
    "Diff_lowgamma_FRG(1,:) = 1./(mean(squeeze(median(lowgamma_FRG(:,1:2,:),3)),2)./mean(squeeze(median(lowgamma_FRG(:,3:5,:),3)),2))';\n",
    "Diff_lowgamma_PRG(1,:) = 1./(mean(squeeze(median(lowgamma_PRG(:,1:2,:),3)),2)./mean(squeeze(median(lowgamma_PRG(:,3:5,:),3)),2))';\n",
    "Diff_highgamma(1,:) = 1./(mean(squeeze(median(highgamma(:,1:2,:),3)),2)./mean(squeeze(median(highgamma(:,3:5,:),3)),2))';\n",
    "Diff_highgamma_AMY(1,:) = 1./(mean(squeeze(median(highgamma_AMY(:,1:2,:),3)),2)./mean(squeeze(median(highgamma_AMY(:,3:5,:),3)),2))';\n",
    "Diff_highgamma_HIP(1,:) = 1./(mean(squeeze(median(highgamma_HIP(:,1:2,:),3)),2)./mean(squeeze(median(highgamma_HIP(:,3:5,:),3)),2))';\n",
    "Diff_highgamma_INFTEMP(1,:) = 1./(mean(squeeze(median(highgamma_INFTEMP(:,1:2,:),3)),2)./mean(squeeze(median(highgamma_INFTEMP(:,3:5,:),3)),2))';\n",
    "Diff_highgamma_SUBTEMP(1,:) = 1./(mean(squeeze(median(highgamma_SUBTEMP(:,1:2,:),3)),2)./mean(squeeze(median(highgamma_SUBTEMP(:,3:5,:),3)),2))';\n",
    "Diff_highgamma_FRG(1,:) = 1./(mean(squeeze(median(highgamma_FRG(:,1:2,:),3)),2)./mean(squeeze(median(highgamma_FRG(:,3:5,:),3)),2))';\n",
    "Diff_highgamma_PRG(1,:) = 1./(mean(squeeze(median(highgamma_PRG(:,1:2,:),3)),2)./mean(squeeze(median(highgamma_PRG(:,3:5,:),3)),2))';\n",
    "\n",
    "Diff_delta(2,:) = 1./(squeeze(median(delta(:,6,:),3))./squeeze(median(delta(:,7,:),3)))';\n",
    "Diff_delta_AMY(2,:) = 1./(squeeze(median(delta_AMY(:,6,:),3))./squeeze(median(delta_AMY(:,7,:),3)))';\n",
    "Diff_delta_HIP(2,:) = 1./(squeeze(median(delta_HIP(:,6,:),3))./squeeze(median(delta_HIP(:,7,:),3)))';\n",
    "Diff_delta_INFTEMP(2,:) = 1./(squeeze(median(delta_INFTEMP(:,6,:),3))./squeeze(median(delta_INFTEMP(:,7,:),3)))';\n",
    "Diff_delta_SUBTEMP(2,:) = 1./(squeeze(median(delta_SUBTEMP(:,6,:),3))./squeeze(median(delta_SUBTEMP(:,7,:),3)))';\n",
    "Diff_delta_FRG(2,:) = 1./(squeeze(median(delta_FRG(:,6,:),3))./squeeze(median(delta_FRG(:,7,:),3)))';\n",
    "Diff_delta_PRG(2,:) = 1./(squeeze(median(delta_PRG(:,6,:),3))./squeeze(median(delta_PRG(:,7,:),3)))';\n",
    "Diff_theta(2,:) = 1./(squeeze(median(theta(:,6,:),3))./squeeze(median(theta(:,7,:),3)))';\n",
    "Diff_theta_AMY(2,:) = 1./(squeeze(median(theta_AMY(:,6,:),3))./squeeze(median(theta_AMY(:,7,:),3)))';\n",
    "Diff_theta_HIP(2,:) = 1./(squeeze(median(theta_HIP(:,6,:),3))./squeeze(median(theta_HIP(:,7,:),3)))';\n",
    "Diff_theta_INFTEMP(2,:) = 1./(squeeze(median(theta_INFTEMP(:,6,:),3))./squeeze(median(theta_INFTEMP(:,7,:),3)))';\n",
    "Diff_theta_SUBTEMP(2,:) = 1./(squeeze(median(theta_SUBTEMP(:,6,:),3))./squeeze(median(theta_SUBTEMP(:,7,:),3)))';\n",
    "Diff_theta_FRG(2,:) = 1./(squeeze(median(theta_FRG(:,6,:),3))./squeeze(median(theta_FRG(:,7,:),3)))';\n",
    "Diff_theta_PRG(2,:) = 1./(squeeze(median(theta_PRG(:,6,:),3))./squeeze(median(theta_PRG(:,7,:),3)))';\n",
    "Diff_alpha(2,:) = 1./(squeeze(median(alpha(:,6,:),3))./squeeze(median(alpha(:,7,:),3)))';\n",
    "Diff_alpha_AMY(2,:) = 1./(squeeze(median(alpha_AMY(:,6,:),3))./squeeze(median(alpha_AMY(:,7,:),3)))';\n",
    "Diff_alpha_HIP(2,:) = 1./(squeeze(median(alpha_HIP(:,6,:),3))./squeeze(median(alpha_HIP(:,7,:),3)))';\n",
    "Diff_alpha_INFTEMP(2,:) = 1./(squeeze(median(alpha_INFTEMP(:,6,:),3))./squeeze(median(alpha_INFTEMP(:,7,:),3)))';\n",
    "Diff_alpha_SUBTEMP(2,:) = 1./(squeeze(median(alpha_SUBTEMP(:,6,:),3))./squeeze(median(alpha_SUBTEMP(:,7,:),3)))';\n",
    "Diff_alpha_FRG(2,:) = 1./(squeeze(median(alpha_FRG(:,6,:),3))./squeeze(median(alpha_FRG(:,7,:),3)))';\n",
    "Diff_alpha_PRG(2,:) = 1./(squeeze(median(alpha_PRG(:,6,:),3))./squeeze(median(alpha_PRG(:,7,:),3)))';\n",
    "Diff_beta(2,:) = 1./(squeeze(median(beta(:,6,:),3))./squeeze(median(beta(:,7,:),3)))';\n",
    "Diff_beta_AMY(2,:) = 1./(squeeze(median(beta_AMY(:,6,:),3))./squeeze(median(beta_AMY(:,7,:),3)))';\n",
    "Diff_beta_HIP(2,:) = 1./(squeeze(median(beta_HIP(:,6,:),3))./squeeze(median(beta_HIP(:,7,:),3)))';\n",
    "Diff_beta_INFTEMP(2,:) = 1./(squeeze(median(beta_INFTEMP(:,6,:),3))./squeeze(median(beta_INFTEMP(:,7,:),3)))';\n",
    "Diff_beta_SUBTEMP(2,:) = 1./(squeeze(median(beta_SUBTEMP(:,6,:),3))./squeeze(median(beta_SUBTEMP(:,7,:),3)))';\n",
    "Diff_beta_FRG(2,:) = 1./(squeeze(median(beta_FRG(:,6,:),3))./squeeze(median(beta_FRG(:,7,:),3)))';\n",
    "Diff_beta_PRG(2,:) = 1./(squeeze(median(beta_PRG(:,6,:),3))./squeeze(median(beta_PRG(:,7,:),3)))';\n",
    "Diff_lowgamma(2,:) = 1./(squeeze(median(lowgamma(:,6,:),3))./squeeze(median(lowgamma(:,7,:),3)))';\n",
    "Diff_lowgamma_AMY(2,:) = 1./(squeeze(median(lowgamma_AMY(:,6,:),3))./squeeze(median(lowgamma_AMY(:,7,:),3)))';\n",
    "Diff_lowgamma_HIP(2,:) = 1./(squeeze(median(lowgamma_HIP(:,6,:),3))./squeeze(median(lowgamma_HIP(:,7,:),3)))';\n",
    "Diff_lowgamma_INFTEMP(2,:) = 1./(squeeze(median(lowgamma_INFTEMP(:,6,:),3))./squeeze(median(lowgamma_INFTEMP(:,7,:),3)))';\n",
    "Diff_lowgamma_SUBTEMP(2,:) = 1./(squeeze(median(lowgamma_SUBTEMP(:,6,:),3))./squeeze(median(lowgamma_SUBTEMP(:,7,:),3)))';\n",
    "Diff_lowgamma_FRG(2,:) = 1./(squeeze(median(lowgamma_FRG(:,6,:),3))./squeeze(median(lowgamma_FRG(:,7,:),3)))';\n",
    "Diff_lowgamma_PRG(2,:) = 1./(squeeze(median(lowgamma_PRG(:,6,:),3))./squeeze(median(lowgamma_PRG(:,7,:),3)))';\n",
    "Diff_highgamma(2,:) = 1./(squeeze(median(highgamma(:,6,:),3))./squeeze(median(highgamma(:,7,:),3)))';\n",
    "Diff_highgamma_AMY(2,:) = 1./(squeeze(median(highgamma_AMY(:,6,:),3))./squeeze(median(highgamma_AMY(:,7,:),3)))';\n",
    "Diff_highgamma_HIP(2,:) = 1./(squeeze(median(highgamma_HIP(:,6,:),3))./squeeze(median(highgamma_HIP(:,7,:),3)))';\n",
    "Diff_highgamma_INFTEMP(2,:) = 1./(squeeze(median(highgamma_INFTEMP(:,6,:),3))./squeeze(median(highgamma_INFTEMP(:,7,:),3)))';\n",
    "Diff_highgamma_SUBTEMP(2,:) = 1./(squeeze(median(highgamma_SUBTEMP(:,6,:),3))./squeeze(median(highgamma_SUBTEMP(:,7,:),3)))';\n",
    "Diff_highgamma_FRG(2,:) = 1./(squeeze(median(highgamma_FRG(:,6,:),3))./squeeze(median(highgamma_FRG(:,7,:),3)))';\n",
    "Diff_highgamma_PRG(2,:) = 1./(squeeze(median(highgamma_PRG(:,6,:),3))./squeeze(median(highgamma_PRG(:,7,:),3)))';\n",
    "\n"
   ]
  },
  {
   "cell_type": "code",
   "execution_count": null,
   "metadata": {},
   "outputs": [],
   "source": [
    "yl =[0,5];\n",
    "figure\n",
    "subplot(6,7,1);boxplot(Diff_delta','Symbol','');title('All electrodes'); ylabel('delta')\n",
    "ylim(yl)                       \n",
    "subplot(6,7,2);boxplot(Diff_delta_AMY','Symbol','');title('Amygdala')\n",
    "ylim(yl)                       \n",
    "subplot(6,7,3);boxplot(Diff_delta_HIP','Symbol','');title('Hippocampus')\n",
    "ylim(yl)                       \n",
    "subplot(6,7,4);boxplot(Diff_delta_INFTEMP','Symbol','');title('Inferior temporal')\n",
    "ylim(yl)                       \n",
    "subplot(6,7,5);boxplot(Diff_delta_SUBTEMP','Symbol','');title('sub (?) temporal')\n",
    "ylim(yl)                       \n",
    "subplot(6,7,6);boxplot(Diff_delta_FRG','Symbol','');title('Frontal Grid')\n",
    "ylim(yl)                       \n",
    "subplot(6,7,7);boxplot(Diff_delta_PRG','Symbol','');title('Parietal grid')\n",
    "ylim(yl)                       \n",
    "subplot(6,7,8);boxplot(Diff_theta','Symbol',''); ylabel('theta')\n",
    "ylim(yl)                       \n",
    "subplot(6,7,9);boxplot(Diff_theta_AMY','Symbol','')\n",
    "ylim(yl)                       \n",
    "subplot(6,7,10);boxplot(Diff_theta_HIP','Symbol','')\n",
    "ylim(yl)                        \n",
    "subplot(6,7,11);boxplot(Diff_theta_INFTEMP','Symbol','')\n",
    "ylim(yl)                        \n",
    "subplot(6,7,12);boxplot(Diff_theta_SUBTEMP','Symbol','')\n",
    "ylim(yl)                        \n",
    "subplot(6,7,13);boxplot(Diff_theta_FRG','Symbol','')\n",
    "ylim(yl)                        \n",
    "subplot(6,7,14);boxplot(Diff_theta_PRG','Symbol','')\n",
    "ylim(yl)                        \n",
    "subplot(6,7,15);boxplot(Diff_alpha','Symbol',''); ylabel('alpha')\n",
    "ylim(yl)                        \n",
    "subplot(6,7,16);boxplot(Diff_alpha_AMY','Symbol','')\n",
    "ylim(yl)                        \n",
    "subplot(6,7,17);boxplot(Diff_alpha_HIP','Symbol','')\n",
    "ylim(yl)                        \n",
    "subplot(6,7,18);boxplot(Diff_alpha_INFTEMP','Symbol','')\n",
    "ylim(yl)                        \n",
    "subplot(6,7,19);boxplot(Diff_alpha_SUBTEMP','Symbol','')\n",
    "ylim(yl)                        \n",
    "subplot(6,7,20);boxplot(Diff_alpha_FRG','Symbol','')\n",
    "ylim(yl)                        \n",
    "subplot(6,7,21);boxplot(Diff_alpha_PRG','Symbol','')\n",
    "ylim(yl)                        \n",
    "subplot(6,7,22);boxplot(Diff_beta','Symbol',''); ylabel('beta')\n",
    "ylim(yl)                        \n",
    "subplot(6,7,23);boxplot(Diff_beta_AMY','Symbol','')\n",
    "ylim(yl)                        \n",
    "subplot(6,7,24);boxplot(Diff_beta_HIP','Symbol','')\n",
    "ylim(yl)                        \n",
    "subplot(6,7,25);boxplot(Diff_beta_INFTEMP','Symbol','')\n",
    "ylim(yl)                        \n",
    "subplot(6,7,26);boxplot(Diff_beta_SUBTEMP','Symbol','')\n",
    "ylim(yl)                        \n",
    "subplot(6,7,27);boxplot(Diff_beta_FRG','Symbol','')\n",
    "ylim(yl)                        \n",
    "subplot(6,7,28);boxplot(Diff_beta_PRG','Symbol','')\n",
    "ylim(yl)                        \n",
    "subplot(6,7,29);boxplot(Diff_lowgamma','Symbol',''); ylabel('low gamma')\n",
    "ylim(yl)                        \n",
    "subplot(6,7,30);boxplot(Diff_lowgamma_AMY','Symbol','')\n",
    "ylim(yl)                        \n",
    "subplot(6,7,31);boxplot(Diff_lowgamma_HIP','Symbol','')\n",
    "ylim(yl)                        \n",
    "subplot(6,7,32);boxplot(Diff_lowgamma_INFTEMP','Symbol','')\n",
    "ylim(yl)                        \n",
    "subplot(6,7,33);boxplot(Diff_lowgamma_SUBTEMP','Symbol','')\n",
    "ylim(yl)                        \n",
    "subplot(6,7,34);boxplot(Diff_lowgamma_FRG','Symbol','')\n",
    "ylim(yl)                        \n",
    "subplot(6,7,35);boxplot(Diff_lowgamma_PRG','Symbol','')\n",
    "ylim(yl)                        \n",
    "subplot(6,7,36);boxplot(Diff_highgamma','Symbol',''); ylabel('high gamma')\n",
    "ylim(yl)                        \n",
    "subplot(6,7,37);boxplot(Diff_highgamma_AMY','Symbol','')\n",
    "ylim(yl)                        \n",
    "subplot(6,7,38);boxplot(Diff_highgamma_HIP','Symbol','')\n",
    "ylim(yl)                        \n",
    "subplot(6,7,39);boxplot(Diff_highgamma_INFTEMP','Symbol','')\n",
    "ylim(yl)                        \n",
    "subplot(6,7,40);boxplot(Diff_highgamma_SUBTEMP','Symbol','')\n",
    "ylim(yl)                        \n",
    "subplot(6,7,41);boxplot(Diff_highgamma_FRG','Symbol','')\n",
    "ylim(yl)                        \n",
    "subplot(6,7,42);boxplot(Diff_highgamma_PRG','Symbol','')\n",
    "ylim(yl)                        "
   ]
  },
  {
   "cell_type": "code",
   "execution_count": null,
   "metadata": {},
   "outputs": [],
   "source": [
    "% Looking at measures relative to same day awake\n",
    "Diff_trial_delta(1,:) = 1./(mean(squeeze(median(delta(:,1:2,:),1)),1)'./squeeze(median(delta(:,3,:))))';\n",
    "Diff_trial_delta_AMY(1,:) = 1./(mean(squeeze(median(delta_AMY(:,1:2,:),1)),1)'./squeeze(median(delta_AMY(:,3,:))))';\n",
    "Diff_trial_delta_HIP(1,:) = 1./(mean(squeeze(median(delta_HIP(:,1:2,:),1)),1)'./squeeze(median(delta_HIP(:,3,:))))';\n",
    "Diff_trial_delta_INFTEMP(1,:) = 1./(mean(squeeze(median(delta_INFTEMP(:,1:2,:),1)),1)'./squeeze(median(delta_INFTEMP(:,3,:))))';\n",
    "Diff_trial_delta_SUBTEMP(1,:) = 1./(mean(squeeze(median(delta_SUBTEMP(:,1:2,:),1)),1)'./squeeze(median(delta_SUBTEMP(:,3,:))))';\n",
    "Diff_trial_delta_FRG(1,:) = 1./(mean(squeeze(median(delta_FRG(:,1:2,:),1)),1)'./squeeze(median(delta_FRG(:,3,:))))';\n",
    "Diff_trial_delta_PRG(1,:) = 1./(mean(squeeze(median(delta_PRG(:,1:2,:),1)),1)'./squeeze(median(delta_PRG(:,3,:))))';\n",
    "Diff_trial_theta(1,:) = 1./(mean(squeeze(median(theta(:,1:2,:),1)),1)'./squeeze(median(theta(:,3,:))))';\n",
    "Diff_trial_theta_AMY(1,:) = 1./(mean(squeeze(median(theta_AMY(:,1:2,:),1)),1)'./squeeze(median(theta_AMY(:,3,:))))';\n",
    "Diff_trial_theta_HIP(1,:) = 1./(mean(squeeze(median(theta_HIP(:,1:2,:),1)),1)'./squeeze(median(theta_HIP(:,3,:))))';\n",
    "Diff_trial_theta_INFTEMP(1,:) = 1./(mean(squeeze(median(theta_INFTEMP(:,1:2,:),1)),1)'./squeeze(median(theta_INFTEMP(:,3,:))))';\n",
    "Diff_trial_theta_SUBTEMP(1,:) = 1./(mean(squeeze(median(theta_SUBTEMP(:,1:2,:),1)),1)'./squeeze(median(theta_SUBTEMP(:,3,:))))';\n",
    "Diff_trial_theta_FRG(1,:) = 1./(mean(squeeze(median(theta_FRG(:,1:2,:),1)),1)'./squeeze(median(theta_FRG(:,3,:))))';\n",
    "Diff_trial_theta_PRG(1,:) = 1./(mean(squeeze(median(theta_PRG(:,1:2,:),1)),1)'./squeeze(median(theta_PRG(:,3,:))))';\n",
    "Diff_trial_alpha(1,:) = 1./(mean(squeeze(median(alpha(:,1:2,:),1)),1)'./squeeze(median(alpha(:,3,:))))';\n",
    "Diff_trial_alpha_AMY(1,:) = 1./(mean(squeeze(median(alpha_AMY(:,1:2,:),1)),1)'./squeeze(median(alpha_AMY(:,3,:))))';\n",
    "Diff_trial_alpha_HIP(1,:) = 1./(mean(squeeze(median(alpha_HIP(:,1:2,:),1)),1)'./squeeze(median(alpha_HIP(:,3,:))))';\n",
    "Diff_trial_alpha_INFTEMP(1,:) = 1./(mean(squeeze(median(alpha_INFTEMP(:,1:2,:),1)),1)'./squeeze(median(alpha_INFTEMP(:,3,:))))';\n",
    "Diff_trial_alpha_SUBTEMP(1,:) = 1./(mean(squeeze(median(alpha_SUBTEMP(:,1:2,:),1)),1)'./squeeze(median(alpha_SUBTEMP(:,3,:))))';\n",
    "Diff_trial_alpha_FRG(1,:) = 1./(mean(squeeze(median(alpha_FRG(:,1:2,:),1)),1)'./squeeze(median(alpha_FRG(:,3,:))))';\n",
    "Diff_trial_alpha_PRG(1,:) = 1./(mean(squeeze(median(alpha_PRG(:,1:2,:),1)),1)'./squeeze(median(alpha_PRG(:,3,:))))';\n",
    "Diff_trial_beta(1,:) = 1./(mean(squeeze(median(beta(:,1:2,:),1)),1)'./squeeze(median(beta(:,3,:))))';\n",
    "Diff_trial_beta_AMY(1,:) = 1./(mean(squeeze(median(beta_AMY(:,1:2,:),1)),1)'./squeeze(median(beta_AMY(:,3,:))))';\n",
    "Diff_trial_beta_HIP(1,:) = 1./(mean(squeeze(median(beta_HIP(:,1:2,:),1)),1)'./squeeze(median(beta_HIP(:,3,:))))';\n",
    "Diff_trial_beta_INFTEMP(1,:) = 1./(mean(squeeze(median(beta_INFTEMP(:,1:2,:),1)),1)'./squeeze(median(beta_INFTEMP(:,3,:))))';\n",
    "Diff_trial_beta_SUBTEMP(1,:) = 1./(mean(squeeze(median(beta_SUBTEMP(:,1:2,:),1)),1)'./squeeze(median(beta_SUBTEMP(:,3,:))))';\n",
    "Diff_trial_beta_FRG(1,:) = 1./(mean(squeeze(median(beta_FRG(:,1:2,:),1)),1)'./squeeze(median(beta_FRG(:,3,:))))';\n",
    "Diff_trial_beta_PRG(1,:) = 1./(mean(squeeze(median(beta_PRG(:,1:2,:),1)),1)'./squeeze(median(beta_PRG(:,3,:))))';\n",
    "Diff_trial_lowgamma(1,:) = 1./(mean(squeeze(median(lowgamma(:,1:2,:),1)),1)'./squeeze(median(lowgamma(:,3,:))))';\n",
    "Diff_trial_lowgamma_AMY(1,:) = 1./(mean(squeeze(median(lowgamma_AMY(:,1:2,:),1)),1)'./squeeze(median(lowgamma_AMY(:,3,:))))';\n",
    "Diff_trial_lowgamma_HIP(1,:) = 1./(mean(squeeze(median(lowgamma_HIP(:,1:2,:),1)),1)'./squeeze(median(lowgamma_HIP(:,3,:))))';\n",
    "Diff_trial_lowgamma_INFTEMP(1,:) = 1./(mean(squeeze(median(lowgamma_INFTEMP(:,1:2,:),1)),1)'./squeeze(median(lowgamma_INFTEMP(:,3,:))))';\n",
    "Diff_trial_lowgamma_SUBTEMP(1,:) = 1./(mean(squeeze(median(lowgamma_SUBTEMP(:,1:2,:),1)),1)'./squeeze(median(lowgamma_SUBTEMP(:,3,:))))';\n",
    "Diff_trial_lowgamma_FRG(1,:) = 1./(mean(squeeze(median(lowgamma_FRG(:,1:2,:),1)),1)'./squeeze(median(lowgamma_FRG(:,3,:))))';\n",
    "Diff_trial_lowgamma_PRG(1,:) = 1./(mean(squeeze(median(lowgamma_PRG(:,1:2,:),1)),1)'./squeeze(median(lowgamma_PRG(:,3,:))))';\n",
    "Diff_trial_highgamma(1,:) = 1./(mean(squeeze(median(highgamma(:,1:2,:),1)),1)'./squeeze(median(highgamma(:,3,:))))';\n",
    "Diff_trial_highgamma_AMY(1,:) = 1./(mean(squeeze(median(highgamma_AMY(:,1:2,:),1)),1)'./squeeze(median(highgamma_AMY(:,3,:))))';\n",
    "Diff_trial_highgamma_HIP(1,:) = 1./(mean(squeeze(median(highgamma_HIP(:,1:2,:),1)),1)'./squeeze(median(highgamma_HIP(:,3,:))))';\n",
    "Diff_trial_highgamma_INFTEMP(1,:) = 1./(mean(squeeze(median(highgamma_INFTEMP(:,1:2,:),1)),1)'./squeeze(median(highgamma_INFTEMP(:,3,:))))';\n",
    "Diff_trial_highgamma_SUBTEMP(1,:) = 1./(mean(squeeze(median(highgamma_SUBTEMP(:,1:2,:),1)),1)'./squeeze(median(highgamma_SUBTEMP(:,3,:))))';\n",
    "Diff_trial_highgamma_FRG(1,:) = 1./(mean(squeeze(median(highgamma_FRG(:,1:2,:),1)),1)'./squeeze(median(highgamma_FRG(:,3,:))))';\n",
    "Diff_trial_highgamma_PRG(1,:) = 1./(mean(squeeze(median(highgamma_PRG(:,1:2,:),1)),1)'./squeeze(median(highgamma_PRG(:,3,:))))';\n",
    "\n",
    "Diff_trial_delta(2,:) = 1./(mean(squeeze(median(delta(:,1:2,:),1)),1)'./squeeze(median(delta(:,4,:))))';\n",
    "Diff_trial_delta_AMY(2,:) = 1./(mean(squeeze(median(delta_AMY(:,1:2,:),1)),1)'./squeeze(median(delta_AMY(:,4,:))))';\n",
    "Diff_trial_delta_HIP(2,:) = 1./(mean(squeeze(median(delta_HIP(:,1:2,:),1)),1)'./squeeze(median(delta_HIP(:,4,:))))';\n",
    "Diff_trial_delta_INFTEMP(2,:) = 1./(mean(squeeze(median(delta_INFTEMP(:,1:2,:),1)),1)'./squeeze(median(delta_INFTEMP(:,4,:))))';\n",
    "Diff_trial_delta_SUBTEMP(2,:) = 1./(mean(squeeze(median(delta_SUBTEMP(:,1:2,:),1)),1)'./squeeze(median(delta_SUBTEMP(:,4,:))))';\n",
    "Diff_trial_delta_FRG(2,:) = 1./(mean(squeeze(median(delta_FRG(:,1:2,:),1)),1)'./squeeze(median(delta_FRG(:,4,:))))';\n",
    "Diff_trial_delta_PRG(2,:) = 1./(mean(squeeze(median(delta_PRG(:,1:2,:),1)),1)'./squeeze(median(delta_PRG(:,4,:))))';\n",
    "Diff_trial_theta(2,:) = 1./(mean(squeeze(median(theta(:,1:2,:),1)),1)'./squeeze(median(theta(:,4,:))))';\n",
    "Diff_trial_theta_AMY(2,:) = 1./(mean(squeeze(median(theta_AMY(:,1:2,:),1)),1)'./squeeze(median(theta_AMY(:,4,:))))';\n",
    "Diff_trial_theta_HIP(2,:) = 1./(mean(squeeze(median(theta_HIP(:,1:2,:),1)),1)'./squeeze(median(theta_HIP(:,4,:))))';\n",
    "Diff_trial_theta_INFTEMP(2,:) = 1./(mean(squeeze(median(theta_INFTEMP(:,1:2,:),1)),1)'./squeeze(median(theta_INFTEMP(:,4,:))))';\n",
    "Diff_trial_theta_SUBTEMP(2,:) = 1./(mean(squeeze(median(theta_SUBTEMP(:,1:2,:),1)),1)'./squeeze(median(theta_SUBTEMP(:,4,:))))';\n",
    "Diff_trial_theta_FRG(2,:) = 1./(mean(squeeze(median(theta_FRG(:,1:2,:),1)),1)'./squeeze(median(theta_FRG(:,4,:))))';\n",
    "Diff_trial_theta_PRG(2,:) = 1./(mean(squeeze(median(theta_PRG(:,1:2,:),1)),1)'./squeeze(median(theta_PRG(:,4,:))))';\n",
    "Diff_trial_alpha(2,:) = 1./(mean(squeeze(median(alpha(:,1:2,:),1)),1)'./squeeze(median(alpha(:,4,:))))';\n",
    "Diff_trial_alpha_AMY(2,:) = 1./(mean(squeeze(median(alpha_AMY(:,1:2,:),1)),1)'./squeeze(median(alpha_AMY(:,4,:))))';\n",
    "Diff_trial_alpha_HIP(2,:) = 1./(mean(squeeze(median(alpha_HIP(:,1:2,:),1)),1)'./squeeze(median(alpha_HIP(:,4,:))))';\n",
    "Diff_trial_alpha_INFTEMP(2,:) = 1./(mean(squeeze(median(alpha_INFTEMP(:,1:2,:),1)),1)'./squeeze(median(alpha_INFTEMP(:,4,:))))';\n",
    "Diff_trial_alpha_SUBTEMP(2,:) = 1./(mean(squeeze(median(alpha_SUBTEMP(:,1:2,:),1)),1)'./squeeze(median(alpha_SUBTEMP(:,4,:))))';\n",
    "Diff_trial_alpha_FRG(2,:) = 1./(mean(squeeze(median(alpha_FRG(:,1:2,:),1)),1)'./squeeze(median(alpha_FRG(:,4,:))))';\n",
    "Diff_trial_alpha_PRG(2,:) = 1./(mean(squeeze(median(alpha_PRG(:,1:2,:),1)),1)'./squeeze(median(alpha_PRG(:,4,:))))';\n",
    "Diff_trial_beta(2,:) = 1./(mean(squeeze(median(beta(:,1:2,:),1)),1)'./squeeze(median(beta(:,4,:))))';\n",
    "Diff_trial_beta_AMY(2,:) = 1./(mean(squeeze(median(beta_AMY(:,1:2,:),1)),1)'./squeeze(median(beta_AMY(:,4,:))))';\n",
    "Diff_trial_beta_HIP(2,:) = 1./(mean(squeeze(median(beta_HIP(:,1:2,:),1)),1)'./squeeze(median(beta_HIP(:,4,:))))';\n",
    "Diff_trial_beta_INFTEMP(2,:) = 1./(mean(squeeze(median(beta_INFTEMP(:,1:2,:),1)),1)'./squeeze(median(beta_INFTEMP(:,4,:))))';\n",
    "Diff_trial_beta_SUBTEMP(2,:) = 1./(mean(squeeze(median(beta_SUBTEMP(:,1:2,:),1)),1)'./squeeze(median(beta_SUBTEMP(:,4,:))))';\n",
    "Diff_trial_beta_FRG(2,:) = 1./(mean(squeeze(median(beta_FRG(:,1:2,:),1)),1)'./squeeze(median(beta_FRG(:,4,:))))';\n",
    "Diff_trial_beta_PRG(2,:) = 1./(mean(squeeze(median(beta_PRG(:,1:2,:),1)),1)'./squeeze(median(beta_PRG(:,4,:))))';\n",
    "Diff_trial_lowgamma(2,:) = 1./(mean(squeeze(median(lowgamma(:,1:2,:),1)),1)'./squeeze(median(lowgamma(:,4,:))))';\n",
    "Diff_trial_lowgamma_AMY(2,:) = 1./(mean(squeeze(median(lowgamma_AMY(:,1:2,:),1)),1)'./squeeze(median(lowgamma_AMY(:,4,:))))';\n",
    "Diff_trial_lowgamma_HIP(2,:) = 1./(mean(squeeze(median(lowgamma_HIP(:,1:2,:),1)),1)'./squeeze(median(lowgamma_HIP(:,4,:))))';\n",
    "Diff_trial_lowgamma_INFTEMP(2,:) = 1./(mean(squeeze(median(lowgamma_INFTEMP(:,1:2,:),1)),1)'./squeeze(median(lowgamma_INFTEMP(:,4,:))))';\n",
    "Diff_trial_lowgamma_SUBTEMP(2,:) = 1./(mean(squeeze(median(lowgamma_SUBTEMP(:,1:2,:),1)),1)'./squeeze(median(lowgamma_SUBTEMP(:,4,:))))';\n",
    "Diff_trial_lowgamma_FRG(2,:) = 1./(mean(squeeze(median(lowgamma_FRG(:,1:2,:),1)),1)'./squeeze(median(lowgamma_FRG(:,4,:))))';\n",
    "Diff_trial_lowgamma_PRG(2,:) = 1./(mean(squeeze(median(lowgamma_PRG(:,1:2,:),1)),1)'./squeeze(median(lowgamma_PRG(:,4,:))))';\n",
    "Diff_trial_highgamma(2,:) = 1./(mean(squeeze(median(highgamma(:,1:2,:),1)),1)'./squeeze(median(highgamma(:,4,:))))';\n",
    "Diff_trial_highgamma_AMY(2,:) = 1./(mean(squeeze(median(highgamma_AMY(:,1:2,:),1)),1)'./squeeze(median(highgamma_AMY(:,4,:))))';\n",
    "Diff_trial_highgamma_HIP(2,:) = 1./(mean(squeeze(median(highgamma_HIP(:,1:2,:),1)),1)'./squeeze(median(highgamma_HIP(:,4,:))))';\n",
    "Diff_trial_highgamma_INFTEMP(2,:) = 1./(mean(squeeze(median(highgamma_INFTEMP(:,1:2,:),1)),1)'./squeeze(median(highgamma_INFTEMP(:,4,:))))';\n",
    "Diff_trial_highgamma_SUBTEMP(2,:) = 1./(mean(squeeze(median(highgamma_SUBTEMP(:,1:2,:),1)),1)'./squeeze(median(highgamma_SUBTEMP(:,4,:))))';\n",
    "Diff_trial_highgamma_FRG(2,:) = 1./(mean(squeeze(median(highgamma_FRG(:,1:2,:),1)),1)'./squeeze(median(highgamma_FRG(:,4,:))))';\n",
    "Diff_trial_highgamma_PRG(2,:) = 1./(mean(squeeze(median(highgamma_PRG(:,1:2,:),1)),1)'./squeeze(median(highgamma_PRG(:,4,:))))';\n",
    "\n",
    "Diff_trial_delta(3,:) = 1./(mean(squeeze(median(delta(:,1:2,:),1)),1)'./squeeze(median(delta(:,5,:))))';\n",
    "Diff_trial_delta_AMY(3,:) = 1./(mean(squeeze(median(delta_AMY(:,1:2,:),1)),1)'./squeeze(median(delta_AMY(:,5,:))))';\n",
    "Diff_trial_delta_HIP(3,:) = 1./(mean(squeeze(median(delta_HIP(:,1:2,:),1)),1)'./squeeze(median(delta_HIP(:,5,:))))';\n",
    "Diff_trial_delta_INFTEMP(3,:) = 1./(mean(squeeze(median(delta_INFTEMP(:,1:2,:),1)),1)'./squeeze(median(delta_INFTEMP(:,5,:))))';\n",
    "Diff_trial_delta_SUBTEMP(3,:) = 1./(mean(squeeze(median(delta_SUBTEMP(:,1:2,:),1)),1)'./squeeze(median(delta_SUBTEMP(:,5,:))))';\n",
    "Diff_trial_delta_FRG(3,:) = 1./(mean(squeeze(median(delta_FRG(:,1:2,:),1)),1)'./squeeze(median(delta_FRG(:,5,:))))';\n",
    "Diff_trial_delta_PRG(3,:) = 1./(mean(squeeze(median(delta_PRG(:,1:2,:),1)),1)'./squeeze(median(delta_PRG(:,5,:))))';\n",
    "Diff_trial_theta(3,:) = 1./(mean(squeeze(median(theta(:,1:2,:),1)),1)'./squeeze(median(theta(:,5,:))))';\n",
    "Diff_trial_theta_AMY(3,:) = 1./(mean(squeeze(median(theta_AMY(:,1:2,:),1)),1)'./squeeze(median(theta_AMY(:,5,:))))';\n",
    "Diff_trial_theta_HIP(3,:) = 1./(mean(squeeze(median(theta_HIP(:,1:2,:),1)),1)'./squeeze(median(theta_HIP(:,5,:))))';\n",
    "Diff_trial_theta_INFTEMP(3,:) = 1./(mean(squeeze(median(theta_INFTEMP(:,1:2,:),1)),1)'./squeeze(median(theta_INFTEMP(:,5,:))))';\n",
    "Diff_trial_theta_SUBTEMP(3,:) = 1./(mean(squeeze(median(theta_SUBTEMP(:,1:2,:),1)),1)'./squeeze(median(theta_SUBTEMP(:,5,:))))';\n",
    "Diff_trial_theta_FRG(3,:) = 1./(mean(squeeze(median(theta_FRG(:,1:2,:),1)),1)'./squeeze(median(theta_FRG(:,5,:))))';\n",
    "Diff_trial_theta_PRG(3,:) = 1./(mean(squeeze(median(theta_PRG(:,1:2,:),1)),1)'./squeeze(median(theta_PRG(:,5,:))))';\n",
    "Diff_trial_alpha(3,:) = 1./(mean(squeeze(median(alpha(:,1:2,:),1)),1)'./squeeze(median(alpha(:,5,:))))';\n",
    "Diff_trial_alpha_AMY(3,:) = 1./(mean(squeeze(median(alpha_AMY(:,1:2,:),1)),1)'./squeeze(median(alpha_AMY(:,5,:))))';\n",
    "Diff_trial_alpha_HIP(3,:) = 1./(mean(squeeze(median(alpha_HIP(:,1:2,:),1)),1)'./squeeze(median(alpha_HIP(:,5,:))))';\n",
    "Diff_trial_alpha_INFTEMP(3,:) = 1./(mean(squeeze(median(alpha_INFTEMP(:,1:2,:),1)),1)'./squeeze(median(alpha_INFTEMP(:,5,:))))';\n",
    "Diff_trial_alpha_SUBTEMP(3,:) = 1./(mean(squeeze(median(alpha_SUBTEMP(:,1:2,:),1)),1)'./squeeze(median(alpha_SUBTEMP(:,5,:))))';\n",
    "Diff_trial_alpha_FRG(3,:) = 1./(mean(squeeze(median(alpha_FRG(:,1:2,:),1)),1)'./squeeze(median(alpha_FRG(:,5,:))))';\n",
    "Diff_trial_alpha_PRG(3,:) = 1./(mean(squeeze(median(alpha_PRG(:,1:2,:),1)),1)'./squeeze(median(alpha_PRG(:,5,:))))';\n",
    "Diff_trial_beta(3,:) = 1./(mean(squeeze(median(beta(:,1:2,:),1)),1)'./squeeze(median(beta(:,5,:))))';\n",
    "Diff_trial_beta_AMY(3,:) = 1./(mean(squeeze(median(beta_AMY(:,1:2,:),1)),1)'./squeeze(median(beta_AMY(:,5,:))))';\n",
    "Diff_trial_beta_HIP(3,:) = 1./(mean(squeeze(median(beta_HIP(:,1:2,:),1)),1)'./squeeze(median(beta_HIP(:,5,:))))';\n",
    "Diff_trial_beta_INFTEMP(3,:) = 1./(mean(squeeze(median(beta_INFTEMP(:,1:2,:),1)),1)'./squeeze(median(beta_INFTEMP(:,5,:))))';\n",
    "Diff_trial_beta_SUBTEMP(3,:) = 1./(mean(squeeze(median(beta_SUBTEMP(:,1:2,:),1)),1)'./squeeze(median(beta_SUBTEMP(:,5,:))))';\n",
    "Diff_trial_beta_FRG(3,:) = 1./(mean(squeeze(median(beta_FRG(:,1:2,:),1)),1)'./squeeze(median(beta_FRG(:,5,:))))';\n",
    "Diff_trial_beta_PRG(3,:) = 1./(mean(squeeze(median(beta_PRG(:,1:2,:),1)),1)'./squeeze(median(beta_PRG(:,5,:))))';\n",
    "Diff_trial_lowgamma(3,:) = 1./(mean(squeeze(median(lowgamma(:,1:2,:),1)),1)'./squeeze(median(lowgamma(:,5,:))))';\n",
    "Diff_trial_lowgamma_AMY(3,:) = 1./(mean(squeeze(median(lowgamma_AMY(:,1:2,:),1)),1)'./squeeze(median(lowgamma_AMY(:,5,:))))';\n",
    "Diff_trial_lowgamma_HIP(3,:) = 1./(mean(squeeze(median(lowgamma_HIP(:,1:2,:),1)),1)'./squeeze(median(lowgamma_HIP(:,5,:))))';\n",
    "Diff_trial_lowgamma_INFTEMP(3,:) = 1./(mean(squeeze(median(lowgamma_INFTEMP(:,1:2,:),1)),1)'./squeeze(median(lowgamma_INFTEMP(:,5,:))))';\n",
    "Diff_trial_lowgamma_SUBTEMP(3,:) = 1./(mean(squeeze(median(lowgamma_SUBTEMP(:,1:2,:),1)),1)'./squeeze(median(lowgamma_SUBTEMP(:,5,:))))';\n",
    "Diff_trial_lowgamma_FRG(3,:) = 1./(mean(squeeze(median(lowgamma_FRG(:,1:2,:),1)),1)'./squeeze(median(lowgamma_FRG(:,5,:))))';\n",
    "Diff_trial_lowgamma_PRG(3,:) = 1./(mean(squeeze(median(lowgamma_PRG(:,1:2,:),1)),1)'./squeeze(median(lowgamma_PRG(:,5,:))))';\n",
    "Diff_trial_highgamma(3,:) = 1./(mean(squeeze(median(highgamma(:,1:2,:),1)),1)'./squeeze(median(highgamma(:,5,:))))';\n",
    "Diff_trial_highgamma_AMY(3,:) = 1./(mean(squeeze(median(highgamma_AMY(:,1:2,:),1)),1)'./squeeze(median(highgamma_AMY(:,5,:))))';\n",
    "Diff_trial_highgamma_HIP(3,:) = 1./(mean(squeeze(median(highgamma_HIP(:,1:2,:),1)),1)'./squeeze(median(highgamma_HIP(:,5,:))))';\n",
    "Diff_trial_highgamma_INFTEMP(3,:) = 1./(mean(squeeze(median(highgamma_INFTEMP(:,1:2,:),1)),1)'./squeeze(median(highgamma_INFTEMP(:,5,:))))';\n",
    "Diff_trial_highgamma_SUBTEMP(3,:) = 1./(mean(squeeze(median(highgamma_SUBTEMP(:,1:2,:),1)),1)'./squeeze(median(highgamma_SUBTEMP(:,5,:))))';\n",
    "Diff_trial_highgamma_FRG(3,:) = 1./(mean(squeeze(median(highgamma_FRG(:,1:2,:),1)),1)'./squeeze(median(highgamma_FRG(:,5,:))))';\n",
    "Diff_trial_highgamma_PRG(3,:) = 1./(mean(squeeze(median(highgamma_PRG(:,1:2,:),1)),1)'./squeeze(median(highgamma_PRG(:,5,:))))';\n",
    "\n",
    "Diff_trial_delta(4,:) = 1./(squeeze(median(delta(:,6,:),1))./squeeze(median(delta(:,7,:),1)))';\n",
    "Diff_trial_delta_AMY(4,:) = 1./(squeeze(median(delta_AMY(:,6,:),1))./squeeze(median(delta_AMY(:,7,:),1)))';\n",
    "Diff_trial_delta_HIP(4,:) = 1./(squeeze(median(delta_HIP(:,6,:),1))./squeeze(median(delta_HIP(:,7,:),1)))';\n",
    "Diff_trial_delta_INFTEMP(4,:) = 1./(squeeze(median(delta_INFTEMP(:,6,:),1))./squeeze(median(delta_INFTEMP(:,7,:),1)))';\n",
    "Diff_trial_delta_SUBTEMP(4,:) = 1./(squeeze(median(delta_SUBTEMP(:,6,:),1))./squeeze(median(delta_SUBTEMP(:,7,:),1)))';\n",
    "Diff_trial_delta_FRG(4,:) = 1./(squeeze(median(delta_FRG(:,6,:),1))./squeeze(median(delta_FRG(:,7,:),1)))';\n",
    "Diff_trial_delta_PRG(4,:) = 1./(squeeze(median(delta_PRG(:,6,:),1))./squeeze(median(delta_PRG(:,7,:),1)))';\n",
    "Diff_trial_theta(4,:) = 1./(squeeze(median(theta(:,6,:),1))./squeeze(median(theta(:,7,:),1)))';\n",
    "Diff_trial_theta_AMY(4,:) = 1./(squeeze(median(theta_AMY(:,6,:),1))./squeeze(median(theta_AMY(:,7,:),1)))';\n",
    "Diff_trial_theta_HIP(4,:) = 1./(squeeze(median(theta_HIP(:,6,:),1))./squeeze(median(theta_HIP(:,7,:),1)))';\n",
    "Diff_trial_theta_INFTEMP(4,:) = 1./(squeeze(median(theta_INFTEMP(:,6,:),1))./squeeze(median(theta_INFTEMP(:,7,:),1)))';\n",
    "Diff_trial_theta_SUBTEMP(4,:) = 1./(squeeze(median(theta_SUBTEMP(:,6,:),1))./squeeze(median(theta_SUBTEMP(:,7,:),1)))';\n",
    "Diff_trial_theta_FRG(4,:) = 1./(squeeze(median(theta_FRG(:,6,:),1))./squeeze(median(theta_FRG(:,7,:),1)))';\n",
    "Diff_trial_theta_PRG(4,:) = 1./(squeeze(median(theta_PRG(:,6,:),1))./squeeze(median(theta_PRG(:,7,:),1)))';\n",
    "Diff_trial_alpha(4,:) = 1./(squeeze(median(alpha(:,6,:),1))./squeeze(median(alpha(:,7,:),1)))';\n",
    "Diff_trial_alpha_AMY(4,:) = 1./(squeeze(median(alpha_AMY(:,6,:),1))./squeeze(median(alpha_AMY(:,7,:),1)))';\n",
    "Diff_trial_alpha_HIP(4,:) = 1./(squeeze(median(alpha_HIP(:,6,:),1))./squeeze(median(alpha_HIP(:,7,:),1)))';\n",
    "Diff_trial_alpha_INFTEMP(4,:) = 1./(squeeze(median(alpha_INFTEMP(:,6,:),1))./squeeze(median(alpha_INFTEMP(:,7,:),1)))';\n",
    "Diff_trial_alpha_SUBTEMP(4,:) = 1./(squeeze(median(alpha_SUBTEMP(:,6,:),1))./squeeze(median(alpha_SUBTEMP(:,7,:),1)))';\n",
    "Diff_trial_alpha_FRG(4,:) = 1./(squeeze(median(alpha_FRG(:,6,:),1))./squeeze(median(alpha_FRG(:,7,:),1)))';\n",
    "Diff_trial_alpha_PRG(4,:) = 1./(squeeze(median(alpha_PRG(:,6,:),1))./squeeze(median(alpha_PRG(:,7,:),1)))';\n",
    "Diff_trial_beta(4,:) = 1./(squeeze(median(beta(:,6,:),1))./squeeze(median(beta(:,7,:),1)))';\n",
    "Diff_trial_beta_AMY(4,:) = 1./(squeeze(median(beta_AMY(:,6,:),1))./squeeze(median(beta_AMY(:,7,:),1)))';\n",
    "Diff_trial_beta_HIP(4,:) = 1./(squeeze(median(beta_HIP(:,6,:),1))./squeeze(median(beta_HIP(:,7,:),1)))';\n",
    "Diff_trial_beta_INFTEMP(4,:) = 1./(squeeze(median(beta_INFTEMP(:,6,:),1))./squeeze(median(beta_INFTEMP(:,7,:),1)))';\n",
    "Diff_trial_beta_SUBTEMP(4,:) = 1./(squeeze(median(beta_SUBTEMP(:,6,:),1))./squeeze(median(beta_SUBTEMP(:,7,:),1)))';\n",
    "Diff_trial_beta_FRG(4,:) = 1./(squeeze(median(beta_FRG(:,6,:),1))./squeeze(median(beta_FRG(:,7,:),1)))';\n",
    "Diff_trial_beta_PRG(4,:) = 1./(squeeze(median(beta_PRG(:,6,:),1))./squeeze(median(beta_PRG(:,7,:),1)))';\n",
    "Diff_trial_lowgamma(4,:) = 1./(squeeze(median(lowgamma(:,6,:),1))./squeeze(median(lowgamma(:,7,:),1)))';\n",
    "Diff_trial_lowgamma_AMY(4,:) = 1./(squeeze(median(lowgamma_AMY(:,6,:),1))./squeeze(median(lowgamma_AMY(:,7,:),1)))';\n",
    "Diff_trial_lowgamma_HIP(4,:) = 1./(squeeze(median(lowgamma_HIP(:,6,:),1))./squeeze(median(lowgamma_HIP(:,7,:),1)))';\n",
    "Diff_trial_lowgamma_INFTEMP(4,:) = 1./(squeeze(median(lowgamma_INFTEMP(:,6,:),1))./squeeze(median(lowgamma_INFTEMP(:,7,:),1)))';\n",
    "Diff_trial_lowgamma_SUBTEMP(4,:) = 1./(squeeze(median(lowgamma_SUBTEMP(:,6,:),1))./squeeze(median(lowgamma_SUBTEMP(:,7,:),1)))';\n",
    "Diff_trial_lowgamma_FRG(4,:) = 1./(squeeze(median(lowgamma_FRG(:,6,:),1))./squeeze(median(lowgamma_FRG(:,7,:),1)))';\n",
    "Diff_trial_lowgamma_PRG(4,:) = 1./(squeeze(median(lowgamma_PRG(:,6,:),1))./squeeze(median(lowgamma_PRG(:,7,:),1)))';\n",
    "Diff_trial_highgamma(4,:) = 1./(squeeze(median(highgamma(:,6,:),1))./squeeze(median(highgamma(:,7,:),1)))';\n",
    "Diff_trial_highgamma_AMY(4,:) = 1./(squeeze(median(highgamma_AMY(:,6,:),1))./squeeze(median(highgamma_AMY(:,7,:),1)))';\n",
    "Diff_trial_highgamma_HIP(4,:) = 1./(squeeze(median(highgamma_HIP(:,6,:),1))./squeeze(median(highgamma_HIP(:,7,:),1)))';\n",
    "Diff_trial_highgamma_INFTEMP(4,:) = 1./(squeeze(median(highgamma_INFTEMP(:,6,:),1))./squeeze(median(highgamma_INFTEMP(:,7,:),1)))';\n",
    "Diff_trial_highgamma_SUBTEMP(4,:) = 1./(squeeze(median(highgamma_SUBTEMP(:,6,:),1))./squeeze(median(highgamma_SUBTEMP(:,7,:),1)))';\n",
    "Diff_trial_highgamma_FRG(4,:) = 1./(squeeze(median(highgamma_FRG(:,6,:),1))./squeeze(median(highgamma_FRG(:,7,:),1)))';\n",
    "Diff_trial_highgamma_PRG(4,:) = 1./(squeeze(median(highgamma_PRG(:,6,:),1))./squeeze(median(highgamma_PRG(:,7,:),1)))';\n",
    "\n",
    "\n",
    "\n",
    "% plot\n",
    "yl =[0,3];\n",
    "figure\n",
    "subplot(6,7,1);boxplot(Diff_trial_delta','Symbol','');title('All electrodes'); ylabel('delta')\n",
    "ylim(yl)                       \n",
    "subplot(6,7,2);boxplot(Diff_trial_delta_AMY','Symbol','');title('Amygdala')\n",
    "ylim(yl)                       \n",
    "subplot(6,7,3);boxplot(Diff_trial_delta_HIP','Symbol','');title('Hippocampus')\n",
    "ylim(yl)                       \n",
    "subplot(6,7,4);boxplot(Diff_trial_delta_INFTEMP','Symbol','');title('Inferior temporal')\n",
    "ylim(yl)                       \n",
    "subplot(6,7,5);boxplot(Diff_trial_delta_SUBTEMP','Symbol','');title('sub (?) temporal')\n",
    "ylim(yl)                       \n",
    "subplot(6,7,6);boxplot(Diff_trial_delta_FRG','Symbol','');title('Frontal Grid')\n",
    "ylim(yl)                       \n",
    "subplot(6,7,7);boxplot(Diff_trial_delta_PRG','Symbol','');title('Parietal grid')\n",
    "ylim(yl)                       \n",
    "subplot(6,7,8);boxplot(Diff_trial_theta','Symbol',''); ylabel('theta')\n",
    "ylim(yl)                       \n",
    "subplot(6,7,9);boxplot(Diff_trial_theta_AMY','Symbol','')\n",
    "ylim(yl)                       \n",
    "subplot(6,7,10);boxplot(Diff_trial_theta_HIP','Symbol','')\n",
    "ylim(yl)                        \n",
    "subplot(6,7,11);boxplot(Diff_trial_theta_INFTEMP','Symbol','')\n",
    "ylim(yl)                        \n",
    "subplot(6,7,12);boxplot(Diff_trial_theta_SUBTEMP','Symbol','')\n",
    "ylim(yl)                        \n",
    "subplot(6,7,13);boxplot(Diff_trial_theta_FRG','Symbol','')\n",
    "ylim(yl)                        \n",
    "subplot(6,7,14);boxplot(Diff_trial_theta_PRG','Symbol','')\n",
    "ylim(yl)                        \n",
    "subplot(6,7,15);boxplot(Diff_trial_alpha','Symbol',''); ylabel('alpha')\n",
    "ylim(yl)                        \n",
    "subplot(6,7,16);boxplot(Diff_trial_alpha_AMY','Symbol','')\n",
    "ylim(yl)                        \n",
    "subplot(6,7,17);boxplot(Diff_trial_alpha_HIP','Symbol','')\n",
    "ylim(yl)                        \n",
    "subplot(6,7,18);boxplot(Diff_trial_alpha_INFTEMP','Symbol','')\n",
    "ylim(yl)                        \n",
    "subplot(6,7,19);boxplot(Diff_trial_alpha_SUBTEMP','Symbol','')\n",
    "ylim(yl)                        \n",
    "subplot(6,7,20);boxplot(Diff_trial_alpha_FRG','Symbol','')\n",
    "ylim(yl)                        \n",
    "subplot(6,7,21);boxplot(Diff_trial_alpha_PRG','Symbol','')\n",
    "ylim(yl)                        \n",
    "subplot(6,7,22);boxplot(Diff_trial_beta','Symbol',''); ylabel('beta')\n",
    "ylim(yl)                        \n",
    "subplot(6,7,23);boxplot(Diff_trial_beta_AMY','Symbol','')\n",
    "ylim(yl)                        \n",
    "subplot(6,7,24);boxplot(Diff_trial_beta_HIP','Symbol','')\n",
    "ylim(yl)                        \n",
    "subplot(6,7,25);boxplot(Diff_trial_beta_INFTEMP','Symbol','')\n",
    "ylim(yl)                        \n",
    "subplot(6,7,26);boxplot(Diff_trial_beta_SUBTEMP','Symbol','')\n",
    "ylim(yl)                        \n",
    "subplot(6,7,27);boxplot(Diff_trial_beta_FRG','Symbol','')\n",
    "ylim(yl)                        \n",
    "subplot(6,7,28);boxplot(Diff_trial_beta_PRG','Symbol','')\n",
    "ylim(yl)                        \n",
    "subplot(6,7,29);boxplot(Diff_trial_lowgamma','Symbol',''); ylabel('low gamma')\n",
    "ylim(yl)                        \n",
    "subplot(6,7,30);boxplot(Diff_trial_lowgamma_AMY','Symbol','')\n",
    "ylim(yl)                        \n",
    "subplot(6,7,31);boxplot(Diff_trial_lowgamma_HIP','Symbol','')\n",
    "ylim(yl)                        \n",
    "subplot(6,7,32);boxplot(Diff_trial_lowgamma_INFTEMP','Symbol','')\n",
    "ylim(yl)                        \n",
    "subplot(6,7,33);boxplot(Diff_trial_lowgamma_SUBTEMP','Symbol','')\n",
    "ylim(yl)                        \n",
    "subplot(6,7,34);boxplot(Diff_trial_lowgamma_FRG','Symbol','')\n",
    "ylim(yl)                        \n",
    "subplot(6,7,35);boxplot(Diff_trial_lowgamma_PRG','Symbol','')\n",
    "ylim(yl)                        \n",
    "subplot(6,7,36);boxplot(Diff_trial_highgamma','Symbol',''); ylabel('high gamma')\n",
    "ylim(yl)                        \n",
    "subplot(6,7,37);boxplot(Diff_trial_highgamma_AMY','Symbol','')\n",
    "ylim(yl)                        \n",
    "subplot(6,7,38);boxplot(Diff_trial_highgamma_HIP','Symbol','')\n",
    "ylim(yl)                        \n",
    "subplot(6,7,39);boxplot(Diff_trial_highgamma_INFTEMP','Symbol','')\n",
    "ylim(yl)                        \n",
    "subplot(6,7,40);boxplot(Diff_trial_highgamma_SUBTEMP','Symbol','')\n",
    "ylim(yl)                        \n",
    "subplot(6,7,41);boxplot(Diff_trial_highgamma_FRG','Symbol','')\n",
    "ylim(yl)                        \n",
    "subplot(6,7,42);boxplot(Diff_trial_highgamma_PRG','Symbol','')\n",
    "ylim(yl)                        \n",
    "\n"
   ]
  },
  {
   "cell_type": "code",
   "execution_count": 166,
   "metadata": {},
   "outputs": [
    {
     "ename": "KeyError",
     "evalue": "'size'",
     "output_type": "error",
     "traceback": [
      "\u001b[0;31m---------------------------------------------------------------------------\u001b[0m",
      "\u001b[0;31mKeyError\u001b[0m                                  Traceback (most recent call last)",
      "\u001b[0;32m<ipython-input-166-bb09e4549863>\u001b[0m in \u001b[0;36m<module>\u001b[0;34m\u001b[0m\n\u001b[1;32m      5\u001b[0m \u001b[0;34m\u001b[0m\u001b[0m\n\u001b[1;32m      6\u001b[0m \u001b[0;34m\u001b[0m\u001b[0m\n\u001b[0;32m----> 7\u001b[0;31m \u001b[0mpyphi\u001b[0m\u001b[0;34m.\u001b[0m\u001b[0mnetwork\u001b[0m\u001b[0;34m.\u001b[0m\u001b[0mNetwork\u001b[0m\u001b[0;34m.\u001b[0m\u001b[0mfrom_json\u001b[0m\u001b[0;34m(\u001b[0m\u001b[0mdata\u001b[0m\u001b[0;34m)\u001b[0m\u001b[0;34m\u001b[0m\u001b[0;34m\u001b[0m\u001b[0m\n\u001b[0m",
      "\u001b[0;32m~/.virtualenvs/actualagency/lib/python3.7/site-packages/pyphi/network.py\u001b[0m in \u001b[0;36mfrom_json\u001b[0;34m(cls, json_dict)\u001b[0m\n\u001b[1;32m    208\u001b[0m     \u001b[0;32mdef\u001b[0m \u001b[0mfrom_json\u001b[0m\u001b[0;34m(\u001b[0m\u001b[0mcls\u001b[0m\u001b[0;34m,\u001b[0m \u001b[0mjson_dict\u001b[0m\u001b[0;34m)\u001b[0m\u001b[0;34m:\u001b[0m\u001b[0;34m\u001b[0m\u001b[0;34m\u001b[0m\u001b[0m\n\u001b[1;32m    209\u001b[0m         \u001b[0;34m\"\"\"Return a |Network| object from a JSON dictionary representation.\"\"\"\u001b[0m\u001b[0;34m\u001b[0m\u001b[0;34m\u001b[0m\u001b[0m\n\u001b[0;32m--> 210\u001b[0;31m         \u001b[0;32mdel\u001b[0m \u001b[0mjson_dict\u001b[0m\u001b[0;34m[\u001b[0m\u001b[0;34m'size'\u001b[0m\u001b[0;34m]\u001b[0m\u001b[0;34m\u001b[0m\u001b[0;34m\u001b[0m\u001b[0m\n\u001b[0m\u001b[1;32m    211\u001b[0m         \u001b[0;32mreturn\u001b[0m \u001b[0mNetwork\u001b[0m\u001b[0;34m(\u001b[0m\u001b[0;34m**\u001b[0m\u001b[0mjson_dict\u001b[0m\u001b[0;34m)\u001b[0m\u001b[0;34m\u001b[0m\u001b[0;34m\u001b[0m\u001b[0m\n\u001b[1;32m    212\u001b[0m \u001b[0;34m\u001b[0m\u001b[0m\n",
      "\u001b[0;31mKeyError\u001b[0m: 'size'"
     ]
    }
   ],
   "source": [
    "import json\n",
    "\n",
    "with open('/Users/bjornjuel/Downloads/network.json') as json_file:\n",
    "    data = json.load(json_file)\n",
    "\n",
    "\n",
    "pyphi.network.Network.from_json(data)"
   ]
  },
  {
   "cell_type": "code",
   "execution_count": 168,
   "metadata": {},
   "outputs": [],
   "source": [
    "tpm = data['tpm']"
   ]
  },
  {
   "cell_type": "code",
   "execution_count": 169,
   "metadata": {},
   "outputs": [
    {
     "data": {
      "text/plain": [
       "array([[1., 0., 0., 0., 0., 0., 0., 0.],\n",
       "       [0., 0., 0., 0., 0., 0., 0., 1.],\n",
       "       [0., 0., 0., 1., 0., 0., 0., 0.],\n",
       "       [0., 0., 0., 0., 0., 0., 1., 0.],\n",
       "       [0., 0., 1., 0., 0., 0., 0., 0.],\n",
       "       [0., 0., 0., 0., 0., 0., 0., 1.],\n",
       "       [0., 0., 0., 1., 0., 0., 0., 0.],\n",
       "       [0., 0., 0., 0., 0., 0., 1., 0.]])"
      ]
     },
     "execution_count": 169,
     "metadata": {},
     "output_type": "execute_result"
    }
   ],
   "source": [
    "pyphi.convert.state_by_node2state_by_state(tpm)"
   ]
  },
  {
   "cell_type": "code",
   "execution_count": 177,
   "metadata": {},
   "outputs": [],
   "source": [
    "net = pyphi.Network(tpm,node_labels=['A','B','C'])\n",
    "state = data['state']"
   ]
  },
  {
   "cell_type": "code",
   "execution_count": 176,
   "metadata": {},
   "outputs": [
    {
     "data": {
      "text/plain": [
       "┌──────────────────────────────────────────────────────────────┐\n",
       "│         System irreducibility analysis: Φ = 0.777776         │\n",
       "│                     Cut [A] ━━/ /━━➤ [B]                     │\n",
       "│                       Subsystem(A, B)                        │\n",
       "│ ════════════════════════════════════════════════════════════ │\n",
       "│             Cause-effect structure (3 concepts)              │\n",
       "│ ════════════════════════════════════════════════════════════ │\n",
       "│   ━━━━━━━━━━━━━━━━━━━━━━━━━━━━━━━━━━━━━━━━━━━━━━━━━━━━━━━━   │\n",
       "│              Concept: Mechanism = [A], φ = 1/4               │\n",
       "│   ━━━━━━━━━━━━━━━━━━━━━━━━━━━━━━━━━━━━━━━━━━━━━━━━━━━━━━━━   │\n",
       "│               MIC                         MIE                │\n",
       "│   ┌──────────────────────────┐┌──────────────────────────┐   │\n",
       "│   │  φ = 1/2                 ││  φ = 1/4                 │   │\n",
       "│   │  Purview = [A, B]        ││  Purview = [A, B]        │   │\n",
       "│   │  MIP:                    ││  MIP:                    │   │\n",
       "│   │     ∅     ∅     A        ││     ∅     ∅     A        │   │\n",
       "│   │    ─── ✕ ─── ✕ ───       ││    ─── ✕ ─── ✕ ───       │   │\n",
       "│   │     ∅    A,B    ∅        ││     ∅    A,B    ∅        │   │\n",
       "│   │  Repertoire:             ││  Repertoire:             │   │\n",
       "│   │    ┌──────────────┐      ││    ┌──────────────┐      │   │\n",
       "│   │    │ S     Pr(S)  │      ││    │ S     Pr(S)  │      │   │\n",
       "│   │    │ ╴╴╴╴╴╴╴╴╴╴╴╴ │      ││    │ ╴╴╴╴╴╴╴╴╴╴╴╴ │      │   │\n",
       "│   │    │ 00    1/2    │      ││    │ 00    1/4    │      │   │\n",
       "│   │    │ 10    0      │      ││    │ 10    1/4    │      │   │\n",
       "│   │    │ 01    0      │      ││    │ 01    1/4    │      │   │\n",
       "│   │    │ 11    1/2    │      ││    │ 11    1/4    │      │   │\n",
       "│   │    └──────────────┘      ││    └──────────────┘      │   │\n",
       "│   │  Partitioned repertoire: ││  Partitioned repertoire: │   │\n",
       "│   │    ┌──────────────┐      ││    ┌──────────────┐      │   │\n",
       "│   │    │ S     Pr(S)  │      ││    │ S     Pr(S)  │      │   │\n",
       "│   │    │ ╴╴╴╴╴╴╴╴╴╴╴╴ │      ││    │ ╴╴╴╴╴╴╴╴╴╴╴╴ │      │   │\n",
       "│   │    │ 00    1/4    │      ││    │ 00    1/8    │      │   │\n",
       "│   │    │ 10    1/4    │      ││    │ 10    1/8    │      │   │\n",
       "│   │    │ 01    1/4    │      ││    │ 01    3/8    │      │   │\n",
       "│   │    │ 11    1/4    │      ││    │ 11    3/8    │      │   │\n",
       "│   │    └──────────────┘      ││    └──────────────┘      │   │\n",
       "│   └──────────────────────────┘└──────────────────────────┘   │\n",
       "│                                                              │\n",
       "│   ━━━━━━━━━━━━━━━━━━━━━━━━━━━━━━━━━━━━━━━━━━━━━━━━━━━━━━━━   │\n",
       "│              Concept: Mechanism = [B], φ = 1/4               │\n",
       "│   ━━━━━━━━━━━━━━━━━━━━━━━━━━━━━━━━━━━━━━━━━━━━━━━━━━━━━━━━   │\n",
       "│               MIC                         MIE                │\n",
       "│   ┌──────────────────────────┐┌──────────────────────────┐   │\n",
       "│   │  φ = 0.333332            ││  φ = 1/4                 │   │\n",
       "│   │  Purview = [A, B]        ││  Purview = [A, B]        │   │\n",
       "│   │  MIP:                    ││  MIP:                    │   │\n",
       "│   │     ∅     ∅     B        ││     ∅     ∅     B        │   │\n",
       "│   │    ─── ✕ ─── ✕ ───       ││    ─── ✕ ─── ✕ ───       │   │\n",
       "│   │     ∅    A,B    ∅        ││     ∅    A,B    ∅        │   │\n",
       "│   │  Repertoire:             ││  Repertoire:             │   │\n",
       "│   │    ┌──────────────┐      ││    ┌──────────────┐      │   │\n",
       "│   │    │ S     Pr(S)  │      ││    │ S     Pr(S)  │      │   │\n",
       "│   │    │ ╴╴╴╴╴╴╴╴╴╴╴╴ │      ││    │ ╴╴╴╴╴╴╴╴╴╴╴╴ │      │   │\n",
       "│   │    │ 00    0      │      ││    │ 00    0      │      │   │\n",
       "│   │    │ 10    1/3    │      ││    │ 10    0      │      │   │\n",
       "│   │    │ 01    1/3    │      ││    │ 01    1/2    │      │   │\n",
       "│   │    │ 11    1/3    │      ││    │ 11    1/2    │      │   │\n",
       "│   │    └──────────────┘      ││    └──────────────┘      │   │\n",
       "│   │  Partitioned repertoire: ││  Partitioned repertoire: │   │\n",
       "│   │    ┌──────────────┐      ││    ┌──────────────┐      │   │\n",
       "│   │    │ S     Pr(S)  │      ││    │ S     Pr(S)  │      │   │\n",
       "│   │    │ ╴╴╴╴╴╴╴╴╴╴╴╴ │      ││    │ ╴╴╴╴╴╴╴╴╴╴╴╴ │      │   │\n",
       "│   │    │ 00    1/4    │      ││    │ 00    1/8    │      │   │\n",
       "│   │    │ 10    1/4    │      ││    │ 10    1/8    │      │   │\n",
       "│   │    │ 01    1/4    │      ││    │ 01    3/8    │      │   │\n",
       "│   │    │ 11    1/4    │      ││    │ 11    3/8    │      │   │\n",
       "│   │    └──────────────┘      ││    └──────────────┘      │   │\n",
       "│   └──────────────────────────┘└──────────────────────────┘   │\n",
       "│                                                              │\n",
       "│   ━━━━━━━━━━━━━━━━━━━━━━━━━━━━━━━━━━━━━━━━━━━━━━━━━━━━━━━━   │\n",
       "│             Concept: Mechanism = [A, B], φ = 1/2             │\n",
       "│   ━━━━━━━━━━━━━━━━━━━━━━━━━━━━━━━━━━━━━━━━━━━━━━━━━━━━━━━━   │\n",
       "│               MIC                         MIE                │\n",
       "│   ┌──────────────────────────┐┌──────────────────────────┐   │\n",
       "│   │  φ = 2/3                 ││  φ = 1/2                 │   │\n",
       "│   │  Purview = [A, B]        ││  Purview = [A, B]        │   │\n",
       "│   │  MIP:                    ││  MIP:                    │   │\n",
       "│   │     ∅     A     B        ││     ∅     A     B        │   │\n",
       "│   │    ─── ✕ ─── ✕ ───       ││    ─── ✕ ─── ✕ ───       │   │\n",
       "│   │     ∅     ∅    A,B       ││     ∅     A     B        │   │\n",
       "│   │  Repertoire:             ││  Repertoire:             │   │\n",
       "│   │    ┌──────────────┐      ││    ┌──────────────┐      │   │\n",
       "│   │    │ S     Pr(S)  │      ││    │ S     Pr(S)  │      │   │\n",
       "│   │    │ ╴╴╴╴╴╴╴╴╴╴╴╴ │      ││    │ ╴╴╴╴╴╴╴╴╴╴╴╴ │      │   │\n",
       "│   │    │ 00    0      │      ││    │ 00    0      │      │   │\n",
       "│   │    │ 10    0      │      ││    │ 10    0      │      │   │\n",
       "│   │    │ 01    0      │      ││    │ 01    0      │      │   │\n",
       "│   │    │ 11    1      │      ││    │ 11    1      │      │   │\n",
       "│   │    └──────────────┘      ││    └──────────────┘      │   │\n",
       "│   │  Partitioned repertoire: ││  Partitioned repertoire: │   │\n",
       "│   │    ┌──────────────┐      ││    ┌──────────────┐      │   │\n",
       "│   │    │ S     Pr(S)  │      ││    │ S     Pr(S)  │      │   │\n",
       "│   │    │ ╴╴╴╴╴╴╴╴╴╴╴╴ │      ││    │ ╴╴╴╴╴╴╴╴╴╴╴╴ │      │   │\n",
       "│   │    │ 00    0      │      ││    │ 00    0      │      │   │\n",
       "│   │    │ 10    1/3    │      ││    │ 10    0      │      │   │\n",
       "│   │    │ 01    1/3    │      ││    │ 01    1/2    │      │   │\n",
       "│   │    │ 11    1/3    │      ││    │ 11    1/2    │      │   │\n",
       "│   │    └──────────────┘      ││    └──────────────┘      │   │\n",
       "│   └──────────────────────────┘└──────────────────────────┘   │\n",
       "│                                                              │\n",
       "│ ════════════════════════════════════════════════════════════ │\n",
       "│       Partitioned cause-effect structure (2 concepts)        │\n",
       "│ ════════════════════════════════════════════════════════════ │\n",
       "│   ━━━━━━━━━━━━━━━━━━━━━━━━━━━━━━━━━━━━━━━━━━━━━━━━━━━━━━━━   │\n",
       "│              Concept: Mechanism = [B], φ = 1/6               │\n",
       "│   ━━━━━━━━━━━━━━━━━━━━━━━━━━━━━━━━━━━━━━━━━━━━━━━━━━━━━━━━   │\n",
       "│               MIC                         MIE                │\n",
       "│   ┌──────────────────────────┐┌──────────────────────────┐   │\n",
       "│   │  φ = 1/6                 ││  φ = 1/4                 │   │\n",
       "│   │  Purview = [B]           ││  Purview = [A, B]        │   │\n",
       "│   │  MIP:                    ││  MIP:                    │   │\n",
       "│   │     ∅     ∅     B        ││     ∅     ∅     B        │   │\n",
       "│   │    ─── ✕ ─── ✕ ───       ││    ─── ✕ ─── ✕ ───       │   │\n",
       "│   │     ∅     B     ∅        ││     ∅    A,B    ∅        │   │\n",
       "│   │  Repertoire:             ││  Repertoire:             │   │\n",
       "│   │    ┌─────────────┐       ││    ┌──────────────┐      │   │\n",
       "│   │    │ S    Pr(S)  │       ││    │ S     Pr(S)  │      │   │\n",
       "│   │    │ ╴╴╴╴╴╴╴╴╴╴╴ │       ││    │ ╴╴╴╴╴╴╴╴╴╴╴╴ │      │   │\n",
       "│   │    │ 0    1/3    │       ││    │ 00    0      │      │   │\n",
       "│   │    │ 1    2/3    │       ││    │ 10    0      │      │   │\n",
       "│   │    └─────────────┘       ││    │ 01    1/2    │      │   │\n",
       "│   │  Partitioned repertoire: ││    │ 11    1/2    │      │   │\n",
       "│   │    ┌─────────────┐       ││    └──────────────┘      │   │\n",
       "│   │    │ S    Pr(S)  │       ││  Partitioned repertoire: │   │\n",
       "│   │    │ ╴╴╴╴╴╴╴╴╴╴╴ │       ││    ┌──────────────┐      │   │\n",
       "│   │    │ 0    1/2    │       ││    │ S     Pr(S)  │      │   │\n",
       "│   │    │ 1    1/2    │       ││    │ ╴╴╴╴╴╴╴╴╴╴╴╴ │      │   │\n",
       "│   │    └─────────────┘       ││    │ 00    1/8    │      │   │\n",
       "│   └──────────────────────────┘│    │ 10    1/8    │      │   │\n",
       "│                               │    │ 01    3/8    │      │   │\n",
       "│                               │    │ 11    3/8    │      │   │\n",
       "│                               │    └──────────────┘      │   │\n",
       "│                               └──────────────────────────┘   │\n",
       "│                                                              │\n",
       "│   ━━━━━━━━━━━━━━━━━━━━━━━━━━━━━━━━━━━━━━━━━━━━━━━━━━━━━━━━   │\n",
       "│             Concept: Mechanism = [A, B], φ = 1/3             │\n",
       "│   ━━━━━━━━━━━━━━━━━━━━━━━━━━━━━━━━━━━━━━━━━━━━━━━━━━━━━━━━   │\n",
       "│               MIC                         MIE                │\n",
       "│   ┌──────────────────────────┐┌──────────────────────────┐   │\n",
       "│   │  φ = 1/3                 ││  φ = 1/2                 │   │\n",
       "│   │  Purview = [A, B]        ││  Purview = [A, B]        │   │\n",
       "│   │  MIP:                    ││  MIP:                    │   │\n",
       "│   │     ∅     A     B        ││     ∅     A     B        │   │\n",
       "│   │    ─── ✕ ─── ✕ ───       ││    ─── ✕ ─── ✕ ───       │   │\n",
       "│   │     ∅    A,B    ∅        ││     ∅     A     B        │   │\n",
       "│   │  Repertoire:             ││  Repertoire:             │   │\n",
       "│   │    ┌──────────────┐      ││    ┌──────────────┐      │   │\n",
       "│   │    │ S     Pr(S)  │      ││    │ S     Pr(S)  │      │   │\n",
       "│   │    │ ╴╴╴╴╴╴╴╴╴╴╴╴ │      ││    │ ╴╴╴╴╴╴╴╴╴╴╴╴ │      │   │\n",
       "│   │    │ 00    1/3    │      ││    │ 00    0      │      │   │\n",
       "│   │    │ 10    0      │      ││    │ 10    0      │      │   │\n",
       "│   │    │ 01    0      │      ││    │ 01    0      │      │   │\n",
       "│   │    │ 11    2/3    │      ││    │ 11    1      │      │   │\n",
       "│   │    └──────────────┘      ││    └──────────────┘      │   │\n",
       "│   │  Partitioned repertoire: ││  Partitioned repertoire: │   │\n",
       "│   │    ┌──────────────┐      ││    ┌──────────────┐      │   │\n",
       "│   │    │ S     Pr(S)  │      ││    │ S     Pr(S)  │      │   │\n",
       "│   │    │ ╴╴╴╴╴╴╴╴╴╴╴╴ │      ││    │ ╴╴╴╴╴╴╴╴╴╴╴╴ │      │   │\n",
       "│   │    │ 00    1/2    │      ││    │ 00    0      │      │   │\n",
       "│   │    │ 10    0      │      ││    │ 10    0      │      │   │\n",
       "│   │    │ 01    0      │      ││    │ 01    1/2    │      │   │\n",
       "│   │    │ 11    1/2    │      ││    │ 11    1/2    │      │   │\n",
       "│   │    └──────────────┘      ││    └──────────────┘      │   │\n",
       "│   └──────────────────────────┘└──────────────────────────┘   │\n",
       "│                                                              │\n",
       "│                                                              │\n",
       "└──────────────────────────────────────────────────────────────┘"
      ]
     },
     "execution_count": 176,
     "metadata": {},
     "output_type": "execute_result"
    }
   ],
   "source": [
    "sia = pyphi.compute.complexes(net,state)\n",
    "len(sia)\n",
    "sia[1]"
   ]
  },
  {
   "cell_type": "code",
   "execution_count": 189,
   "metadata": {},
   "outputs": [
    {
     "data": {
      "text/plain": [
       "array([[[[0., 0., 0.]],\n",
       "\n",
       "        [[1., 1., 0.]]],\n",
       "\n",
       "\n",
       "       [[[1., 1., 1.]],\n",
       "\n",
       "        [[0., 1., 1.]]]])"
      ]
     },
     "execution_count": 189,
     "metadata": {},
     "output_type": "execute_result"
    }
   ],
   "source": [
    "sub = pyphi.subsystem.Subsystem(net,state,nodes=(0,1,))\n",
    "sub.tpm"
   ]
  },
  {
   "cell_type": "code",
   "execution_count": 194,
   "metadata": {},
   "outputs": [
    {
     "data": {
      "text/plain": [
       "array([[1., 0., 0., 0., 0., 0., 0., 0.],\n",
       "       [0., 0., 0., 0., 0., 0., 0., 1.],\n",
       "       [0., 0., 0., 1., 0., 0., 0., 0.],\n",
       "       [0., 0., 0., 0., 0., 0., 1., 0.],\n",
       "       [0., 0., 1., 0., 0., 0., 0., 0.],\n",
       "       [0., 0., 0., 0., 0., 0., 0., 1.],\n",
       "       [0., 0., 0., 1., 0., 0., 0., 0.],\n",
       "       [0., 0., 0., 0., 0., 0., 1., 0.]])"
      ]
     },
     "execution_count": 194,
     "metadata": {},
     "output_type": "execute_result"
    }
   ],
   "source": [
    "pyphi.convert.state_by_node2state_by_state(net.tpm)"
   ]
  },
  {
   "cell_type": "code",
   "execution_count": null,
   "metadata": {},
   "outputs": [],
   "source": []
  },
  {
   "cell_type": "code",
   "execution_count": 155,
   "metadata": {},
   "outputs": [],
   "source": [
    "def score_from_fitness(fitness):\n",
    "    return math.exp(fitness*5)-1"
   ]
  },
  {
   "cell_type": "code",
   "execution_count": 156,
   "metadata": {},
   "outputs": [
    {
     "data": {
      "text/plain": [
       "[<matplotlib.lines.Line2D at 0x122cd0b50>]"
      ]
     },
     "execution_count": 156,
     "metadata": {},
     "output_type": "execute_result"
    },
    {
     "data": {
      "image/png": "[encoded data removed]",
      "text/plain": [
       "<Figure size 432x288 with 1 Axes>"
      ]
     },
     "metadata": {
      "needs_background": "light"
     },
     "output_type": "display_data"
    }
   ],
   "source": [
    "a = [score_from_fitness(a) for a in np.linspace(0,1,101)]\n",
    "plt.plot(a)"
   ]
  },
  {
   "cell_type": "code",
   "execution_count": 162,
   "metadata": {},
   "outputs": [
    {
     "data": {
      "text/plain": [
       "147.4131591025766"
      ]
     },
     "execution_count": 162,
     "metadata": {},
     "output_type": "execute_result"
    }
   ],
   "source": [
    "score_from_fitness(1)"
   ]
  },
  {
   "cell_type": "code",
   "execution_count": 62,
   "metadata": {},
   "outputs": [],
   "source": [
    "def num2state2(num,n_nodes):\n",
    "    '''\n",
    "    Function description\n",
    "        Inputs:\n",
    "            inputs:\n",
    "        Outputs:\n",
    "            outputs:\n",
    "    '''\n",
    "\n",
    "    number = '{0:0' + str(n_nodes) + 'b}'\n",
    "    state = number.format(num)\n",
    "    state = [int(i) for i in state]\n",
    "\n",
    "    # returns the state\n",
    "    return state"
   ]
  },
  {
   "cell_type": "code",
   "execution_count": 104,
   "metadata": {},
   "outputs": [
    {
     "data": {
      "text/plain": [
       "[1, 0, 0, 1, 0, 0, 0, 0]"
      ]
     },
     "execution_count": 104,
     "metadata": {},
     "output_type": "execute_result"
    }
   ],
   "source": [
    "num2state(9,8)"
   ]
  },
  {
   "cell_type": "code",
   "execution_count": 106,
   "metadata": {},
   "outputs": [
    {
     "data": {
      "text/plain": [
       "9"
      ]
     },
     "execution_count": 106,
     "metadata": {},
     "output_type": "execute_result"
    }
   ],
   "source": [
    "state2num(tuple([1, 0, 0, 1, 0, 0, 0, 0]))"
   ]
  },
  {
   "cell_type": "code",
   "execution_count": 98,
   "metadata": {},
   "outputs": [
    {
     "name": "stdout",
     "output_type": "stream",
     "text": [
      "[1, 0, 0, 0, 0, 0, 0, 0]\n"
     ]
    }
   ],
   "source": [
    "a.reverse()\n",
    "print(a)"
   ]
  },
  {
   "cell_type": "code",
   "execution_count": 97,
   "metadata": {},
   "outputs": [
    {
     "name": "stdout",
     "output_type": "stream",
     "text": [
      "Original List: ['Windows', 'macOS', 'Linux']\n",
      "Updated List: ['Linux', 'macOS', 'Windows']\n"
     ]
    }
   ],
   "source": [
    "# Operating System List\n",
    "os = ['Windows', 'macOS', 'Linux']\n",
    "print('Original List:', os)\n",
    "\n",
    "# List Reverse\n",
    "os.reverse()\n",
    "\n",
    "# updated list\n",
    "print('Updated List:', os)"
   ]
  },
  {
   "cell_type": "code",
   "execution_count": null,
   "metadata": {},
   "outputs": [],
   "source": []
  }
 ],
 "metadata": {
  "kernelspec": {
   "display_name": "Python 3",
   "language": "python",
   "name": "python3"
  },
  "language_info": {
   "codemirror_mode": {
    "name": "ipython",
    "version": 3
   },
   "file_extension": ".py",
   "mimetype": "text/x-python",
   "name": "python",
   "nbconvert_exporter": "python",
   "pygments_lexer": "ipython3",
   "version": "3.7.4"
  }
 },
 "nbformat": 4,
 "nbformat_minor": 2
}
