{
 "cells": [
  {
   "cell_type": "code",
   "execution_count": 1,
   "metadata": {
    "scrolled": true
   },
   "outputs": [
    {
     "name": "stdout",
     "output_type": "stream",
     "text": [
      "\n",
      "Welcome to PyPhi!\n",
      "\n",
      "If you use PyPhi in your research, please cite the paper:\n",
      "\n",
      "  Mayner WGP, Marshall W, Albantakis L, Findlay G, Marchman R, Tononi G.\n",
      "  (2018). PyPhi: A toolbox for integrated information theory.\n",
      "  PLOS Computational Biology 14(7): e1006343.\n",
      "  https://doi.org/10.1371/journal.pcbi.1006343\n",
      "\n",
      "Documentation is available online (or with the built-in `help()` function):\n",
      "  https://pyphi.readthedocs.io\n",
      "\n",
      "To report issues, please use the issue tracker on the GitHub repository:\n",
      "  https://github.com/wmayner/pyphi\n",
      "\n",
      "For general discussion, you are welcome to join the pyphi-users group:\n",
      "  https://groups.google.com/forum/#!forum/pyphi-users\n",
      "\n",
      "To suppress this message, either:\n",
      "  - Set `WELCOME_OFF: true` in your `pyphi_config.yml` file, or\n",
      "  - Set the environment variable PYPHI_WELCOME_OFF to any value in your shell:\n",
      "        export PYPHI_WELCOME_OFF='yes'\n",
      "\n"
     ]
    }
   ],
   "source": [
    "import matplotlib.pyplot as plt\n",
    "import matplotlib.colors as colors\n",
    "import numpy as np\n",
    "import pandas as pd\n",
    "import os\n",
    "import networkx as nx\n",
    "import pickle\n",
    "import sys\n",
    "\n",
    "import pyphi\n",
    "from pyphi import actual, config, Direction\n",
    "pyphi.config.VALIDATE_SUBSYSTEM_STATES = False\n",
    "pyphi.config.PARTITION_TYPE = 'TRI'\n",
    "\n",
    "# Change directory to where packages are stored\n",
    "os.chdir(\"..\")\n",
    "\n",
    "from pyanimats import *\n",
    "from pyTPM import *\n",
    "import actual_agency as agency\n",
    "os.chdir(\"Example\")\n",
    "\n",
    "\n",
    "%load_ext autoreload\n",
    "%autoreload 2\n",
    "%aimport pyTPM, pyanimats, actual_agency"
   ]
  },
  {
   "cell_type": "code",
   "execution_count": 2,
   "metadata": {},
   "outputs": [
    {
     "data": {
      "text/plain": [
       "\"\\npath='/Users/bjornjuel/projects/mabe_update/mabe/Experiments'\\nexperiment_list=['deterministic_1-7','deterministic_1-3-15-7','combined_1-7','combined_1-3-15-7']\\nfile_names=['genome.pkl','activity.pkl','LOD_data.pkl']\\ngate_types=[['deterministic'],['deterministic'],['deterministic','decomposable'],['deterministic','decomposable']]\\n\\ndats = agency.load_data(path,experiment_list,gate_types=gate_types)\\n\\nwith open('/Users/bjornjuel/projects/mabe_update/mabe/Experiments/loaded_data.pkl', 'wb') as f:\\n    pickle.dump(dats, f)\\n\""
      ]
     },
     "execution_count": 2,
     "metadata": {},
     "output_type": "execute_result"
    }
   ],
   "source": [
    "'''\n",
    "path='/Users/bjornjuel/projects/mabe_update/mabe/Experiments'\n",
    "experiment_list=['deterministic_1-7','deterministic_1-3-15-7','combined_1-7','combined_1-3-15-7']\n",
    "file_names=['genome.pkl','activity.pkl','LOD_data.pkl']\n",
    "gate_types=[['deterministic'],['deterministic'],['deterministic','decomposable'],['deterministic','decomposable']]\n",
    "\n",
    "dats = agency.load_data(path,experiment_list,gate_types=gate_types)\n",
    "\n",
    "with open('/Users/bjornjuel/projects/mabe_update/mabe/Experiments/loaded_data.pkl', 'wb') as f:\n",
    "    pickle.dump(dats, f)\n",
    "'''"
   ]
  },
  {
   "cell_type": "code",
   "execution_count": 3,
   "metadata": {},
   "outputs": [],
   "source": [
    "# Load already pickled data\n",
    "with open('/Users/bjornjuel/projects/mabe_update/mabe/Experiments/loaded_data.pkl', 'rb') as f:\n",
    "    dats = pickle.load(f)"
   ]
  },
  {
   "cell_type": "code",
   "execution_count": null,
   "metadata": {},
   "outputs": [],
   "source": [
    "# Pick out a specific animat from the data for further analysis\n",
    "experiment = 'combined_1-3-15-7'\n",
    "run = 0\n",
    "agent = 60\n",
    "\n",
    "ani = dats.loc[(dats['Experiment']==experiment) & (dats['Run']==run) & (dats['agent']==agent)]['animat'][0]"
   ]
  },
  {
   "cell_type": "code",
   "execution_count": null,
   "metadata": {},
   "outputs": [],
   "source": [
    "# find and save the unique transitions and states to the animat object (if not already there)\n",
    "ani.saveUniqueTransitions()\n",
    "ani.saveUniqueStates()"
   ]
  },
  {
   "cell_type": "code",
   "execution_count": null,
   "metadata": {
    "scrolled": true
   },
   "outputs": [],
   "source": [
    "# Calculate IIT properties for all unique states\n",
    "ani.save_major_complex()\n"
   ]
  },
  {
   "cell_type": "code",
   "execution_count": null,
   "metadata": {},
   "outputs": [],
   "source": [
    "# find all unique causal links (from unique transitions)\n",
    "ani.save_unique_causal_links()\n"
   ]
  },
  {
   "cell_type": "code",
   "execution_count": null,
   "metadata": {},
   "outputs": [],
   "source": [
    "\n",
    "# and calculate the backtracking for a given transition\n",
    "tr, t = 0, 5\n",
    "bt = backtrack_cause_enumerated(ani, tr, t, ani.motor_ixs, max_backsteps=4)"
   ]
  },
  {
   "cell_type": "code",
   "execution_count": null,
   "metadata": {},
   "outputs": [],
   "source": [
    "# or we can calculate the backtracking for all transitions in a trial\n",
    "bt_trial = backtrack_cause_trial(ani,tr,max_backsteps=5,ocurrence_ixs=ani.motor_ixs)\n"
   ]
  },
  {
   "cell_type": "code",
   "execution_count": null,
   "metadata": {
    "scrolled": true
   },
   "outputs": [],
   "source": [
    "# or calulate backtracking for full brain activity\n",
    "bt_all = backtrack_all_activity(ani,max_backsteps=5)"
   ]
  },
  {
   "cell_type": "code",
   "execution_count": null,
   "metadata": {},
   "outputs": [],
   "source": [
    "for i in range(100,109):\n",
    "    plt.subplot('19'+  str(i-100+1))\n",
    "    plt.imshow(np.array(bt_all[0]))"
   ]
  },
  {
   "cell_type": "code",
   "execution_count": 7,
   "metadata": {
    "scrolled": true
   },
   "outputs": [
    {
     "name": "stdout",
     "output_type": "stream",
     "text": [
      "run: 0\n",
      "agent: 0\n",
      "agent: 10\n"
     ]
    },
    {
     "name": "stderr",
     "output_type": "stream",
     "text": [
      "/Users/bjornjuel/.virtualenvs/actualagency/lib/python3.7/site-packages/IPython/core/interactiveshell.py:3326: SettingWithCopyWarning: \n",
      "A value is trying to be set on a copy of a slice from a DataFrame\n",
      "\n",
      "See the caveats in the documentation: http://pandas.pydata.org/pandas-docs/stable/user_guide/indexing.html#returning-a-view-versus-a-copy\n",
      "  exec(code_obj, self.user_global_ns, self.user_ns)\n"
     ]
    },
    {
     "name": "stdout",
     "output_type": "stream",
     "text": [
      "agent: 20\n",
      "agent: 30\n",
      "agent: 40\n",
      "agent: 50\n",
      "run: 1\n",
      "agent: 0\n",
      "agent: 10\n",
      "agent: 20\n",
      "agent: 30\n",
      "agent: 40\n",
      "agent: 50\n",
      "run: 2\n",
      "agent: 0\n",
      "agent: 10\n",
      "agent: 20\n",
      "agent: 30\n",
      "agent: 40\n",
      "agent: 50\n",
      "run: 3\n",
      "agent: 0\n",
      "agent: 10\n",
      "agent: 20\n",
      "agent: 30\n",
      "agent: 40\n",
      "agent: 50\n",
      "run: 0\n",
      "agent: 0\n",
      "agent: 10\n",
      "agent: 20\n",
      "agent: 30\n",
      "agent: 40\n",
      "agent: 50\n",
      "run: 1\n",
      "agent: 0\n",
      "agent: 10\n",
      "agent: 20\n",
      "agent: 30\n",
      "agent: 40\n",
      "agent: 50\n",
      "run: 2\n",
      "agent: 0\n",
      "agent: 10\n",
      "agent: 20\n",
      "agent: 30\n",
      "agent: 40\n",
      "agent: 50\n",
      "run: 3\n",
      "agent: 0\n",
      "agent: 10\n",
      "agent: 20\n",
      "agent: 30\n",
      "agent: 40\n",
      "agent: 50\n",
      "run: 0\n",
      "agent: 0\n"
     ]
    },
    {
     "ename": "ValueError",
     "evalue": "math domain error",
     "output_type": "error",
     "traceback": [
      "\u001b[0;31m---------------------------------------------------------------------------\u001b[0m",
      "\u001b[0;31mValueError\u001b[0m                                Traceback (most recent call last)",
      "\u001b[0;32m<ipython-input-7-650ca4b003e7>\u001b[0m in \u001b[0;36m<module>\u001b[0;34m\u001b[0m\n\u001b[1;32m     12\u001b[0m             \u001b[0mani\u001b[0m\u001b[0;34m.\u001b[0m\u001b[0msaveUniqueStates\u001b[0m\u001b[0;34m(\u001b[0m\u001b[0;34m)\u001b[0m\u001b[0;34m\u001b[0m\u001b[0;34m\u001b[0m\u001b[0m\n\u001b[1;32m     13\u001b[0m             \u001b[0mani\u001b[0m\u001b[0;34m.\u001b[0m\u001b[0msave_major_complex\u001b[0m\u001b[0;34m(\u001b[0m\u001b[0;34m)\u001b[0m\u001b[0;34m\u001b[0m\u001b[0;34m\u001b[0m\u001b[0m\n\u001b[0;32m---> 14\u001b[0;31m             \u001b[0mani\u001b[0m\u001b[0;34m.\u001b[0m\u001b[0msave_unique_causal_links\u001b[0m\u001b[0;34m(\u001b[0m\u001b[0;34m)\u001b[0m\u001b[0;34m\u001b[0m\u001b[0;34m\u001b[0m\u001b[0m\n\u001b[0m\u001b[1;32m     15\u001b[0m             \u001b[0mani\u001b[0m\u001b[0;34m.\u001b[0m\u001b[0macg_chain\u001b[0m \u001b[0;34m=\u001b[0m \u001b[0mget_average_causal_chain\u001b[0m\u001b[0;34m(\u001b[0m\u001b[0mani\u001b[0m\u001b[0;34m,\u001b[0m\u001b[0;36m10\u001b[0m\u001b[0;34m)\u001b[0m\u001b[0;34m\u001b[0m\u001b[0;34m\u001b[0m\u001b[0m\n\u001b[1;32m     16\u001b[0m             \u001b[0mdats\u001b[0m\u001b[0;34m.\u001b[0m\u001b[0mloc\u001b[0m\u001b[0;34m[\u001b[0m\u001b[0;34m(\u001b[0m\u001b[0mdats\u001b[0m\u001b[0;34m[\u001b[0m\u001b[0;34m'Experiment'\u001b[0m\u001b[0;34m]\u001b[0m\u001b[0;34m==\u001b[0m\u001b[0mexperiment\u001b[0m\u001b[0;34m)\u001b[0m \u001b[0;34m&\u001b[0m \u001b[0;34m(\u001b[0m\u001b[0mdats\u001b[0m\u001b[0;34m[\u001b[0m\u001b[0;34m'Run'\u001b[0m\u001b[0;34m]\u001b[0m\u001b[0;34m==\u001b[0m\u001b[0mrun\u001b[0m\u001b[0;34m)\u001b[0m \u001b[0;34m&\u001b[0m \u001b[0;34m(\u001b[0m\u001b[0mdats\u001b[0m\u001b[0;34m[\u001b[0m\u001b[0;34m'agent'\u001b[0m\u001b[0;34m]\u001b[0m\u001b[0;34m==\u001b[0m\u001b[0magent\u001b[0m\u001b[0;34m)\u001b[0m\u001b[0;34m]\u001b[0m\u001b[0;34m[\u001b[0m\u001b[0;34m'animat'\u001b[0m\u001b[0;34m]\u001b[0m\u001b[0;34m[\u001b[0m\u001b[0;36m0\u001b[0m\u001b[0;34m]\u001b[0m \u001b[0;34m=\u001b[0m \u001b[0mani\u001b[0m\u001b[0;34m\u001b[0m\u001b[0;34m\u001b[0m\u001b[0m\n",
      "\u001b[0;32m~/projects/actual_agency_fork/pyanimats.py\u001b[0m in \u001b[0;36msave_unique_causal_links\u001b[0;34m(self)\u001b[0m\n\u001b[1;32m    292\u001b[0m \u001b[0;34m\u001b[0m\u001b[0m\n\u001b[1;32m    293\u001b[0m     \u001b[0;32mdef\u001b[0m \u001b[0msave_unique_causal_links\u001b[0m\u001b[0;34m(\u001b[0m\u001b[0mself\u001b[0m\u001b[0;34m)\u001b[0m\u001b[0;34m:\u001b[0m\u001b[0;34m\u001b[0m\u001b[0;34m\u001b[0m\u001b[0m\n\u001b[0;32m--> 294\u001b[0;31m         \u001b[0mself\u001b[0m\u001b[0;34m.\u001b[0m\u001b[0mcausal_links\u001b[0m \u001b[0;34m=\u001b[0m \u001b[0mget_all_causal_links\u001b[0m\u001b[0;34m(\u001b[0m\u001b[0mself\u001b[0m\u001b[0;34m)\u001b[0m\u001b[0;34m\u001b[0m\u001b[0;34m\u001b[0m\u001b[0m\n\u001b[0m\u001b[1;32m    295\u001b[0m \u001b[0;34m\u001b[0m\u001b[0m\n\u001b[1;32m    296\u001b[0m \u001b[0;34m\u001b[0m\u001b[0m\n",
      "\u001b[0;32m~/projects/actual_agency_fork/actual_agency.py\u001b[0m in \u001b[0;36mget_all_causal_links\u001b[0;34m(animat)\u001b[0m\n\u001b[1;32m    192\u001b[0m         \u001b[0meffect_ixs\u001b[0m \u001b[0;34m=\u001b[0m \u001b[0manimat\u001b[0m\u001b[0;34m.\u001b[0m\u001b[0mhidden_ixs\u001b[0m\u001b[0;34m+\u001b[0m\u001b[0manimat\u001b[0m\u001b[0;34m.\u001b[0m\u001b[0mmotor_ixs\u001b[0m\u001b[0;34m\u001b[0m\u001b[0;34m\u001b[0m\u001b[0m\n\u001b[1;32m    193\u001b[0m         \u001b[0mTransition\u001b[0m \u001b[0;34m=\u001b[0m \u001b[0mpyphi\u001b[0m\u001b[0;34m.\u001b[0m\u001b[0mactual\u001b[0m\u001b[0;34m.\u001b[0m\u001b[0mTransition\u001b[0m\u001b[0;34m(\u001b[0m\u001b[0manimat\u001b[0m\u001b[0;34m.\u001b[0m\u001b[0mbrain\u001b[0m\u001b[0;34m,\u001b[0m \u001b[0mt\u001b[0m\u001b[0;34m[\u001b[0m\u001b[0;36m0\u001b[0m\u001b[0;34m]\u001b[0m\u001b[0;34m,\u001b[0m \u001b[0mt\u001b[0m\u001b[0;34m[\u001b[0m\u001b[0;36m1\u001b[0m\u001b[0;34m]\u001b[0m\u001b[0;34m,\u001b[0m \u001b[0mcause_ixs\u001b[0m\u001b[0;34m,\u001b[0m \u001b[0meffect_ixs\u001b[0m\u001b[0;34m)\u001b[0m\u001b[0;34m\u001b[0m\u001b[0;34m\u001b[0m\u001b[0m\n\u001b[0;32m--> 194\u001b[0;31m         \u001b[0mCL\u001b[0m \u001b[0;34m=\u001b[0m \u001b[0mpyphi\u001b[0m\u001b[0;34m.\u001b[0m\u001b[0mactual\u001b[0m\u001b[0;34m.\u001b[0m\u001b[0mdirected_account\u001b[0m\u001b[0;34m(\u001b[0m\u001b[0mTransition\u001b[0m\u001b[0;34m,\u001b[0m \u001b[0mpyphi\u001b[0m\u001b[0;34m.\u001b[0m\u001b[0mdirection\u001b[0m\u001b[0;34m.\u001b[0m\u001b[0mDirection\u001b[0m\u001b[0;34m.\u001b[0m\u001b[0mCAUSE\u001b[0m\u001b[0;34m)\u001b[0m\u001b[0;34m\u001b[0m\u001b[0;34m\u001b[0m\u001b[0m\n\u001b[0m\u001b[1;32m    195\u001b[0m         \u001b[0mdirect_causes\u001b[0m\u001b[0;34m.\u001b[0m\u001b[0mupdate\u001b[0m\u001b[0;34m(\u001b[0m\u001b[0;34m{\u001b[0m\u001b[0mtransition_number\u001b[0m \u001b[0;34m:\u001b[0m \u001b[0mCL\u001b[0m\u001b[0;34m}\u001b[0m\u001b[0;34m)\u001b[0m\u001b[0;34m\u001b[0m\u001b[0;34m\u001b[0m\u001b[0m\n\u001b[1;32m    196\u001b[0m     \u001b[0;32mreturn\u001b[0m \u001b[0mdirect_causes\u001b[0m\u001b[0;34m\u001b[0m\u001b[0;34m\u001b[0m\u001b[0m\n",
      "\u001b[0;32m~/.virtualenvs/actualagency/lib/python3.7/site-packages/pyphi/actual.py\u001b[0m in \u001b[0;36mdirected_account\u001b[0;34m(transition, direction, mechanisms, purviews, allow_neg)\u001b[0m\n\u001b[1;32m    462\u001b[0m         transition.find_causal_link(direction, mechanism, purviews=purviews,\n\u001b[1;32m    463\u001b[0m                                     allow_neg=allow_neg)\n\u001b[0;32m--> 464\u001b[0;31m         for mechanism in mechanisms]\n\u001b[0m\u001b[1;32m    465\u001b[0m \u001b[0;34m\u001b[0m\u001b[0m\n\u001b[1;32m    466\u001b[0m     \u001b[0;31m# Filter out causal links with zero alpha\u001b[0m\u001b[0;34m\u001b[0m\u001b[0;34m\u001b[0m\u001b[0;34m\u001b[0m\u001b[0m\n",
      "\u001b[0;32m~/.virtualenvs/actualagency/lib/python3.7/site-packages/pyphi/actual.py\u001b[0m in \u001b[0;36m<listcomp>\u001b[0;34m(.0)\u001b[0m\n\u001b[1;32m    462\u001b[0m         transition.find_causal_link(direction, mechanism, purviews=purviews,\n\u001b[1;32m    463\u001b[0m                                     allow_neg=allow_neg)\n\u001b[0;32m--> 464\u001b[0;31m         for mechanism in mechanisms]\n\u001b[0m\u001b[1;32m    465\u001b[0m \u001b[0;34m\u001b[0m\u001b[0m\n\u001b[1;32m    466\u001b[0m     \u001b[0;31m# Filter out causal links with zero alpha\u001b[0m\u001b[0;34m\u001b[0m\u001b[0;34m\u001b[0m\u001b[0;34m\u001b[0m\u001b[0m\n",
      "\u001b[0;32m~/.virtualenvs/actualagency/lib/python3.7/site-packages/pyphi/actual.py\u001b[0m in \u001b[0;36mfind_causal_link\u001b[0;34m(self, direction, mechanism, purviews, allow_neg)\u001b[0m\n\u001b[1;32m    430\u001b[0m             max_ria = max(self.find_mip(direction, mechanism, purview,\n\u001b[1;32m    431\u001b[0m                                         allow_neg)\n\u001b[0;32m--> 432\u001b[0;31m                           for purview in purviews)\n\u001b[0m\u001b[1;32m    433\u001b[0m \u001b[0;34m\u001b[0m\u001b[0m\n\u001b[1;32m    434\u001b[0m         \u001b[0;31m# Construct the corresponding CausalLink\u001b[0m\u001b[0;34m\u001b[0m\u001b[0;34m\u001b[0m\u001b[0;34m\u001b[0m\u001b[0m\n",
      "\u001b[0;32m~/.virtualenvs/actualagency/lib/python3.7/site-packages/pyphi/actual.py\u001b[0m in \u001b[0;36m<genexpr>\u001b[0;34m(.0)\u001b[0m\n\u001b[1;32m    430\u001b[0m             max_ria = max(self.find_mip(direction, mechanism, purview,\n\u001b[1;32m    431\u001b[0m                                         allow_neg)\n\u001b[0;32m--> 432\u001b[0;31m                           for purview in purviews)\n\u001b[0m\u001b[1;32m    433\u001b[0m \u001b[0;34m\u001b[0m\u001b[0m\n\u001b[1;32m    434\u001b[0m         \u001b[0;31m# Construct the corresponding CausalLink\u001b[0m\u001b[0;34m\u001b[0m\u001b[0;34m\u001b[0m\u001b[0;34m\u001b[0m\u001b[0m\n",
      "\u001b[0;32m~/.virtualenvs/actualagency/lib/python3.7/site-packages/pyphi/actual.py\u001b[0m in \u001b[0;36mfind_mip\u001b[0;34m(self, direction, mechanism, purview, allow_neg)\u001b[0m\n\u001b[1;32m    344\u001b[0m             partitioned_probability = self.partitioned_probability(\n\u001b[1;32m    345\u001b[0m                 direction, partition)\n\u001b[0;32m--> 346\u001b[0;31m             \u001b[0malpha\u001b[0m \u001b[0;34m=\u001b[0m \u001b[0mlog2\u001b[0m\u001b[0;34m(\u001b[0m\u001b[0mprobability\u001b[0m \u001b[0;34m/\u001b[0m \u001b[0mpartitioned_probability\u001b[0m\u001b[0;34m)\u001b[0m\u001b[0;34m\u001b[0m\u001b[0;34m\u001b[0m\u001b[0m\n\u001b[0m\u001b[1;32m    347\u001b[0m \u001b[0;34m\u001b[0m\u001b[0m\n\u001b[1;32m    348\u001b[0m             \u001b[0;31m# First check for 0\u001b[0m\u001b[0;34m\u001b[0m\u001b[0;34m\u001b[0m\u001b[0;34m\u001b[0m\u001b[0m\n",
      "\u001b[0;32m~/.virtualenvs/actualagency/lib/python3.7/site-packages/pyphi/actual.py\u001b[0m in \u001b[0;36mlog2\u001b[0;34m(x)\u001b[0m\n\u001b[1;32m     40\u001b[0m \u001b[0;32mdef\u001b[0m \u001b[0mlog2\u001b[0m\u001b[0;34m(\u001b[0m\u001b[0mx\u001b[0m\u001b[0;34m)\u001b[0m\u001b[0;34m:\u001b[0m\u001b[0;34m\u001b[0m\u001b[0;34m\u001b[0m\u001b[0m\n\u001b[1;32m     41\u001b[0m     \u001b[0;34m\"\"\"Rounded version of ``log2``.\"\"\"\u001b[0m\u001b[0;34m\u001b[0m\u001b[0;34m\u001b[0m\u001b[0m\n\u001b[0;32m---> 42\u001b[0;31m     \u001b[0;32mreturn\u001b[0m \u001b[0mround\u001b[0m\u001b[0;34m(\u001b[0m\u001b[0m_log2\u001b[0m\u001b[0;34m(\u001b[0m\u001b[0mx\u001b[0m\u001b[0;34m)\u001b[0m\u001b[0;34m,\u001b[0m \u001b[0mconfig\u001b[0m\u001b[0;34m.\u001b[0m\u001b[0mPRECISION\u001b[0m\u001b[0;34m)\u001b[0m\u001b[0;34m\u001b[0m\u001b[0;34m\u001b[0m\u001b[0m\n\u001b[0m\u001b[1;32m     43\u001b[0m \u001b[0;34m\u001b[0m\u001b[0m\n\u001b[1;32m     44\u001b[0m \u001b[0;34m\u001b[0m\u001b[0m\n",
      "\u001b[0;31mValueError\u001b[0m: math domain error"
     ]
    }
   ],
   "source": [
    "# now lets calulate IIT values and backtracking for all data\n",
    "\n",
    "experiment_list=['deterministic_1-7','deterministic_1-3-15-7','combined_1-7','combined_1-3-15-7']\n",
    "pyphi.config.PROGRESS_BARS=False\n",
    "for experiment in experiment_list:\n",
    "    for run in range(4):\n",
    "        print('run: {}'.format(run))\n",
    "        for agent in range(0,60,10):\n",
    "            print('agent: {}'.format(agent))\n",
    "            ani = dats.loc[(dats['Experiment']==experiment) & (dats['Run']==run) & (dats['agent']==agent)]['animat'][0]\n",
    "            ani.saveUniqueTransitions()\n",
    "            ani.saveUniqueStates()\n",
    "            ani.save_major_complex()\n",
    "            ani.save_unique_causal_links()\n",
    "            ani.acg_chain = get_average_causal_chain(ani,10)\n",
    "            dats.loc[(dats['Experiment']==experiment) & (dats['Run']==run) & (dats['agent']==agent)]['animat'][0] = ani"
   ]
  },
  {
   "cell_type": "code",
   "execution_count": null,
   "metadata": {},
   "outputs": [],
   "source": [
    "\n",
    "maxphi = []\n",
    "meanphi = []\n",
    "maxconcepts = []\n",
    "meanconcepts = []\n",
    "\n",
    "for d in range(dats):\n",
    "    ani = dats.iloc[d]['animat']\n",
    "    allphis = []\n",
    "    numconcepts = []\n",
    "    for n in ani.enumerated_states[1:]:\n",
    "        allphis.append(ani.MCs[n].phi)\n",
    "        numconcepts.append(len(ani.MCs[n].ces))\n",
    "\n",
    "    meanconcepts.append(np.mean(numconcepts))\n",
    "    maxconcepts.append(np.max(numconcepts))\n",
    "    meanphi.append(np.mean(allphis))\n",
    "    maxph.append(np.max(allphis))"
   ]
  },
  {
   "cell_type": "code",
   "execution_count": null,
   "metadata": {},
   "outputs": [],
   "source": [
    "def get_average_causal_chain2(animat,max_backsteps=3):\n",
    "\n",
    "    n_trials = animat.brain_activity.shape[0]\n",
    "    n_steps = animat.brain_activity.shape[1]\n",
    "    n_nodes = animat.brain_activity.shape[2]\n",
    "    CC = np.zeros((n_trials,max_backsteps,n_nodes))\n",
    "    for tr in range(n_trials):\n",
    "        for t in range(max_backsteps,n_steps):\n",
    "            CC[tr,:,:] = backtrack_cause(animat, tr, t, animat.motor_ixs, max_backsteps)\n",
    "\n",
    "    return np.mean(CC,0)"
   ]
  },
  {
   "cell_type": "code",
   "execution_count": null,
   "metadata": {},
   "outputs": [],
   "source": [
    "get_average_causal_chain2(ani,4)"
   ]
  },
  {
   "cell_type": "code",
   "execution_count": null,
   "metadata": {},
   "outputs": [],
   "source": [
    "aa = ani.MCs[n]"
   ]
  },
  {
   "cell_type": "code",
   "execution_count": null,
   "metadata": {},
   "outputs": [],
   "source": [
    "len(aa.ces)"
   ]
  },
  {
   "cell_type": "code",
   "execution_count": null,
   "metadata": {},
   "outputs": [],
   "source": []
  },
  {
   "cell_type": "code",
   "execution_count": null,
   "metadata": {},
   "outputs": [],
   "source": [
    "a\n"
   ]
  },
  {
   "cell_type": "code",
   "execution_count": null,
   "metadata": {},
   "outputs": [],
   "source": [
    "a[:,(1,2)]+=1"
   ]
  },
  {
   "cell_type": "code",
   "execution_count": null,
   "metadata": {},
   "outputs": [],
   "source": [
    "a\n"
   ]
  },
  {
   "cell_type": "code",
   "execution_count": null,
   "metadata": {},
   "outputs": [],
   "source": [
    "lt = []\n",
    "lt.append(ani.get_transition(0, 1))\n",
    "lt.append(ani.get_transition(0, 2))\n",
    "lt\n",
    "\n",
    "t = ((1, 0, 0, 0, 0, 0, 0, 0), (0, 0, 1, 1, 0, 1, 0, 0))\n",
    "\n",
    "t in lt"
   ]
  },
  {
   "cell_type": "code",
   "execution_count": null,
   "metadata": {
    "scrolled": true
   },
   "outputs": [],
   "source": [
    "# setting required variables and output lists\n",
    "n_trials = ani.brain_activity.shape[0]\n",
    "n_times = ani.brain_activity.shape[1]\n",
    "unique_transitions = []\n",
    "unique_transitions_compressed = []\n",
    "unique_idxs = []\n",
    "\n",
    "# defining the trials that will be searched\n",
    "trials = range(n_trials)\n",
    "\n",
    "# looping through trials and time points\n",
    "for trial in trials:\n",
    "    for t in range(1,n_times):\n",
    "        # getting current transition and checking if it is new\n",
    "        transition = ani.get_transition(trial, t, trim=True)\n",
    "        print(transition)\n",
    "        print(unique_transitions)\n",
    "        if transition not in unique_transitions:\n",
    "            unique_transitions.append(transition)\n",
    "            unique_idxs.append((trial, t))"
   ]
  },
  {
   "cell_type": "code",
   "execution_count": null,
   "metadata": {},
   "outputs": [],
   "source": [
    "t"
   ]
  },
  {
   "cell_type": "code",
   "execution_count": null,
   "metadata": {},
   "outputs": [],
   "source": [
    "# for analysis, lets pick a single animat (can be looped over)\n",
    "Experiment = 'combined_1-7'\n",
    "Run = 10\n",
    "Agent = 60\n",
    "\n",
    "ani = dats.loc[(dats['Experiment']==Experiment) & (dats['agent']==Agent) & (dats['Run']==Run)]['animat'][0]\n"
   ]
  },
  {
   "cell_type": "code",
   "execution_count": null,
   "metadata": {
    "scrolled": true
   },
   "outputs": [],
   "source": [
    "# calculate phi and complex for every unique state\n",
    "\n",
    "# first get all unique states\n",
    "ani.UniqueStates,ani.UniqueStataeNums = agency.get_unique_states(ani.brain_activity)\n",
    "\n",
    "# looping through all unique states\n",
    "IIT_vals = []\n",
    "allphis = []\n",
    "allconcepts = []\n",
    "allsize = []\n",
    "alllabels = []\n",
    "for s in ani.UniqueStates:\n",
    "    sia = pyphi.compute.complexes(ani.brain,s)\n",
    "    \n",
    "    state_vals = []\n",
    "    if len(sia)>0:\n",
    "        for c in sia:\n",
    "            allphis.append(c.phi)\n",
    "            allconcepts.append(len(c.ces.mechanisms))\n",
    "            allsize.append(len(c.subsystem.node_indices))\n",
    "            alllabels.append(c.subsystem.node_indices)\n",
    "            \n",
    "            IIT_vals.append({'State' : s,\n",
    "                         'Phi' : c.phi, \n",
    "                         'NumConcepts' : len(c.ces.mechanisms), \n",
    "                         'SizeComplex' : len(c.subsystem.node_indices), \n",
    "                         'ComplexLabels' : c.subsystem.node_indices})\n",
    "    else:\n",
    "        IIT_vals.append({'State' : s,\n",
    "                     'Phi' : 0, \n",
    "                     'NumConcepts' : 0, \n",
    "                     'SizeComplex' : 0, \n",
    "                     'ComplexLabels' : None})\n",
    "\n",
    "    \n"
   ]
  },
  {
   "cell_type": "code",
   "execution_count": null,
   "metadata": {},
   "outputs": [],
   "source": [
    "def get_unique_complexes(ani):\n",
    "    IIT_vals = []\n",
    "    allphis = []\n",
    "    allconcepts = []\n",
    "    allsize = []\n",
    "    alllabels = []\n",
    "    for s in ani.UniqueStates:\n",
    "        sia = pyphi.compute.complexes(ani.brain,s)\n",
    "\n",
    "        state_vals = []\n",
    "        if len(sia)>0:\n",
    "            for c in sia:\n",
    "                allphis.append(c.phi)\n",
    "                allconcepts.append(len(c.ces.mechanisms))\n",
    "                allsize.append(len(c.subsystem.node_indices))\n",
    "                alllabels.append(c.subsystem.node_indices)\n",
    "\n",
    "                IIT_vals.append({'State' : s,\n",
    "                             'Phi' : c.phi, \n",
    "                             'NumConcepts' : len(c.ces.mechanisms), \n",
    "                             'SizeComplex' : len(c.subsystem.node_indices), \n",
    "                             'ComplexLabels' : c.subsystem.node_indices,\n",
    "                             'NumComplexes' : len(sia)})\n",
    "        else:\n",
    "            IIT_vals.append({'State' : s,\n",
    "                         'Phi' : 0, \n",
    "                         'NumConcepts' : 0, \n",
    "                         'SizeComplex' : 0, \n",
    "                         'ComplexLabels' : None,\n",
    "                         'NumComplexes' : 0})\n",
    "    \n",
    "    ani.IIT_values = IIT_vals\n",
    "    ani.all_phis = allphis\n",
    "    ani.all_concepts = allconcepts\n",
    "    ani.all_labels = alllabels\n",
    "    return ani\n",
    "    "
   ]
  },
  {
   "cell_type": "code",
   "execution_count": null,
   "metadata": {},
   "outputs": [],
   "source": [
    "\n",
    "\n",
    "# first get all unique states\n",
    "ani.UniqueStates,ani.UniqueStataeNums = agency.get_unique_states(ani.brain_activity)\n"
   ]
  },
  {
   "cell_type": "code",
   "execution_count": null,
   "metadata": {
    "scrolled": true
   },
   "outputs": [],
   "source": [
    "ani = get_unique_complexes(ani)"
   ]
  },
  {
   "cell_type": "code",
   "execution_count": null,
   "metadata": {
    "scrolled": true
   },
   "outputs": [],
   "source": [
    "\n",
    "IIT_vals = []\n",
    "allphis = []\n",
    "allconcepts = []\n",
    "allsize = []\n",
    "alllabels = []\n",
    "for s in ani.UniqueStates:\n",
    "    sia = pyphi.compute.complexes(ani.brain,s)\n",
    "\n",
    "    state_vals = []\n",
    "    if len(sia)>0:\n",
    "        for c in sia:\n",
    "            allphis.append(c.phi)\n",
    "            allconcepts.append(len(c.ces.mechanisms))\n",
    "            allsize.append(len(c.subsystem.node_indices))\n",
    "            alllabels.append(c.subsystem.node_indices)\n",
    "\n",
    "            IIT_vals.append({'State' : s,\n",
    "                         'Phi' : c.phi, \n",
    "                         'NumConcepts' : len(c.ces.mechanisms), \n",
    "                         'SizeComplex' : len(c.subsystem.node_indices), \n",
    "                         'ComplexLabels' : c.subsystem.node_indices,\n",
    "                         'NumComplexes' : len(sia)})\n",
    "    else:\n",
    "        IIT_vals.append({'State' : s,\n",
    "                     'Phi' : 0, \n",
    "                     'NumConcepts' : 0, \n",
    "                     'SizeComplex' : 0, \n",
    "                     'ComplexLabels' : None,\n",
    "                     'NumComplexes' : 0})\n",
    "\n",
    "ani.IIT_values = IIT_vals\n",
    "ani.all_phis = allphis\n",
    "ani.all_concepts = allconcepts\n",
    "ani.all_labels = alllabels"
   ]
  },
  {
   "cell_type": "code",
   "execution_count": null,
   "metadata": {},
   "outputs": [],
   "source": [
    "print([ani.IIT_values[i]['NumComplexes'] for i in range(len(ani.IIT_values))])"
   ]
  },
  {
   "cell_type": "code",
   "execution_count": null,
   "metadata": {},
   "outputs": [],
   "source": [
    "# give the animat object a complex and a value of phi associated to every state in its activity\n",
    "\n",
    "\n"
   ]
  },
  {
   "cell_type": "code",
   "execution_count": null,
   "metadata": {},
   "outputs": [],
   "source": [
    "# calculate direct cause for motor activity for every unique transition \n",
    "\n",
    "\n"
   ]
  },
  {
   "cell_type": "code",
   "execution_count": null,
   "metadata": {},
   "outputs": [],
   "source": [
    "# Backtrack the causes of action for every motor state and add result to the animat structure\n",
    "\n",
    "\n"
   ]
  },
  {
   "cell_type": "code",
   "execution_count": null,
   "metadata": {},
   "outputs": [],
   "source": [
    "s = ani.UniqueStates[0]\n",
    "s\n"
   ]
  },
  {
   "cell_type": "code",
   "execution_count": null,
   "metadata": {},
   "outputs": [],
   "source": [
    "out"
   ]
  },
  {
   "cell_type": "code",
   "execution_count": null,
   "metadata": {},
   "outputs": [],
   "source": [
    "dats.loc[(dats['Experiment']==Experiment) & (dats['agent']==Agent) & (dats['Run']==Run)]['mean Phi'][0]"
   ]
  },
  {
   "cell_type": "code",
   "execution_count": null,
   "metadata": {},
   "outputs": [],
   "source": [
    "ani.brain"
   ]
  },
  {
   "cell_type": "code",
   "execution_count": null,
   "metadata": {},
   "outputs": [],
   "source": []
  }
 ],
 "metadata": {
  "kernelspec": {
   "display_name": "Python 3",
   "language": "python",
   "name": "python3"
  },
  "language_info": {
   "codemirror_mode": {
    "name": "ipython",
    "version": 3
   },
   "file_extension": ".py",
   "mimetype": "text/x-python",
   "name": "python",
   "nbconvert_exporter": "python",
   "pygments_lexer": "ipython3",
   "version": "3.7.4"
  }
 },
 "nbformat": 4,
 "nbformat_minor": 2
}
